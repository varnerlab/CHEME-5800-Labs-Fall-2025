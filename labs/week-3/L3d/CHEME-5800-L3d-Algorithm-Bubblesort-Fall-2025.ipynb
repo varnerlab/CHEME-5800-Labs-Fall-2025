{
 "cells": [
  {
   "cell_type": "markdown",
   "id": "b3f83d72-6471-4f16-9496-fa6ea8efbb60",
   "metadata": {},
   "source": [
    "# Bubblesort Algorithm: Conceptual Overview\n",
    "Bubblesort is a simple method for ordering a list. It involves repeatedly passing through the list, comparing adjacent items, and swapping any two neighboring items that are out of order. The process is repeated until the list is sorted.\n",
    "\n",
    "Let's look at some pseudo-code for Bubblesort:\n",
    "\n",
    "__Initialization:__ The algorithm starts with an unsorted list of elements in the vector $\\mathbf{a}$. Compute the length of the unsorted list $n \\gets \\texttt{length}(a)$. Set the flag $\\text{swapped} \\gets \\texttt{true}$ to indicate that a swap has occurred.\n",
    "\n",
    "While $\\text{swapped}$ is $\\texttt{true}$ __do__:\n",
    "1. Set a flag $\\text{swapped} \\gets \\texttt{false}$.\n",
    "2. For each $i\\in\\left\\{1,\\ldots,n-1\\right\\}$ __do__:\n",
    "    * If $a_{i} > a_{i+1}$ __then__:\n",
    "        * Call the $\\texttt{swap}(a_{i}, a_{i+1})$ method to swap (exchange) the two elements.\n",
    "        * Set the flag $\\text{swapped} \\gets \\texttt{true}$ (indicating a swap was made)\n",
    "3. Update the length of the list $n \\gets n - 1$ (reduce the length of the list by 1). Go to the while statement.\n",
    "4. If $\\text{swapped} \\gets \\texttt{false}$ then: the vector $\\mathbf{a}$ is sorted, and the algorithm terminates."
   ]
  },
  {
   "cell_type": "markdown",
   "id": "7ed7297f",
   "metadata": {},
   "source": [
    "where the $\\texttt{swap}(a_{i}, a_{i+1})$ method does the following:\n",
    "\n",
    "__Initialize__: Given two elements $a_{i}$ and $a_{i+1}$, we will swap them if they are out of order. The algorithm starts with the first element $a_{i}$ and the second element $a_{i+1}$.\n",
    "1. Set a temporary variable $t \\gets a_{i}$.\n",
    "2. Set $a_{i} \\gets a_{i+1}$.\n",
    "3. Set $a_{i+1} \\gets t$.\n",
    "4. Return the swapped elements $a_{i}$ and $a_{i+1}$."
   ]
  },
  {
   "cell_type": "markdown",
   "id": "7a212d72",
   "metadata": {},
   "source": [
    "### Worst-case time complexity\n",
    "The worst-case time complexity of Bubblesort is $\\mathcal{O}(n^2)$, where $n$ is the number of elements in the unsorted list. Let's see where this performance bound comes from.\n",
    "\n",
    "#### Analysis\n",
    "The number of comparisons is $n-1$ for the first pass, $n-2$ for the second pass, and so on, until we reach 1 comparison. This gives us a total of $n-1 + n-2 + \\ldots + 1 = \\frac{(n-1)(n)}{2}$ comparisons. Further, in the worst case, the number of swaps is at most the number of comparisons, i.e., we make a swap for each comparison. Thus, we expect $\\frac{(n-1)(n)}{2}$ swaps. Let the time per comparison be $c$ and the time per swap be $s$ (constant). Then, the total time as a function of $n$, denoted as $T(n)$, is given by: \n",
    "$$\\begin{align*}\n",
    "T(n) &= \\underbrace{c\\cdot\\left(\\frac{(n-1)(n)}{2}\\right)}_{\\text{comparisons}} + \\underbrace{s\\cdot\\left(\\frac{(n-1)(n)}{2}\\right)}_{\\text{swaps}} \\\\\n",
    "&= c\\cdot\\frac{n^2 - n}{2} + s\\cdot\\frac{n^2 - n}{2} \\\\\n",
    "&= \\left(c + s\\right)\\cdot\\frac{n^2 - n}{2} \\\\\n",
    "&\\sim \\mathcal{O}(n^2)\\,\\blacksquare\n",
    "\\end{align*}$$\n",
    "\n",
    "___"
   ]
  }
 ],
 "metadata": {
  "kernelspec": {
   "display_name": "Julia 1.11.6",
   "language": "julia",
   "name": "julia-1.11"
  },
  "language_info": {
   "file_extension": ".jl",
   "mimetype": "application/julia",
   "name": "julia",
   "version": "1.11.6"
  }
 },
 "nbformat": 4,
 "nbformat_minor": 5
}
