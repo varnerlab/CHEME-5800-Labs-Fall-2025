{
 "cells": [
  {
   "cell_type": "markdown",
   "id": "17b3689c-fa42-45ce-8f0c-67b45d7a162d",
   "metadata": {},
   "source": [
    "# Quicksort Algorithm: Conceptual Overview\n",
    "So far, we've seen recursion in the context of mathematical functions, but recursion is also a powerful tool for solving algorithmic problems. One classic example is the QuickSort algorithm, which uses recursion to sort an array of elements.\n",
    "\n",
    "> __How does Quicksort work?__ Quicksort is a recursive sorting algorithm that works by selecting a pivot element and partitioning the remaining elements into two sub-arrays based on their value relative to the pivot. The algorithm then recursively sorts the sub-arrays until they have fewer than two elements. The choice of pivot is critical for the algorithm's efficiency.\n",
    "\n",
    "Let's look at some pseudocode to illustrate the basic idea of Quicksort. \n",
    "\n",
    "__Initialization__: You are given an unsorted numerical array $\\mathbf{x}\\in \\mathbb{R}^n$ of $n$ elements, and you want to sort it in ascending order.\n",
    "\n",
    "__Base case__: If $|\\mathbf{x}|\\leq{1}$, then the array is already sorted, and we can return it as is. \n",
    "\n",
    "__Recursive case__: Otherwise, we proceed with the following steps:\n",
    "1. Select a pivot element $x_{\\star}\\in\\mathbf{x}$ from the array (a common choice is the last element).\n",
    "2. Partition the remaining elements $\\mathbf{x} \\setminus \\{x_{\\star}\\}$ into two sub-arrays:\n",
    "   - Left array: $\\mathbf{L} = \\{x\\in\\mathbf{x} \\setminus \\{x_{\\star}\\} \\mid x \\leq x_{\\star}\\}$ (elements less than or equal to the pivot)\n",
    "   - Right array: $\\mathbf{R} = \\{x\\in\\mathbf{x} \\setminus \\{x_{\\star}\\} \\mid x > x_{\\star}\\}$ (elements greater than the pivot)\n",
    "3. Recursively sort the left $\\mathbf{L}$ and right $\\mathbf{R}$ sub-arrays.\n",
    "4. Combine the sorted sub-arrays and the pivot to form the final sorted array:\n",
    "   - Return $\\texttt{sort}(\\mathbf{L}) + [x_{\\star}] + \\texttt{sort}(\\mathbf{R})$\n",
    "\n",
    "> __Key insight__: Notice that the pivot $x_{\\star}$ is __excluded__ from both recursive calls. This prevents infinite recursion and ensures the algorithm terminates, even when there are duplicate elements in the array.\n",
    "\n",
    "Again this seems like magic, but the magic is in the recursive structure of the algorithm. Each recursive call breaks down the problem into smaller subproblems until we reach the base case, where the array is trivially sorted.\n",
    "\n",
    "___"
   ]
  }
 ],
 "metadata": {
  "kernelspec": {
   "display_name": "Julia 1.11.6",
   "language": "julia",
   "name": "julia-1.11"
  },
  "language_info": {
   "file_extension": ".jl",
   "mimetype": "application/julia",
   "name": "julia",
   "version": "1.11.6"
  }
 },
 "nbformat": 4,
 "nbformat_minor": 5
}
