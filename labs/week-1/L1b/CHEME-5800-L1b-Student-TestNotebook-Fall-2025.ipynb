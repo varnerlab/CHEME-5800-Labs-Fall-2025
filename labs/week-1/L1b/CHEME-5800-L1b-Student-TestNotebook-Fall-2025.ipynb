{
 "cells": [
  {
   "cell_type": "markdown",
   "id": "02399095-fca8-4b45-960e-60119ee99b5c",
   "metadata": {},
   "source": [
    "# L1b: Let's test a notebook!\n",
    "In this test, we'll load [the `Include.jl` file](src/Include.jl) using [the `include(...)` method](https://docs.julialang.org/en/v1/base/base/#include), then we'll run some simple plotting commands using [methods exported by the `UnicodePlots.jl` package](https://github.com/JuliaPlots/UnicodePlots.jl)\n",
    "\n",
    "> __What does `include(...)` do?__ The [include command](https://docs.julialang.org/en/v1/base/base/#include) evaluates the contents of the input source file, [`Include.jl`](src/Include.jl), in the notebook's global scope. The `Include.jl` file sets paths, loads required external packages, etc. For additional information on functions and types used in this material, see the [Julia programming language documentation](https://docs.julialang.org/en/v1/). \n",
    "\n",
    "Let's go!\n",
    "___"
   ]
  },
  {
   "cell_type": "markdown",
   "id": "151e97f3-bf3f-401d-83ac-ad76d32098d3",
   "metadata": {},
   "source": [
    "## Setup, Data, and Prerequisites\n",
    "\n",
    "In our case, our `Include.jl` file will set paths so our notebook knows were to find things, and then will load external packages in the global score with [the `using` command](https://docs.julialang.org/en/v1/base/base/#using). This makes the content of the package visible to us. "
   ]
  },
  {
   "cell_type": "code",
   "execution_count": null,
   "id": "0daa5004-a05c-498d-879a-58c5fb290b5b",
   "metadata": {},
   "outputs": [],
   "source": [
    "# TODO: uncomment the line below, and run the cell to setup the computational Environment\n",
    "include(joinpath(@__DIR__, \"Include.jl\")); # what is going on here?"
   ]
  },
  {
   "cell_type": "markdown",
   "id": "86233f56-43e0-4482-9f8f-9c7bbf69f51f",
   "metadata": {},
   "source": [
    "Now that we have our environment setup, we can do some stuff."
   ]
  },
  {
   "cell_type": "markdown",
   "id": "b4c2ba40-15f8-4def-a9bd-7a82c4551ba1",
   "metadata": {},
   "source": [
    "## Task 1: Let's build and visualize a Normal Distribution\n",
    "In this task, let's test our installation by smapling a model of [a Normal probability distribution](https://en.wikipedia.org/wiki/Normal_distribution), and then visualizing the samples. First, let's draw sample from the distribution and save them in the `samples::Array{Float64,1}` array. \n",
    "\n",
    "> __What is the `let` block?__ The [`let` block](https://docs.julialang.org/en/v1/base/base/#let) creates a new hard scope and optionally introduces new local bindings. Variables introduced inside a `let` block are local to that block and don't affect variables of the same name in the outer scope. In our case, the `let` block allows us to create local variables (`number_of_samples` and the local `samples`) that are only visible within the block, while the final value of `samples` is returned and assigned to the global variable `samples`. This is a common Julia pattern for organizing code and avoiding namespace pollution.\n",
    "\n",
    "We use [the built-in `randn(...)` method](https://docs.julialang.org/en/v1.11/stdlib/Random/#Base.randn) to generate samples from a standard normal distribution (mean 0, variance 1)."
   ]
  },
  {
   "cell_type": "code",
   "execution_count": 1,
   "id": "18d55b6f-e54f-4cb5-a4aa-eb70a91b6cbf",
   "metadata": {},
   "outputs": [],
   "source": [
    "samples = let\n",
    "\n",
    "    # initialize -\n",
    "    number_of_samples = 10000; # set the number of samples we want to generate\n",
    "    samples = nothing;\n",
    "\n",
    "    # TODO: uncomment the line below to generate samples from a standard normal distribution\n",
    "    # samples = randn(number_of_samples);\n",
    "\n",
    "    samples; # return\n",
    "end;"
   ]
  },
  {
   "cell_type": "markdown",
   "id": "f0b91fd5-749f-45ed-9d91-bd33efca1652",
   "metadata": {},
   "source": [
    "Now, let's plot the `sample::Array{Float64,1}` array using [the `histogram(...)` method exported by the `UnicodePlots.jl` package](https://juliaplots.org/UnicodePlots.jl/dev/api/#UnicodePlots.histogram-Tuple%7BAbstractArray%7D). "
   ]
  },
  {
   "cell_type": "code",
   "execution_count": 2,
   "id": "96fd5cc1-eabe-442e-bc24-46545f9631c1",
   "metadata": {},
   "outputs": [
    {
     "data": {
      "text/plain": [
       ":left"
      ]
     },
     "metadata": {},
     "output_type": "display_data"
    }
   ],
   "source": [
    "let\n",
    "\n",
    "    # initialize -\n",
    "    data = samples; # random array\n",
    "    number_of_bins = 20; # how many bins?\n",
    "    vertical = false; # vertical or horizontal?\n",
    "    closed = :left; # which side of the interval is closed?\n",
    "\n",
    "    # TODO: uncomment the line below to make the histogram\n",
    "    # histogram(data, nbins=number_of_bins, vertical = vertical, closed = closed); \n",
    "end"
   ]
  },
  {
   "cell_type": "code",
   "execution_count": 3,
   "id": "ff8f17e7",
   "metadata": {},
   "outputs": [],
   "source": [
    "do_you_see_the_histogram = false; # TODO: update this flag if you see the histogram for the normal distribution"
   ]
  },
  {
   "cell_type": "markdown",
   "id": "5c7a0d4a",
   "metadata": {},
   "source": [
    "## Task 2: Can we see code that we wrote?\n",
    "In this task, we check that methdos that we wrote (that were included when we called the `Include.jl` file) are now visible. In [the `HelloWorld.jl` file](src/HelloWorld.jl), we defined a simple method called `printgreeting()` that prints \"Hello, World!\" to the screen. Let's call it and see if it works.\n",
    "\n",
    "We'll save the response in the `message_that_we_get::String` variable:"
   ]
  },
  {
   "cell_type": "code",
   "execution_count": 4,
   "id": "0024a3d5",
   "metadata": {},
   "outputs": [],
   "source": [
    "message_that_we_get = nothing; # initialize to nothing\n",
    "# message_that_we_get = printgreeting() # TODO: call a method we defined, should return \"Hello, World!\""
   ]
  },
  {
   "cell_type": "markdown",
   "id": "0d14915b",
   "metadata": {},
   "source": [
    "## Tests\n",
    "In the code block below, we check some values in your notebook and give you feedback on which items are correct or different. `Unhide` the code block below (if you are curious) about how we implemented the tests and what we are testing."
   ]
  },
  {
   "cell_type": "code",
   "execution_count": 5,
   "id": "ca46bd9a",
   "metadata": {},
   "outputs": [
    {
     "ename": "LoadError",
     "evalue": "LoadError: UndefVarError: `@testset` not defined in `Main`\nSuggestion: check for spelling errors or missing imports.\nin expression starting at c:\\Users\\saman\\Downloads\\temp for 4800\\CHEME-5800-Labs-Fall-2025\\labs\\week-1\\L1b\\jl_notebook_cell_df34fa98e69747e1a8f8a730347b8e2f_X15sZmlsZQ==.jl:3",
     "output_type": "error",
     "traceback": [
      "LoadError: UndefVarError: `@testset` not defined in `Main`\n",
      "Suggestion: check for spelling errors or missing imports.\n",
      "in expression starting at c:\\Users\\saman\\Downloads\\temp for 4800\\CHEME-5800-Labs-Fall-2025\\labs\\week-1\\L1b\\jl_notebook_cell_df34fa98e69747e1a8f8a730347b8e2f_X15sZmlsZQ==.jl:3\n"
     ]
    }
   ],
   "source": [
    "let\n",
    "\n",
    "    @testset verbose = true \"CHEME 4/5800 L1b Test Suite\" begin\n",
    "        \n",
    "        # Test 1: Environment Setup\n",
    "        @testset \"Environment Setup Tests\" begin\n",
    "            @test @isdefined _DID_INCLUDE_GET_CALLED\n",
    "            @test _DID_INCLUDE_GET_CALLED == true\n",
    "            @test @isdefined printgreeting\n",
    "        end\n",
    "        \n",
    "        # Test 2: Sample Generation Tests\n",
    "        @testset \"Sample Generation Tests\" begin\n",
    "            @test @isdefined samples\n",
    "            @test isa(samples, Array{Float64,1})\n",
    "            @test length(samples) == 10000\n",
    "            @test !isempty(samples)\n",
    "            \n",
    "            # Statistical properties of normal distribution\n",
    "            sample_mean = Statistics.mean(samples)\n",
    "            sample_std = Statistics.std(samples)\n",
    "            @test abs(sample_mean) < 0.1\n",
    "            @test abs(sample_std - 1.0) < 0.1\n",
    "        end\n",
    "        \n",
    "        # Test 3: Histogram Flag Tests\n",
    "        @testset \"Histogram Flag Tests\" begin\n",
    "            @test @isdefined do_you_see_the_histogram\n",
    "            @test isa(do_you_see_the_histogram, Bool)\n",
    "        end\n",
    "        \n",
    "        # Test 4: HelloWorld Function Tests\n",
    "        @testset \"HelloWorld Function Tests\" begin\n",
    "            @test @isdefined message_that_we_get\n",
    "            @test isa(message_that_we_get, String)\n",
    "            @test message_that_we_get == \"Hello World!\"\n",
    "            \n",
    "            # Test the function directly\n",
    "            greeting = printgreeting()\n",
    "            @test greeting == \"Hello World!\"\n",
    "            @test isa(greeting, String)\n",
    "        end\n",
    "        \n",
    "        # Test 5: Data Type and Structure Tests\n",
    "        @testset \"Data Type and Structure Tests\" begin\n",
    "            # Test that all variables have expected types\n",
    "            @test isa(samples, Vector)\n",
    "            @test eltype(samples) == Float64\n",
    "            \n",
    "            # Test that samples are finite (no NaN or Inf values)\n",
    "            @test all(isfinite.(samples))\n",
    "            \n",
    "            # Test range - normal distribution should have most values within ±4 standard deviations\n",
    "            extreme_values = count(abs.(samples) .> 4.0)\n",
    "            @test extreme_values < 100\n",
    "        end\n",
    "        \n",
    "        # Test 6: Package and Function Availability Tests\n",
    "        @testset \"Package and Function Availability Tests\" begin\n",
    "            @test @isdefined histogram\n",
    "            @test @isdefined randn\n",
    "        end\n",
    "    end\n",
    "end;"
   ]
  }
 ],
 "metadata": {
  "kernelspec": {
   "display_name": "Julia 1.11.6",
   "language": "julia",
   "name": "julia-1.11"
  },
  "language_info": {
   "file_extension": ".jl",
   "mimetype": "application/julia",
   "name": "julia",
   "version": "1.11.6"
  }
 },
 "nbformat": 4,
 "nbformat_minor": 5
}
