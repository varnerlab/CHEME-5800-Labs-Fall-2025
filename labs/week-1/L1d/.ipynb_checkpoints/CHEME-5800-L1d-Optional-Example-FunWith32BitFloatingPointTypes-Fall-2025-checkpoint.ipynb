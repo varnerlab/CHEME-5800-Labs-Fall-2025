{
 "cells": [
  {
   "cell_type": "markdown",
   "id": "1379b96b-d905-4b92-838a-b0cc276a4fe1",
   "metadata": {},
   "source": [
    "# Optional Example: Fun with 32-bit Floating Point Numbers\n",
    "Most of the time (depending on your hardware), you'll use 64-bit floating-point numbers by default. However, many machine learning applications use `Float32` as their default precision. \n",
    "\n",
    "> __Why do we care?__ The `Float32` type offers a sweet spot for deep learning: its 24‐bit significand (which gives seven decimal digits) and 8‐bit exponent provide sufficient precision and dynamic range for most applications, halving the memory footprint compared to `Float64`. This enables computation leveraging specialized hardware optimized specifically for 32-bit arithmetic.\n",
    "\n",
    "In this example, you'll explore the memory layout of a `Float32`, and compute this floating point type's dynamic range and precision limits.\n",
    "___"
   ]
  },
  {
   "cell_type": "markdown",
   "id": "10c525ce",
   "metadata": {},
   "source": [
    "<div>\n",
    "    <center>\n",
    "        <img src=\"figs/Fig-Float32-bit-pattern.svg\" width=\"680\"/>\n",
    "    </center>\n",
    "</div>"
   ]
  },
  {
   "cell_type": "markdown",
   "id": "7d2cabb5-b941-4fa5-8a6b-0da8b9d470f2",
   "metadata": {},
   "source": [
    "## Example 32-bit memory layout\n",
    "Suppose we have a floating point number $x\\in\\mathbb{R}$ that is approximated as a 32-bit variable in memory. A 32-bit number $x\\in\\mathbb{R}$ is encoded in memory as:\n",
    "$$\n",
    "\\begin{align*}\n",
    "x = \\underbrace{S}_{\\text{sign}}\\times\\underbrace{\\text{significand}}_{\\text{fraction}}\\times\\underbrace{{2^{E-127}}}_{\\text{scale}}\n",
    "\\end{align*}\n",
    "$$\n",
    "where:\n",
    "$$\n",
    "\\begin{align*}\n",
    "S &= -1^{d_{31}}\\\\\n",
    "\\text{significand} &= 1 + \\sum_{i = 1}^{23}d_{i}2^{-i}\\\\\n",
    "E &= \\sum_{i=23}^{30}d_{i}2^{i - 23}\n",
    "\\end{align*}\n",
    "$$\n",
    "where $d_{i}$ denotes the digit at position $i$ in the number. Notice the difference between the 64- and 32-bit numbers: the number of elements used to compute the significand and the exponent terms are different, and the location of the sign bit has changed, but otherwise they have a similar structural layout in memory.\n",
    "\n",
    "Now, let's compute the components of the 32-bit representation of $x\\in\\mathbb{R}$. First, specify an example number, save it in the `x::Float32` variable:"
   ]
  },
  {
   "cell_type": "code",
   "execution_count": 3,
   "id": "01fbe611-117e-4622-9d69-113371992bf5",
   "metadata": {},
   "outputs": [],
   "source": [
    "x = 141.72 |> Float32; # why do we need |> Float32?"
   ]
  },
  {
   "cell_type": "markdown",
   "id": "0b7111d9-67c0-45e5-86cf-14e36eee2d61",
   "metadata": {},
   "source": [
    "Check the type using [the `typeof(...)` method](https://docs.julialang.org/en/v1/base/base/#Core.typeof):"
   ]
  },
  {
   "cell_type": "code",
   "execution_count": 5,
   "id": "7de6a1ad-6866-43e7-a1f1-68f31c96c65b",
   "metadata": {},
   "outputs": [
    {
     "data": {
      "text/plain": [
       "true"
      ]
     },
     "execution_count": 5,
     "metadata": {},
     "output_type": "execute_result"
    }
   ],
   "source": [
    "typeof(x) == Float32 # if Float32, this should be true"
   ]
  },
  {
   "cell_type": "markdown",
   "id": "9fa21b5e-5ea8-441d-a291-60bbbf15984f",
   "metadata": {},
   "source": [
    "Next, let's use [the `bitstring(...)` method](https://docs.julialang.org/en/v1/base/numbers/#Base.bitstring) to generate the bits of our 32-bit floating point number $x$ as a `String`, and then convert and save the bitstring into a `0`-based dictionary called `d::Dict{Int,Int}`:"
   ]
  },
  {
   "cell_type": "code",
   "execution_count": 7,
   "id": "3849587d-57f0-4896-9ccf-0245d680d51a",
   "metadata": {},
   "outputs": [],
   "source": [
    "d = let\n",
    "\n",
    "    # initialize -\n",
    "    bitpattern_dictionary = Dict{Int64,Int64}(); # storage for the 0-based bit pattern\n",
    "    wordsize = 32; # how many boxes do we have?\n",
    "    a = bitstring(x) |> reverse |> collect .|> v-> parse(Int64, v) # fancy. Nothing to see here, move along (for now anyway).\n",
    "    \n",
    "    # put stuff in the dictionary\n",
    "    for i ∈ 0:(wordsize-1)\n",
    "        bitpattern_dictionary[i] = a[i+1];\n",
    "    end\n",
    "    bitpattern_dictionary # return to caller\n",
    "end;"
   ]
  },
  {
   "cell_type": "markdown",
   "id": "faa5195f-9f53-4dff-b702-020924c5b93f",
   "metadata": {},
   "source": [
    "### Sign term\n",
    "Now that we have the bitpattern dictionary `d::Dict{Int, Int}`, we can compute the three components of our floating point number. Let's start with the sign, which we'll save in the `S:Float64` variable:"
   ]
  },
  {
   "cell_type": "code",
   "execution_count": 9,
   "id": "d55ebc53-423a-4672-9f87-3f641a4ea06e",
   "metadata": {},
   "outputs": [
    {
     "data": {
      "text/plain": [
       "1.0"
      ]
     },
     "execution_count": 9,
     "metadata": {},
     "output_type": "execute_result"
    }
   ],
   "source": [
    "S = let\n",
    "    S = (-1.0)^(d[31]);\n",
    "end"
   ]
  },
  {
   "cell_type": "markdown",
   "id": "1b22e043-406d-48ce-b01d-b4a4be6c78b6",
   "metadata": {},
   "source": [
    "### Significand\n",
    "Next, let's compute a value for the `significand` of $x\\in\\mathbb{R}$, which we'll store in the `calculated_significand_value::Float64` variable:"
   ]
  },
  {
   "cell_type": "code",
   "execution_count": 11,
   "id": "bfd5af18-7f4c-44a3-a23f-6bad004bf069",
   "metadata": {},
   "outputs": [
    {
     "data": {
      "text/plain": [
       "1.1071875095367432"
      ]
     },
     "execution_count": 11,
     "metadata": {},
     "output_type": "execute_result"
    }
   ],
   "source": [
    "calculated_significand_value = let\n",
    "\n",
    "    # initialize -\n",
    "    calculated_significand_value = 0.0;\n",
    "    b = 2.0; # binary, base = 2\n",
    "    msb = 23; # most significant bit (msb)\n",
    "    lsb = 1; # least significant bit (lsb)\n",
    "    significand_range_array = range(lsb,stop=msb,step=1) |> collect; # range of bits to use for the significand\n",
    "\n",
    "    for i ∈ significand_range_array\n",
    "        calculated_significand_value += (b^(-i))*d[msb-i]\n",
    "    end\n",
    "    calculated_significand_value + 1 # don't forget to add 1!\n",
    "end"
   ]
  },
  {
   "cell_type": "markdown",
   "id": "95b88e87-4150-4742-861a-5423f1dfaf5d",
   "metadata": {},
   "source": [
    "__Check__: Let's use [the `@assert` macro](https://docs.julialang.org/en/v1/base/base/#Base.@assert) to check our calculated significand value against the output of [the `significand(...)` method](https://docs.julialang.org/en/v1/base/numbers/#Base.Math.significand) using [the `==` comparison operator](https://docs.julialang.org/en/v1/manual/missing/#Equality-and-Comparison-Operators). \n",
    "> _What happens_? If [the `==` comparison](https://docs.julialang.org/en/v1/manual/missing/#Equality-and-Comparison-Operators) comes back `false`, [an `AssertionError` is thrown](https://docs.julialang.org/en/v1/base/base/#Core.AssertionError) (and we know something is wrong with our calculation). However, if the comparison comes back `true`, we can be confident that our calculation is correct (no error is thrown)."
   ]
  },
  {
   "cell_type": "code",
   "execution_count": 13,
   "id": "4e4a8a8e-13e3-420a-8efa-301958f80dcc",
   "metadata": {},
   "outputs": [],
   "source": [
    "@assert significand(x) == calculated_significand_value # compare built-in versus our calculated value"
   ]
  },
  {
   "cell_type": "markdown",
   "id": "ef835bff-e945-4105-9352-d865a7f05b35",
   "metadata": {},
   "source": [
    "### Scale term\n",
    "Now, let's compute the scale of the floating point number $x\\in\\mathbb{R}$, which requires us to calculate the exponent value $E$, which we'll store in the `E::Float64` variable. \n",
    "    \n",
    "_Aside_: Sometimes you'll see the exponent $E$ expression for a 32-bit floating point number written as:\n",
    "$$\n",
    "E = \\sum_{i=0}^{7}e_{i}2^{i}\n",
    "$$\n",
    "where the $e_{i}$'s denote _exponent bits_, i.e., digits from the original bit string whose indexes have been remapped to be $0\\rightarrow{7}$. In this convention, $e_{0} = d_{23},e_{1} = d_{24},\\dots,e_{7} = d_{30}$.  Let's implement the $0\\rightarrow{7}$ summation below:"
   ]
  },
  {
   "cell_type": "code",
   "execution_count": 15,
   "id": "7653ab51-a325-4784-bc0c-5c51e3700251",
   "metadata": {},
   "outputs": [],
   "source": [
    "E = let\n",
    "\n",
    "    # initialize -\n",
    "    calculated_exponent_value = 0.0;\n",
    "    b = 2.0; # binary, base = 2\n",
    "    msb = 30; # most significant bit (msb)\n",
    "    lsb = 23; # least significant bit (lsb)\n",
    "    exponent_bit_range_array = range(lsb, stop=msb, step = 1) |> collect\n",
    "\n",
    "    for i ∈ eachindex(exponent_bit_range_array)\n",
    "        j = exponent_bit_range_array[i]; # remap operation: i runs from 1->8 (notice not zero based), while j runs from lsb -> msb\n",
    "        calculated_exponent_value += d[j]*(b^(i - 1)) # why -1?\n",
    "    end\n",
    "    calculated_exponent_value # return\n",
    "end;"
   ]
  },
  {
   "cell_type": "markdown",
   "id": "ad55167a-cf0e-401e-9106-e3528edc2cc5",
   "metadata": {},
   "source": [
    "#### Do we get the same number $x$?\n",
    "Let's put all the pieces together and check our work. If our calculations are correct, our calculated number should be the same (evaluated [using the `==` comparison operator](https://docs.julialang.org/en/v1/manual/missing/#Equality-and-Comparison-Operators)) as the `x::Float32` value specified above. Let's use [the `@assert` macro](https://docs.julialang.org/en/v1/base/base/#Base.@assert) to check our calculated $x$ value against the original value using [the `==` comparison operator](https://docs.julialang.org/en/v1/manual/missing/#Equality-and-Comparison-Operators). \n",
    "* _What happens_? If [the `==` comparison](https://docs.julialang.org/en/v1/manual/missing/#Equality-and-Comparison-Operators) comes back `false`, [an `AssertionError` is thrown](https://docs.julialang.org/en/v1/base/base/#Core.AssertionError) (and we know something is wrong with our calculation):"
   ]
  },
  {
   "cell_type": "code",
   "execution_count": 46,
   "id": "6492fc3b-7993-453a-bca0-1d19499ea209",
   "metadata": {},
   "outputs": [],
   "source": [
    "@assert S*(calculated_significand_value)*2^(E - 127) == x # If this doesn't blow up, nice!"
   ]
  },
  {
   "cell_type": "markdown",
   "id": "6d11bb12-5376-4c96-8eba-b1350d6aac68",
   "metadata": {},
   "source": [
    "## Deep dive: How big (small) can the significand be?\n",
    "The fractional component of the floating-point number is contained in the significand. Thus, an interesting question is how big (or small) can this component be?\n",
    "* __Idea__: To explore this question, examine the summation term in the significand expression. If all the digits in the summation expression $\\left\\{d_{1},d_{2},\\dots,d_{23}\\right\\}$ were `0`, then the _smallest possible value_ of the `significand = 1.` Alternatively, if all the digits $\\left\\{d_{1},d_{2},\\dots,d_{23}\\right\\}$ were `1`, then we'd get a maximum value. What is the maximum possible value?\n",
    "\n",
    "Let's explore this numerically and revisit the expression to get some analytical insight."
   ]
  },
  {
   "cell_type": "code",
   "execution_count": 73,
   "id": "e466a67d-a391-40e4-8ba1-bd6425e58db4",
   "metadata": {},
   "outputs": [
    {
     "data": {
      "text/plain": [
       "1.9999998807907104"
      ]
     },
     "execution_count": 73,
     "metadata": {},
     "output_type": "execute_result"
    }
   ],
   "source": [
    "max_significand_value = let\n",
    "\n",
    "    # initialize -\n",
    "    d = Dict{Int64, Int64}(); \n",
    "    calculated_significand_value = 0.0;\n",
    "    b = 2.0; # binary, base = 2\n",
    "    msb = 23; # most significant bit (msb)\n",
    "    lsb = 1; # least significant bit (lsb)\n",
    "    significand_range_array = range(lsb,stop=msb,step=1) |> collect; # range of bits to use for the significand\n",
    "\n",
    "    # all ones, gives max \n",
    "    number_of_digits = length(significand_range_array); # how many digits do we have for the significand?\n",
    "    max_digits_array = ones(number_of_digits); # max case: our digits array will be all ones\n",
    "    for i ∈ 1:number_of_digits\n",
    "        d[i-1] = 1.0;\n",
    "    end\n",
    "\n",
    "    for i ∈ significand_range_array\n",
    "        calculated_significand_value += (b^(-i))*d[msb-i]\n",
    "    end\n",
    "    calculated_significand_value + 1\n",
    "end"
   ]
  },
  {
   "cell_type": "markdown",
   "id": "3f55e69a-9441-467c-a377-cac5e1f2eb59",
   "metadata": {},
   "source": [
    "### Analytical analysis\n",
    "\n",
    "The numerical calculation gave a `max_significand_value ≈ 2`, i.e., the value of the summation term, is $\\approx{1}$. We'd expect this because the summation term is an infinite series in the powers $2^{-i}$ truncated at the number of bits used for the fraction. To see this, let's do a little math. \n",
    "$$\n",
    "\\begin{align*}\n",
    "S_{N} & = \\sum_{i=1}^{N}2^{-i} = 2^{-1} + 2^{-2}+\\dots+2^{-N}\\quad\\text{this gives}\\,{a = 2^{-1}\\,\\text{and}\\,{r} = 2^{-1}}\\\\\n",
    "S_{N} &= \\frac{a\\left(1-r^{N}\\right)}{1-r} = 1-2^{-N}\\quad\\text{substitute}\\,a\\,\\text{and}\\,{r}\\,\\text{simplify}\\\\\n",
    "S_{N} &= 1 - 2^{-23}\\approx{0.9999998807907104}\\quad{N = 23}\\,\\blacksquare\n",
    "\\end{align*}\n",
    "$$\n",
    "As $N\\rightarrow\\infty$ the partial sum $S_{N}\\rightarrow{1}$. However, we don't get exactly `1` numerically. Why? Because we truncate the series early, i.e, for a 32-bit number we run the series up to $N = 23$, which gives a value slightly less than `1.`"
   ]
  },
  {
   "cell_type": "markdown",
   "id": "2a2a5104-b721-4fac-9fa5-a385120ca847",
   "metadata": {},
   "source": [
    "### Precision\n",
    "\n",
    "The analysis above also gives us insight into the _precision_ of a Float32 value, i.e., the number of possible decimal digits. The precision of a Float32 value is set by its $N = 23$ explicit fraction bits plus one implicit leading bit, so $p=24$. Then, the machine epsilon - the gap between 1.0 and the next representable float - is given by:\n",
    "$$\n",
    "\\begin{align*}\n",
    "\\epsilon &= 2^{(1-p)}\\quad\\text{substitute}\\,{p=24}\\,\\,\\text{for a 32-bit number}\\\\\n",
    "\\epsilon & \\approx 1.19209\\times{10}^{-7}\n",
    "\\end{align*}\n",
    "$$\n",
    "This corresponds to $d\\approx{-\\log_{10}\\epsilon}$ digits of precision, which for a `Float32` is $\\approx{7}$ digits."
   ]
  },
  {
   "cell_type": "code",
   "execution_count": 22,
   "id": "0463ffc8-0961-4d61-8dc3-c86e6a1c9945",
   "metadata": {},
   "outputs": [
    {
     "data": {
      "text/plain": [
       "7.0"
      ]
     },
     "execution_count": 22,
     "metadata": {},
     "output_type": "execute_result"
    }
   ],
   "source": [
    "let\n",
    "    p = 24; # p = {24,53} for {32,64}-bit\n",
    "    ϵ = 2.0^(1-p);\n",
    "    d = -log10(ϵ) |> round\n",
    "end"
   ]
  },
  {
   "cell_type": "markdown",
   "id": "c86fd46d-45c1-48e3-8f0a-c3e12e5425ed",
   "metadata": {},
   "source": [
    "## How big (small) can the scale be?\n",
    "Next, let's think about the possible scale of a `Float32` given by: $\\text{scale} = 2^{E - 127}$. To explore this question (in a first approximation where we ignore edge cases associated with representing $\\pm\\infty$ or NaNs), let's start by looking at the possible limits for the $E$ term in the memory layout for $x\\in\\mathbb{R}$ approximated as a `Float32`.\n",
    "* __Idea__: The $E$ expression is computed from the summation of 8 bits (the exponent bits). If all the exponent digits $\\left\\{e_{0},e_{1},\\dots,e_{7}\\right\\}$ were `0`, then the value of the $\\text{scale} = 2^{-127}\\approx{0}$. Alternatively, if all the exponent digits $\\left\\{e_{0},e_{1},\\dots,e_{7}\\right\\}$ were `1`, then we'd get a maximum value for $E$. What is the maximum possible value?\n",
    "\n",
    "Let's compute the maximum permissible value for $E$ numerically, and then think about what we should expect to see analytically. Store the maximum possible $E$ in the `max_possible_E::Float64` variable:"
   ]
  },
  {
   "cell_type": "code",
   "execution_count": 24,
   "id": "8836efac-77a1-4116-b54e-262d965b527f",
   "metadata": {},
   "outputs": [
    {
     "data": {
      "text/plain": [
       "255.0"
      ]
     },
     "execution_count": 24,
     "metadata": {},
     "output_type": "execute_result"
    }
   ],
   "source": [
    "max_possible_E = let\n",
    "\n",
    "    # initialize -\n",
    "    d = Dict{Int64, Int64}();\n",
    "    calculated_exponent_value = 0.0;\n",
    "    b = 2.0; # binary, base = 2\n",
    "    msb = 30; # most significant bit (msb)\n",
    "    lsb = 23; # least significant bit (lsb)\n",
    "    exponent_bit_range_array = range(lsb, stop=msb, step = 1) |> collect\n",
    "\n",
    "    # all ones, gives max \n",
    "    number_of_digits = length(exponent_bit_range_array); # how many digits do we have for the exponent E?\n",
    "    max_digits_array = ones(number_of_digits); # max case: our digits array will be all ones\n",
    "    for i ∈ 1:number_of_digits\n",
    "        d[i-1] = 1.0;\n",
    "    end\n",
    "\n",
    "    for i ∈ eachindex(exponent_bit_range_array)\n",
    "        calculated_exponent_value += d[i-1]*(b^(i - 1)) # why -1?\n",
    "    end\n",
    "    calculated_exponent_value\n",
    "end"
   ]
  },
  {
   "cell_type": "markdown",
   "id": "4672e372-0e32-45ec-b1d5-830e67d4d237",
   "metadata": {},
   "source": [
    "We get `255`; however, in practice, our logic has a flaw (edge cases mentioned above)!\n",
    "* The `255` case is a special reserved case. An exponent bit sequence of all 1’s (255) is a special code: if the fraction bits (the bit sequence in the significand calculation) are zero, it means we are representing $\\pm\\infty$, and if the fraction is nonzero, it means not a number (NaN) — hence the maximum finite exponent for non-edge case numbers is `254.`\n",
    "\n",
    "Given our _corrected_ `max_possible_E = 254` value, the maximum permissible scale will be: $2^{127}$!"
   ]
  },
  {
   "cell_type": "code",
   "execution_count": 26,
   "id": "eb8212dd-0d74-4d26-8d0d-e3515ebbb4ca",
   "metadata": {},
   "outputs": [
    {
     "data": {
      "text/plain": [
       "1.7014118346046923e38"
      ]
     },
     "execution_count": 26,
     "metadata": {},
     "output_type": "execute_result"
    }
   ],
   "source": [
    "max_scale = 2^(max_possible_E - 1 - 127) # wow! "
   ]
  },
  {
   "cell_type": "markdown",
   "id": "e43de776-dbaa-4cc2-920b-906db9b9e1a9",
   "metadata": {},
   "source": [
    "Putting this all together (and ignoring the edge cases) gives an approximate (back of the envelope, first approximation) range scale for `Float32` of $x\\approx\\pm\\left[2^{-127},2^{127}\\right]$ with `7` decimal digits.\n",
    "* __However, in reality__: there is a more complex convention for handling the exponent $\\left\\{e_{0} = 0,e_{1} = 0,\\dots,e_{7} = 0\\right\\}$ case which gives a different lower bound of $2^{-149}$. This involves [subnormal numbers](https://en.wikipedia.org/wiki/Subnormal_number), which is beyond the scope of our discussion in this example. Check it out if you are really interested; it's a cool convention! "
   ]
  },
  {
   "cell_type": "markdown",
   "id": "9ed94f6a-711a-4dbe-97ce-24eee111fa9d",
   "metadata": {},
   "source": [
    "__Should we have expected 255__? \n",
    "\n",
    "Yes, we should have! Let's look at the exponent summation, assuming all eight exponent bits are `1`, then we have (where $N$ is the index of the most significant bit):\n",
    "$$\n",
    "\\begin{align*}\n",
    "E &= \\sum_{i=0}^{N}2^{i} = 1+2+2^{1}+\\dots+2^{N-1}+2^{N}\\quad\\text{multiply by 2}\\\\\n",
    "2E &= 2 + 2^{2}+\\dots+2^{N}+2^{N+1}\\quad\\text{subtract}\\,2E-E\\\\\n",
    "E &= 2^{N+1} - 1\\quad\\text{substitute}\\,{N = 7}\\\\\n",
    "E &= 2^{8} - 1 = 255\\quad\\blacksquare\n",
    "\\end{align*}\n",
    "$$"
   ]
  }
 ],
 "metadata": {
  "kernelspec": {
   "display_name": "Julia 1.11.5",
   "language": "julia",
   "name": "julia-1.11"
  },
  "language_info": {
   "file_extension": ".jl",
   "mimetype": "application/julia",
   "name": "julia",
   "version": "1.11.5"
  }
 },
 "nbformat": 4,
 "nbformat_minor": 5
}
