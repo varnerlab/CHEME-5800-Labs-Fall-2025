{
 "cells": [
  {
   "cell_type": "markdown",
   "id": "09725026-da7a-4ae2-b30b-7c4a1254bb59",
   "metadata": {},
   "source": [
    "# L4d: Dijkstra's Shortest Path Algorithm\n",
    "In this lab, we will play around with an implementation of Dijkstra's Shortest Path algorithm for finding shortest paths from a single source to all other vertices in a weighted graph. \n",
    "\n",
    "> __Problem overview:__ Suppose we are planning a multistep task that must be completed for a complex project, e.g., constructing a new production process. At our planning meeting, we brainstorm two different ideas about how to accomplish the overall task, one idea involves only five steps, but has a few costly steps. The second idea involves six steps, and several of the steps are less expensive. Which idea (path) should we choose? \n",
    "\n",
    "This is a classic shortest path problem! We'll build a small example, run the algorithm, and visualize the resulting paths so you can see how the shortest path is determined.\n",
    "___"
   ]
  },
  {
   "cell_type": "markdown",
   "id": "e0f97d6f",
   "metadata": {},
   "source": [
    "## Setup, Data, and Prerequisites\n",
    "First, we set up the computational environment by including the `Include.jl` file and loading any needed resources.\n",
    "\n",
    "> The [include command](https://docs.julialang.org/en/v1/base/base/#include) evaluates the contents of the input source file, `Include.jl`, in the notebook's global scope. The `Include.jl` file sets paths, loads required external packages, etc. For additional information on functions and types used in this material, see the [Julia programming language documentation](https://docs.julialang.org/en/v1/). \n",
    "\n",
    "Let's set up our environment:"
   ]
  },
  {
   "cell_type": "code",
   "execution_count": 1,
   "id": "5fb9dc7e",
   "metadata": {},
   "outputs": [],
   "source": [
    "include(joinpath(@__DIR__, \"Include.jl\"));"
   ]
  },
  {
   "cell_type": "markdown",
   "id": "352c1740",
   "metadata": {},
   "source": [
    "In addition to standard Julia libraries, we'll also use [the `VLDataScienceMachineLearningPackage.jl` package](https://github.com/varnerlab/VLDataScienceMachineLearningPackage.jl), check out [the documentation](https://varnerlab.github.io/VLDataScienceMachineLearningPackage.jl/dev/) for more information on the functions, types and data used in this material. "
   ]
  },
  {
   "cell_type": "markdown",
   "id": "5e7aec28",
   "metadata": {},
   "source": [
    "### Why Dijkstra?\n",
    "Before diving into the implementation, let's understand why we're using Dijkstra's algorithm for this particular problem.\n",
    "\n",
    "> __Handling non-negative weights:__ Dijkstra's algorithm is designed for graphs with __non-negative edge weights__, which is perfect for our project planning scenario where all costs are positive (time, money, resources). This assumption allows Dijkstra to use a greedy approach that's more efficient than general shortest path algorithms.\n",
    "\n",
    "> __Algorithm efficiency:__ Dijkstra has time complexity $\\mathcal{O}((|\\mathcal{V}|+|\\mathcal{E}|)\\log|\\mathcal{V}|)$ with a priority queue, which is faster than Bellman-Ford's $\\mathcal{O}(|\\mathcal{V}|\\cdot|\\mathcal{E}|)$ when edge weights are non-negative. This efficiency makes it ideal for large-scale routing and planning problems.\n",
    "\n",
    "> __Greedy optimization:__ Dijkstra uses a __greedy strategy__ - it always expands the closest unvisited node first. This works because with non-negative weights, the shortest path to any node can't be improved by going through a more distant node first.\n",
    "\n",
    "> __When Dijkstra fails:__ If our graph contained negative edge weights (e.g., rebates, cost savings), Dijkstra would fail because its greedy assumptions break down. In such cases, we'd need Bellman-Ford or other algorithms that can handle negative weights.\n",
    "\n",
    "__Real-world applications:__ Dijkstra's algorithm forms the foundation for GPS navigation systems (which use enhanced versions like A*), network routing protocols, logistics optimization, and any scenario where you need to find minimum cost paths with positive costs."
   ]
  },
  {
   "cell_type": "markdown",
   "id": "39114bfa",
   "metadata": {},
   "source": [
    "### Constants\n",
    "Let's define some constants that will be used throughout the notebook. See the comment for a description of each constant, what it represents, its value, units, etc."
   ]
  },
  {
   "cell_type": "code",
   "execution_count": 2,
   "id": "8c961a73",
   "metadata": {},
   "outputs": [],
   "source": [
    "# We are going to plot the path through a graph, so let's provide the coordinates for each node, i.e., the layout\n",
    "# This layout looks like our schematic but you can rearrange this if you want!\n",
    "node_coordinates = [\n",
    "\n",
    "    # source node (project start)\n",
    "    10.0 10.0 ; # 1 source node s (x,y) coordinates\n",
    "    11.0 10.0 ; # 2 \n",
    "    11.0 11.0 ; # 3\n",
    "    13.0 11.0 ; # 4\n",
    "    13.0 10.0 ; # 5\n",
    "    11.0 9.0  ; # 6 \n",
    "    12.0 9.0  ; # 7\n",
    "    13.0 9.0  ; # 8\n",
    "    14.0 10.0  ; # 9 project completion\n",
    "];"
   ]
  },
  {
   "cell_type": "markdown",
   "id": "785fe14b",
   "metadata": {},
   "source": [
    "### Helper Implementations\n",
    "Below are helper routines used in this notebook. The `reconstruct_path(...)` function reconstructs the shortest path from the predecessor map returned by Dijkstra's algorithm.\n",
    "\n",
    "We'll also provide a few small utility functions (below) to parse the edge list and build the graph model. The code cells below include thorough docstrings and comments — skim the docstrings if you want the quick idea, or read the comments for implementation details."
   ]
  },
  {
   "cell_type": "code",
   "execution_count": 3,
   "id": "bbc1a0dc",
   "metadata": {},
   "outputs": [],
   "source": [
    "\"\"\"\n",
    "    function reconstruct_path(pmap, node)\n",
    "\n",
    "Reconstructs the shortest path from the source to a given node using the predecessor map.\n",
    "\n",
    "### Arguments\n",
    "- `pmap`: A dictionary mapping each node to its predecessor in the shortest path tree.\n",
    "- `node`: The target node for which to reconstruct the path.\n",
    "\n",
    "### Returns\n",
    "- An array representing the path from source to the target node.\n",
    "\"\"\"\n",
    "function reconstruct_path(pmap, node)\n",
    "       \n",
    "    path = Int[]\n",
    "    cur = node\n",
    "    while cur !== nothing\n",
    "        push!(path, cur)\n",
    "        cur = get(pmap, cur, nothing)\n",
    "    end\n",
    "    reverse!(path)\n",
    "    return path\n",
    "end;"
   ]
  },
  {
   "cell_type": "markdown",
   "id": "2c09653d",
   "metadata": {},
   "source": [
    "___"
   ]
  },
  {
   "cell_type": "markdown",
   "id": "f03bf61a",
   "metadata": {},
   "source": [
    "## Task 1: Build a project task graph\n",
    "In this task, we will build a simple directed graph representing the steps in a project, where each edge has a weight that represents the cost of completing that step. The graph will be represented as an adjacency list.\n",
    "\n",
    "Edges are stored in `data/Production-Process.edgelist` with fields: source, target, cost. We'll parse the file into `MyGraphEdgeModel` instances and then build a directed graph model for the shortest path calculation using Dijkstra's algorithm."
   ]
  },
  {
   "cell_type": "markdown",
   "id": "f890f7a9",
   "metadata": {},
   "source": [
    "<div>\n",
    "    <center>\n",
    "        <img src=\"figs/Fig-Branch-Schematic.svg\" width=\"480\"/>\n",
    "    </center>\n",
    "</div>"
   ]
  },
  {
   "cell_type": "markdown",
   "id": "73355cc3",
   "metadata": {},
   "source": [
    "The graph and weights are specified in the `data/Production-Process.edgelist` file, where each record is defined as:\n",
    "> __Records__: Each record in our edgelist file has the comma separated fields: `source,` `target,` `cost.` The `source` field is the id for the source node, e.g., `1`, the `target` field is the target node id, the `cost` is the cost of assigning the source node to the target node, i.e., the cost (monetary, time, etc.) of completing the task.\n",
    "\n",
    "Ok, so now let's setup our edge parser __callback function__:"
   ]
  },
  {
   "cell_type": "code",
   "execution_count": 4,
   "id": "e19e5856",
   "metadata": {},
   "outputs": [],
   "source": [
    "\"\"\"\n",
    "    function edgerecordparser(record::String, delim::Char=',') -> Tuple{Int, Int, Float64} | Nothing\n",
    "\n",
    "This method is called to parse a single edge record from the edgelist file. It gets called once for each record in the file. \n",
    "The function splits the record into fields based on the specified delimiter and extracts the source node, target node, and cost (weight) of the edge. \n",
    "It returns a tuple containing these values. If the record does not have the expected number of fields, it returns `nothing`.\n",
    "\n",
    "### Arguments\n",
    "- `record`: The edge record string to parse.\n",
    "- `delim`: The delimiter used to split the record.\n",
    "\n",
    "### Returns\n",
    "- A tuple containing the source node, target node, and cost of the edge, or `nothing` if the record is invalid.\n",
    "\"\"\"\n",
    "function edgerecordparser(record::String, delim::Char=',')\n",
    "\n",
    "    # record (three fields)\n",
    "    # source, target, cost\n",
    "\n",
    "    fields = split(record, delim) # this assumes a record of the form \"source,target,weight\"\n",
    "    if length(fields) < 3 # we have 3 fields\n",
    "        return nothing\n",
    "    end\n",
    "\n",
    "    # get my data -\n",
    "    source = parse(Int, fields[1]) # source id\n",
    "    target = parse(Int, fields[2]) # target id\n",
    "    cost = parse(Float64, fields[3]) # edge weight\n",
    "    \n",
    "    # return a tuple -\n",
    "    return (source, target, cost)\n",
    "end;"
   ]
  },
  {
   "cell_type": "markdown",
   "id": "c94f883e",
   "metadata": {},
   "source": [
    "Next, let's set the path to the edge list file in the `path_to_edge_file::String` variable:"
   ]
  },
  {
   "cell_type": "code",
   "execution_count": 5,
   "id": "26a8e4c3",
   "metadata": {},
   "outputs": [],
   "source": [
    "path_to_edge_file = joinpath(_PATH_TO_DATA, \"Production-Process.edgelist\"); # this points to the graph shown above"
   ]
  },
  {
   "cell_type": "markdown",
   "id": "a2f4f09d",
   "metadata": {},
   "source": [
    "Next, construct a dictionary [of `MyGraphEdgeModel` instances](https://varnerlab.github.io/VLDataScienceMachineLearningPackage.jl/dev/types/#VLDataScienceMachineLearningPackage.MyGraphEdgeModel) which stores the data for the edges. Let's save our edge models in the `myedgemodels::Dict{Int64, MyGraphEdgeModel}` dictionary. \n",
    "\n",
    "The keys in the edge dictionary will be the edge ids (which we can assume are unique), and the values will be the corresponding `MyGraphEdgeModel` instances. Here, we've used the line index in the edgefile as the edge id."
   ]
  },
  {
   "cell_type": "code",
   "execution_count": 6,
   "id": "caf39084",
   "metadata": {},
   "outputs": [
    {
     "data": {
      "text/plain": [
       "Dict{Int64, MyGraphEdgeModel} with 9 entries:\n",
       "  0 => MyGraphEdgeModel(0, 1, 2, 1.0)\n",
       "  4 => MyGraphEdgeModel(4, 2, 6, 2.0)\n",
       "  5 => MyGraphEdgeModel(5, 6, 7, 2.0)\n",
       "  6 => MyGraphEdgeModel(6, 7, 8, 2.0)\n",
       "  2 => MyGraphEdgeModel(2, 3, 4, 8.0)\n",
       "  7 => MyGraphEdgeModel(7, 8, 5, 2.0)\n",
       "  8 => MyGraphEdgeModel(8, 5, 9, 1.0)\n",
       "  3 => MyGraphEdgeModel(3, 4, 5, 2.0)\n",
       "  1 => MyGraphEdgeModel(1, 2, 3, 4.0)"
      ]
     },
     "metadata": {},
     "output_type": "display_data"
    }
   ],
   "source": [
    "myedgemodels = MyGraphEdgeModels(path_to_edge_file, edgerecordparser, delim=',', comment='#')"
   ]
  },
  {
   "cell_type": "markdown",
   "id": "f576ae06",
   "metadata": {},
   "source": [
    "Finally, we can build a graph instance. Since this is a directed graph, we'll construct [a `MySimpleDirectedGraphModel` instance](https://varnerlab.github.io/VLDataScienceMachineLearningPackage.jl/dev/types/#VLDataScienceMachineLearningPackage.MySimpleDirectedGraphModel) using [a `build(...)` method](https://varnerlab.github.io/VLDataScienceMachineLearningPackage.jl/dev/factory/#VLDataScienceMachineLearningPackage.build). Let's save our graph model in the `directedgraphmodel::MySimpleDirectedGraphModel` variable."
   ]
  },
  {
   "cell_type": "code",
   "execution_count": 7,
   "id": "f2c97783",
   "metadata": {},
   "outputs": [],
   "source": [
    "directedgraphmodel = build(MySimpleDirectedGraphModel, myedgemodels);"
   ]
  },
  {
   "cell_type": "markdown",
   "id": "62f19b41",
   "metadata": {},
   "source": [
    "__Hmmm__. What's in [a `MySimpleDirectedGraphModel` object](https://varnerlab.github.io/VLDataScienceMachineLearningPackage.jl/dev/types/#VLDataScienceMachineLearningPackage.MySimpleDirectedGraphModel)? We can always answer these types of questions by examining the fields of the object Type [using the `typeof(...)` function](https://docs.julialang.org/en/v1/base/base/#Core.typeof) in combination with [the `fieldnames(...)` function](https://docs.julialang.org/en/v1/base/base/#Base.fieldnames).\n",
    "\n",
    "> __Why do we inspect the fields of a Type?__ We need to get the type of the instance we want to inspect because fields are associated with a type, not the instance itself. Thus, we always use `typeof(...)` to get the type, and then `fieldnames(...)` to get the fields of that type.\n",
    "\n",
    "Ok, so what is contained in a directed graph model:"
   ]
  },
  {
   "cell_type": "code",
   "execution_count": 8,
   "id": "f40c4c88",
   "metadata": {},
   "outputs": [
    {
     "data": {
      "text/plain": [
       "(:nodes, :edges, :children, :edgesinverse)"
      ]
     },
     "metadata": {},
     "output_type": "display_data"
    }
   ],
   "source": [
    "typeof(directedgraphmodel) |> T -> fieldnames(T) # We get the type T, then we get the field names of T"
   ]
  },
  {
   "cell_type": "markdown",
   "id": "a175d525",
   "metadata": {},
   "source": [
    "Let's look at the `edges::Dict{Tuple{Int,Int},Float64}` field of the `MySimpleDirectedGraphModel` object. This field stores the weights of the edges in the graph, where the keys are tuples representing the source and target nodes, and the values are the corresponding edge weights."
   ]
  },
  {
   "cell_type": "code",
   "execution_count": 9,
   "id": "7a548954",
   "metadata": {},
   "outputs": [
    {
     "data": {
      "text/plain": [
       "Dict{Int64, Tuple{Int64, Int64}} with 9 entries:\n",
       "  5 => (4, 5)\n",
       "  4 => (3, 4)\n",
       "  6 => (5, 9)\n",
       "  7 => (6, 7)\n",
       "  2 => (2, 3)\n",
       "  9 => (8, 5)\n",
       "  8 => (7, 8)\n",
       "  3 => (2, 6)\n",
       "  1 => (1, 2)"
      ]
     },
     "metadata": {},
     "output_type": "display_data"
    }
   ],
   "source": [
    "directedgraphmodel.edgesinverse"
   ]
  },
  {
   "cell_type": "code",
   "execution_count": 10,
   "id": "e0eaf3d4",
   "metadata": {},
   "outputs": [
    {
     "data": {
      "text/plain": [
       "Dict{Tuple{Int64, Int64}, Number} with 9 entries:\n",
       "  (4, 5) => 2.0\n",
       "  (1, 2) => 1.0\n",
       "  (7, 8) => 2.0\n",
       "  (6, 7) => 2.0\n",
       "  (3, 4) => 8.0\n",
       "  (8, 5) => 2.0\n",
       "  (5, 9) => 1.0\n",
       "  (2, 3) => 4.0\n",
       "  (2, 6) => 2.0"
      ]
     },
     "metadata": {},
     "output_type": "display_data"
    }
   ],
   "source": [
    "directedgraphmodel.edges"
   ]
  },
  {
   "cell_type": "markdown",
   "id": "ff450422",
   "metadata": {},
   "source": [
    "___"
   ]
  },
  {
   "cell_type": "markdown",
   "id": "d8b79a3c",
   "metadata": {},
   "source": [
    "## Task 2: Compute Shortest Paths\n",
    "In this task, we'll compute the best (lowest cost) production planning paths.\n",
    "\n",
    "This is a simple test case, so we can look at the edge weights and guess the shortest paths using intuition, without running the algorithm. Let's do that so we can check if what we think should happen, actually happens.\n",
    "\n",
    "Let's look at the costs for each edge:"
   ]
  },
  {
   "cell_type": "code",
   "execution_count": null,
   "id": "a00a54a3",
   "metadata": {},
   "outputs": [
    {
     "name": "stdout",
     "output_type": "stream",
     "text": [
      "======== ======= ======= ==========\n",
      " \u001b[1m  edge \u001b[0m \u001b[1m     s \u001b[0m \u001b[1m     t \u001b[0m \u001b[1m       w \u001b[0m\n",
      " \u001b[90m Int64 \u001b[0m \u001b[90m Int64 \u001b[0m \u001b[90m Int64 \u001b[0m \u001b[90m Float64 \u001b[0m\n",
      "======== ======= ======= ==========\n",
      "      1       1       2       1.0\n",
      "      2       2       3       4.0\n",
      "      3       2       6       2.0\n",
      "      4       3       4       8.0\n",
      "      5       4       5       2.0\n",
      "      6       5       9       1.0\n",
      "      7       6       7       2.0\n",
      "      8       7       8       2.0\n",
      "      9       8       5       2.0\n",
      "======== ======= ======= ==========\n"
     ]
    }
   ],
   "source": [
    "let\n",
    "\n",
    "    # initialize -\n",
    "    df = DataFrame(); \n",
    "    edges = directedgraphmodel.edges\n",
    "    edgesinverse = directedgraphmodel.edgesinverse\n",
    "    edge_id_vector = keys(edgesinverse) |> collect |> sort;\n",
    "\n",
    "    # look at the edges -\n",
    "    for i ∈ edge_id_vector\n",
    "\n",
    "        (s,t) = edgesinverse[i] # get the source and target nodes for this edge\n",
    "\n",
    "        row_df = (\n",
    "            edge = i,\n",
    "            s = s,\n",
    "            t = t,\n",
    "            w = edges[(s,t)]\n",
    "        )\n",
    "        push!(df, row_df);\n",
    "    end\n",
    "\n",
    "    pretty_table(df, backend = :text, \n",
    "        table_format = TextTableFormat(borders = text_table_borders__simple))\n",
    "end"
   ]
  },
  {
   "cell_type": "markdown",
   "id": "8014a360",
   "metadata": {},
   "source": [
    "The _top_ path has edges `(1, 2)`, `(2, 3)`, `(3, 4)`, `(4,5)` and `(5,9)`. On the other hand, the _bottom_ path has edges `(1, 2)`, `(2,6)`, `(6, 7)`, `(7, 8)`, `(8, 5)` and `(5, 9)`. Let's compute the cost of both paths—which is less expensive?\n",
    "\n",
    "> __Intuition:__ In this simple graph with only two main paths from start to finish, we can manually compare the total costs. The path with the lower sum of edge weights should be the shortest path that Dijkstra finds. This gives us a prediction to verify against the algorithm results.\n",
    "\n",
    "Let's check the costs:"
   ]
  },
  {
   "cell_type": "code",
   "execution_count": 12,
   "id": "45ee763a",
   "metadata": {},
   "outputs": [
    {
     "name": "stdout",
     "output_type": "stream",
     "text": [
      "Top path cost: 16.0\n",
      "Bottom path cost: 10.0\n",
      "Difference: 6.0\n",
      "\n",
      "✓ Prediction: Bottom path is less expensive - Dijkstra should choose this path\n"
     ]
    }
   ],
   "source": [
    "let\n",
    "\n",
    "    # initialize -\n",
    "    top_path = ((1,2), (2,3), (3,4), (4,5), (5,9))\n",
    "    bottom_path = ((1,2), (2,6), (6,7), (7,8), (8,5), (5,9))\n",
    "    edges = directedgraphmodel.edges\n",
    "\n",
    "    # compute costs for each path -\n",
    "    top_cost = sum(edges[e] for e ∈ top_path)\n",
    "    bottom_cost = sum(edges[e] for e ∈ bottom_path)\n",
    "\n",
    "    # display the costs and make prediction -\n",
    "    println(\"Top path cost: $(top_cost)\")\n",
    "    println(\"Bottom path cost: $(bottom_cost)\")\n",
    "    println(\"Difference: $(abs(top_cost - bottom_cost))\")\n",
    "    println()\n",
    "    \n",
    "    # compare costs -\n",
    "    if top_cost < bottom_cost\n",
    "        println(\"✓ Prediction: Top path is less expensive - Dijkstra should choose this path\")\n",
    "    else\n",
    "        println(\"✓ Prediction: Bottom path is less expensive - Dijkstra should choose this path\")\n",
    "    end\n",
    "end"
   ]
  },
  {
   "cell_type": "markdown",
   "id": "eec9712b",
   "metadata": {},
   "source": [
    "To compute shortest paths we [call the `findshortestpath(...)` function](https://varnerlab.github.io/VLDataScienceMachineLearningPackage.jl/dev/graphs/#VLDataScienceMachineLearningPackage.findshortestpath) with three main inputs: the graph model, the start node, and the algorithm choice (here `DijkstraAlgorithm()`).\n",
    "\n",
    "The function returns a distances dictionary (`d`) mapping each node to its shortest distance from the start, and a predecessors dictionary (`p`) mapping each node to its predecessor on the shortest path.\n",
    "\n",
    "We'll run Dijkstra on our graph and then visualize which edges lie on the shortest paths from the source."
   ]
  },
  {
   "cell_type": "code",
   "execution_count": 13,
   "id": "f52a2d5b",
   "metadata": {},
   "outputs": [],
   "source": [
    "(d,p) = let\n",
    "    \n",
    "    # initialize -\n",
    "    startnode = directedgraphmodel.nodes[1];\n",
    "\n",
    "    # run Dijkstra's algorithm -\n",
    "    (d,p) = findshortestpath(directedgraphmodel, startnode, algorithm = DijkstraAlgorithm());\n",
    "\n",
    "    (d,p) # return\n",
    "end;"
   ]
  },
  {
   "cell_type": "markdown",
   "id": "838d6a6f",
   "metadata": {},
   "source": [
    "### Verification: Was our prediction correct?\n",
    "Let's check if Dijkstra found the same shortest path that we predicted from our manual analysis.\n",
    "\n",
    "> __What we're checking:__ We manually calculated the costs of the two main paths and predicted which one Dijkstra should choose. Now we'll reconstruct the actual shortest path and verify our intuition was correct.\n",
    "\n",
    "> __Why verification matters:__ This builds confidence in both our understanding of the algorithm and our ability to manually analyze simple graphs. For more complex graphs, this intuitive approach becomes harder, but the principle remains the same.\n",
    "\n",
    "Did we find the shortest path we expected?"
   ]
  },
  {
   "cell_type": "code",
   "execution_count": 14,
   "id": "2d8eda26",
   "metadata": {},
   "outputs": [
    {
     "data": {
      "text/plain": [
       "\u001b[32m\u001b[1mTest Passed\u001b[22m\u001b[39m"
      ]
     },
     "metadata": {},
     "output_type": "display_data"
    }
   ],
   "source": [
    "let\n",
    "\n",
    "    # initialize -\n",
    "    target_node = 9;\n",
    "\n",
    "    # Reconstruct the shortest path from node 1 to node 9 (project completion)\n",
    "    expected_shortest_path = [1, 2, 6, 7, 8, 5, 9]; # this is the expected path based on the graph structure\n",
    "    \n",
    "    # Use the existing reconstruct_path function\n",
    "    computed_shortest_path = reconstruct_path(p, target_node)\n",
    "    \n",
    "    # test -\n",
    "    @test computed_shortest_path == expected_shortest_path\n",
    "end"
   ]
  },
  {
   "cell_type": "markdown",
   "id": "29e1b23c",
   "metadata": {},
   "source": [
    "__Which path do we get?__ `Unhide` the code block below to see which edges are on the shortest path. Do we get what we think?"
   ]
  },
  {
   "cell_type": "code",
   "execution_count": 15,
   "id": "ae2cf639",
   "metadata": {},
   "outputs": [
    {
     "data": {
      "image/png": "[encoded data removed]",
      "image/svg+xml": [
       "<?xml version=\"1.0\" encoding=\"utf-8\"?>\n",
       "<svg xmlns=\"http://www.w3.org/2000/svg\" xmlns:xlink=\"http://www.w3.org/1999/xlink\" width=\"600\" height=\"400\" viewBox=\"0 0 2400 1600\">\n",
       "<defs>\n",
       "  <clipPath id=\"clip920\">\n",
       "    <rect x=\"0\" y=\"0\" width=\"2400\" height=\"1600\"/>\n",
       "  </clipPath>\n",
       "</defs>\n",
       "<path clip-path=\"url(#clip920)\" d=\"M0 1600 L2400 1600 L2400 8.88178e-14 L0 8.88178e-14  Z\" fill=\"#ffffff\" fill-rule=\"evenodd\" fill-opacity=\"1\"/>\n",
       "<defs>\n",
       "  <clipPath id=\"clip921\">\n",
       "    <rect x=\"480\" y=\"0\" width=\"1681\" height=\"1600\"/>\n",
       "  </clipPath>\n",
       "</defs>\n",
       "<path clip-path=\"url(#clip920)\" d=\"M47.2441 1552.76 L1919.08 1552.76 L1919.08 47.2441 L47.2441 47.2441  Z\" fill=\"#ffffff\" fill-rule=\"evenodd\" fill-opacity=\"1\"/>\n",
       "<defs>\n",
       "  <clipPath id=\"clip922\">\n",
       "    <rect x=\"47\" y=\"47\" width=\"1873\" height=\"1507\"/>\n",
       "  </clipPath>\n",
       "</defs>\n",
       "<polyline clip-path=\"url(#clip922)\" style=\"stroke:#e5e5e5; stroke-linecap:round; stroke-linejoin:round; stroke-width:8; stroke-opacity:1; fill:none\" points=\"1357.53,298.163 1357.53,800 \"/>\n",
       "<polyline clip-path=\"url(#clip922)\" style=\"stroke:#e5e5e5; stroke-linecap:round; stroke-linejoin:round; stroke-width:8; stroke-opacity:1; fill:none\" points=\"1375.53,764 1357.53,800 1339.53,764 \"/>\n",
       "<polyline clip-path=\"url(#clip922)\" style=\"stroke:#e5e5e5; stroke-linecap:round; stroke-linejoin:round; stroke-width:8; stroke-opacity:1; fill:none\" points=\"1357.53,800 1357.53,298.163 \"/>\n",
       "<polyline clip-path=\"url(#clip922)\" style=\"stroke:#e5e5e5; stroke-linecap:round; stroke-linejoin:round; stroke-width:8; stroke-opacity:1; fill:none\" points=\"608.795,298.163 1357.53,298.163 \"/>\n",
       "<polyline clip-path=\"url(#clip922)\" style=\"stroke:#e5e5e5; stroke-linecap:round; stroke-linejoin:round; stroke-width:8; stroke-opacity:1; fill:none\" points=\"1321.53,280.163 1357.53,298.163 1321.53,316.163 \"/>\n",
       "<polyline clip-path=\"url(#clip922)\" style=\"stroke:#e5e5e5; stroke-linecap:round; stroke-linejoin:round; stroke-width:8; stroke-opacity:1; fill:none\" points=\"1357.53,298.163 608.795,298.163 \"/>\n",
       "<polyline clip-path=\"url(#clip922)\" style=\"stroke:#e5e5e5; stroke-linecap:round; stroke-linejoin:round; stroke-width:8; stroke-opacity:1; fill:none\" points=\"1357.53,800 1731.9,800 \"/>\n",
       "<polyline clip-path=\"url(#clip922)\" style=\"stroke:#e5e5e5; stroke-linecap:round; stroke-linejoin:round; stroke-width:8; stroke-opacity:1; fill:none\" points=\"1695.9,782 1731.9,800 1695.9,818 \"/>\n",
       "<polyline clip-path=\"url(#clip922)\" style=\"stroke:#e5e5e5; stroke-linecap:round; stroke-linejoin:round; stroke-width:8; stroke-opacity:1; fill:none\" points=\"1731.9,800 1357.53,800 \"/>\n",
       "<polyline clip-path=\"url(#clip922)\" style=\"stroke:#e5e5e5; stroke-linecap:round; stroke-linejoin:round; stroke-width:8; stroke-opacity:1; fill:none\" points=\"608.795,1301.84 983.163,1301.84 \"/>\n",
       "<polyline clip-path=\"url(#clip922)\" style=\"stroke:#e5e5e5; stroke-linecap:round; stroke-linejoin:round; stroke-width:8; stroke-opacity:1; fill:none\" points=\"947.163,1283.84 983.163,1301.84 947.163,1319.84 \"/>\n",
       "<polyline clip-path=\"url(#clip922)\" style=\"stroke:#e5e5e5; stroke-linecap:round; stroke-linejoin:round; stroke-width:8; stroke-opacity:1; fill:none\" points=\"983.163,1301.84 608.795,1301.84 \"/>\n",
       "<polyline clip-path=\"url(#clip922)\" style=\"stroke:#e5e5e5; stroke-linecap:round; stroke-linejoin:round; stroke-width:8; stroke-opacity:1; fill:none\" points=\"608.795,800 608.795,298.163 \"/>\n",
       "<polyline clip-path=\"url(#clip922)\" style=\"stroke:#e5e5e5; stroke-linecap:round; stroke-linejoin:round; stroke-width:8; stroke-opacity:1; fill:none\" points=\"590.795,334.163 608.795,298.163 626.795,334.163 \"/>\n",
       "<polyline clip-path=\"url(#clip922)\" style=\"stroke:#e5e5e5; stroke-linecap:round; stroke-linejoin:round; stroke-width:8; stroke-opacity:1; fill:none\" points=\"608.795,298.163 608.795,800 \"/>\n",
       "<polyline clip-path=\"url(#clip922)\" style=\"stroke:#e5e5e5; stroke-linecap:round; stroke-linejoin:round; stroke-width:8; stroke-opacity:1; fill:none\" points=\"1357.53,1301.84 1357.53,800 \"/>\n",
       "<polyline clip-path=\"url(#clip922)\" style=\"stroke:#e5e5e5; stroke-linecap:round; stroke-linejoin:round; stroke-width:8; stroke-opacity:1; fill:none\" points=\"1339.53,836 1357.53,800 1375.53,836 \"/>\n",
       "<polyline clip-path=\"url(#clip922)\" style=\"stroke:#e5e5e5; stroke-linecap:round; stroke-linejoin:round; stroke-width:8; stroke-opacity:1; fill:none\" points=\"1357.53,800 1357.53,1301.84 \"/>\n",
       "<polyline clip-path=\"url(#clip922)\" style=\"stroke:#e5e5e5; stroke-linecap:round; stroke-linejoin:round; stroke-width:8; stroke-opacity:1; fill:none\" points=\"983.163,1301.84 1357.53,1301.84 \"/>\n",
       "<polyline clip-path=\"url(#clip922)\" style=\"stroke:#e5e5e5; stroke-linecap:round; stroke-linejoin:round; stroke-width:8; stroke-opacity:1; fill:none\" points=\"1321.53,1283.84 1357.53,1301.84 1321.53,1319.84 \"/>\n",
       "<polyline clip-path=\"url(#clip922)\" style=\"stroke:#e5e5e5; stroke-linecap:round; stroke-linejoin:round; stroke-width:8; stroke-opacity:1; fill:none\" points=\"1357.53,1301.84 983.163,1301.84 \"/>\n",
       "<polyline clip-path=\"url(#clip922)\" style=\"stroke:#e5e5e5; stroke-linecap:round; stroke-linejoin:round; stroke-width:8; stroke-opacity:1; fill:none\" points=\"608.795,800 608.795,1301.84 \"/>\n",
       "<polyline clip-path=\"url(#clip922)\" style=\"stroke:#e5e5e5; stroke-linecap:round; stroke-linejoin:round; stroke-width:8; stroke-opacity:1; fill:none\" points=\"626.795,1265.84 608.795,1301.84 590.795,1265.84 \"/>\n",
       "<polyline clip-path=\"url(#clip922)\" style=\"stroke:#e5e5e5; stroke-linecap:round; stroke-linejoin:round; stroke-width:8; stroke-opacity:1; fill:none\" points=\"608.795,1301.84 608.795,800 \"/>\n",
       "<polyline clip-path=\"url(#clip922)\" style=\"stroke:#e5e5e5; stroke-linecap:round; stroke-linejoin:round; stroke-width:8; stroke-opacity:1; fill:none\" points=\"234.428,800 608.795,800 \"/>\n",
       "<polyline clip-path=\"url(#clip922)\" style=\"stroke:#e5e5e5; stroke-linecap:round; stroke-linejoin:round; stroke-width:8; stroke-opacity:1; fill:none\" points=\"572.795,782 608.795,800 572.795,818 \"/>\n",
       "<polyline clip-path=\"url(#clip922)\" style=\"stroke:#e5e5e5; stroke-linecap:round; stroke-linejoin:round; stroke-width:8; stroke-opacity:1; fill:none\" points=\"608.795,800 234.428,800 \"/>\n",
       "<circle clip-path=\"url(#clip922)\" cx=\"234.428\" cy=\"800\" r=\"57.6\" fill=\"#808080\" fill-rule=\"evenodd\" fill-opacity=\"1\" stroke=\"#000000\" stroke-opacity=\"1\" stroke-width=\"3.2\"/>\n",
       "<circle clip-path=\"url(#clip922)\" cx=\"608.795\" cy=\"800\" r=\"57.6\" fill=\"#808080\" fill-rule=\"evenodd\" fill-opacity=\"1\" stroke=\"#000000\" stroke-opacity=\"1\" stroke-width=\"3.2\"/>\n",
       "<circle clip-path=\"url(#clip922)\" cx=\"608.795\" cy=\"298.163\" r=\"57.6\" fill=\"#808080\" fill-rule=\"evenodd\" fill-opacity=\"1\" stroke=\"#000000\" stroke-opacity=\"1\" stroke-width=\"3.2\"/>\n",
       "<circle clip-path=\"url(#clip922)\" cx=\"1357.53\" cy=\"298.163\" r=\"57.6\" fill=\"#808080\" fill-rule=\"evenodd\" fill-opacity=\"1\" stroke=\"#000000\" stroke-opacity=\"1\" stroke-width=\"3.2\"/>\n",
       "<circle clip-path=\"url(#clip922)\" cx=\"1357.53\" cy=\"800\" r=\"57.6\" fill=\"#808080\" fill-rule=\"evenodd\" fill-opacity=\"1\" stroke=\"#000000\" stroke-opacity=\"1\" stroke-width=\"3.2\"/>\n",
       "<circle clip-path=\"url(#clip922)\" cx=\"608.795\" cy=\"1301.84\" r=\"57.6\" fill=\"#808080\" fill-rule=\"evenodd\" fill-opacity=\"1\" stroke=\"#000000\" stroke-opacity=\"1\" stroke-width=\"3.2\"/>\n",
       "<circle clip-path=\"url(#clip922)\" cx=\"983.163\" cy=\"1301.84\" r=\"57.6\" fill=\"#808080\" fill-rule=\"evenodd\" fill-opacity=\"1\" stroke=\"#000000\" stroke-opacity=\"1\" stroke-width=\"3.2\"/>\n",
       "<circle clip-path=\"url(#clip922)\" cx=\"1357.53\" cy=\"1301.84\" r=\"57.6\" fill=\"#808080\" fill-rule=\"evenodd\" fill-opacity=\"1\" stroke=\"#000000\" stroke-opacity=\"1\" stroke-width=\"3.2\"/>\n",
       "<circle clip-path=\"url(#clip922)\" cx=\"1731.9\" cy=\"800\" r=\"57.6\" fill=\"#808080\" fill-rule=\"evenodd\" fill-opacity=\"1\" stroke=\"#000000\" stroke-opacity=\"1\" stroke-width=\"3.2\"/>\n",
       "<circle clip-path=\"url(#clip922)\" cx=\"234.428\" cy=\"800\" r=\"57.6\" fill=\"#ff0000\" fill-rule=\"evenodd\" fill-opacity=\"1\" stroke=\"#8b0000\" stroke-opacity=\"1\" stroke-width=\"3.2\"/>\n",
       "<circle clip-path=\"url(#clip922)\" cx=\"1731.9\" cy=\"800\" r=\"57.6\" fill=\"#008000\" fill-rule=\"evenodd\" fill-opacity=\"1\" stroke=\"#ff0000\" stroke-opacity=\"1\" stroke-width=\"3.2\"/>\n",
       "<polyline clip-path=\"url(#clip922)\" style=\"stroke:#ff0000; stroke-linecap:round; stroke-linejoin:round; stroke-width:8; stroke-opacity:1; fill:none\" points=\"234.428,800 608.795,800 \"/>\n",
       "<polyline clip-path=\"url(#clip922)\" style=\"stroke:#ff0000; stroke-linecap:round; stroke-linejoin:round; stroke-width:8; stroke-opacity:1; fill:none\" points=\"572.795,782 608.795,800 572.795,818 \"/>\n",
       "<polyline clip-path=\"url(#clip922)\" style=\"stroke:#ff0000; stroke-linecap:round; stroke-linejoin:round; stroke-width:8; stroke-opacity:1; fill:none\" points=\"608.795,800 234.428,800 \"/>\n",
       "<polyline clip-path=\"url(#clip922)\" style=\"stroke:#ff0000; stroke-linecap:round; stroke-linejoin:round; stroke-width:8; stroke-opacity:1; fill:none\" points=\"608.795,800 608.795,1301.84 \"/>\n",
       "<polyline clip-path=\"url(#clip922)\" style=\"stroke:#ff0000; stroke-linecap:round; stroke-linejoin:round; stroke-width:8; stroke-opacity:1; fill:none\" points=\"626.795,1265.84 608.795,1301.84 590.795,1265.84 \"/>\n",
       "<polyline clip-path=\"url(#clip922)\" style=\"stroke:#ff0000; stroke-linecap:round; stroke-linejoin:round; stroke-width:8; stroke-opacity:1; fill:none\" points=\"608.795,1301.84 608.795,800 \"/>\n",
       "<polyline clip-path=\"url(#clip922)\" style=\"stroke:#ff0000; stroke-linecap:round; stroke-linejoin:round; stroke-width:8; stroke-opacity:1; fill:none\" points=\"608.795,1301.84 983.163,1301.84 \"/>\n",
       "<polyline clip-path=\"url(#clip922)\" style=\"stroke:#ff0000; stroke-linecap:round; stroke-linejoin:round; stroke-width:8; stroke-opacity:1; fill:none\" points=\"947.163,1283.84 983.163,1301.84 947.163,1319.84 \"/>\n",
       "<polyline clip-path=\"url(#clip922)\" style=\"stroke:#ff0000; stroke-linecap:round; stroke-linejoin:round; stroke-width:8; stroke-opacity:1; fill:none\" points=\"983.163,1301.84 608.795,1301.84 \"/>\n",
       "<polyline clip-path=\"url(#clip922)\" style=\"stroke:#ff0000; stroke-linecap:round; stroke-linejoin:round; stroke-width:8; stroke-opacity:1; fill:none\" points=\"983.163,1301.84 1357.53,1301.84 \"/>\n",
       "<polyline clip-path=\"url(#clip922)\" style=\"stroke:#ff0000; stroke-linecap:round; stroke-linejoin:round; stroke-width:8; stroke-opacity:1; fill:none\" points=\"1321.53,1283.84 1357.53,1301.84 1321.53,1319.84 \"/>\n",
       "<polyline clip-path=\"url(#clip922)\" style=\"stroke:#ff0000; stroke-linecap:round; stroke-linejoin:round; stroke-width:8; stroke-opacity:1; fill:none\" points=\"1357.53,1301.84 983.163,1301.84 \"/>\n",
       "<polyline clip-path=\"url(#clip922)\" style=\"stroke:#ff0000; stroke-linecap:round; stroke-linejoin:round; stroke-width:8; stroke-opacity:1; fill:none\" points=\"1357.53,1301.84 1357.53,800 \"/>\n",
       "<polyline clip-path=\"url(#clip922)\" style=\"stroke:#ff0000; stroke-linecap:round; stroke-linejoin:round; stroke-width:8; stroke-opacity:1; fill:none\" points=\"1339.53,836 1357.53,800 1375.53,836 \"/>\n",
       "<polyline clip-path=\"url(#clip922)\" style=\"stroke:#ff0000; stroke-linecap:round; stroke-linejoin:round; stroke-width:8; stroke-opacity:1; fill:none\" points=\"1357.53,800 1357.53,1301.84 \"/>\n",
       "<polyline clip-path=\"url(#clip922)\" style=\"stroke:#ff0000; stroke-linecap:round; stroke-linejoin:round; stroke-width:8; stroke-opacity:1; fill:none\" points=\"1357.53,800 1731.9,800 \"/>\n",
       "<polyline clip-path=\"url(#clip922)\" style=\"stroke:#ff0000; stroke-linecap:round; stroke-linejoin:round; stroke-width:8; stroke-opacity:1; fill:none\" points=\"1695.9,782 1731.9,800 1695.9,818 \"/>\n",
       "<polyline clip-path=\"url(#clip922)\" style=\"stroke:#ff0000; stroke-linecap:round; stroke-linejoin:round; stroke-width:8; stroke-opacity:1; fill:none\" points=\"1731.9,800 1357.53,800 \"/>\n",
       "<path clip-path=\"url(#clip920)\" d=\"M1995.93 252.948 L2352.76 252.948 L2352.76 97.4278 L1995.93 97.4278  Z\" fill=\"#ffffff\" fill-rule=\"evenodd\" fill-opacity=\"1\"/>\n",
       "<polyline clip-path=\"url(#clip920)\" style=\"stroke:#000000; stroke-linecap:round; stroke-linejoin:round; stroke-width:4; stroke-opacity:1; fill:none\" points=\"1995.93,252.948 2352.76,252.948 2352.76,97.4278 1995.93,97.4278 1995.93,252.948 \"/>\n",
       "<circle clip-path=\"url(#clip920)\" cx=\"2098.4\" cy=\"149.268\" r=\"22.3418\" fill=\"#ff0000\" fill-rule=\"evenodd\" fill-opacity=\"1\" stroke=\"#8b0000\" stroke-opacity=\"1\" stroke-width=\"1.24121\"/>\n",
       "<path clip-path=\"url(#clip920)\" d=\"M2223.11 133.122 L2223.11 137.682 Q2220.45 136.409 2218.09 135.784 Q2215.73 135.159 2213.53 135.159 Q2209.71 135.159 2207.63 136.641 Q2205.57 138.122 2205.57 140.854 Q2205.57 143.145 2206.93 144.326 Q2208.32 145.483 2212.16 146.201 L2214.99 146.779 Q2220.22 147.775 2222.7 150.298 Q2225.2 152.798 2225.2 157.011 Q2225.2 162.034 2221.82 164.627 Q2218.46 167.219 2211.95 167.219 Q2209.5 167.219 2206.72 166.664 Q2203.97 166.108 2201.01 165.02 L2201.01 160.205 Q2203.85 161.802 2206.58 162.613 Q2209.32 163.423 2211.95 163.423 Q2215.96 163.423 2218.14 161.849 Q2220.31 160.275 2220.31 157.358 Q2220.31 154.812 2218.74 153.377 Q2217.19 151.941 2213.62 151.224 L2210.77 150.668 Q2205.54 149.627 2203.2 147.404 Q2200.87 145.182 2200.87 141.224 Q2200.87 136.641 2204.08 134.002 Q2207.32 131.363 2213 131.363 Q2215.43 131.363 2217.95 131.803 Q2220.47 132.242 2223.11 133.122 Z\" fill=\"#000000\" fill-rule=\"nonzero\" fill-opacity=\"1\" /><path clip-path=\"url(#clip920)\" d=\"M2236.51 133.261 L2236.51 140.622 L2245.29 140.622 L2245.29 143.932 L2236.51 143.932 L2236.51 158.006 Q2236.51 161.177 2237.37 162.08 Q2238.25 162.983 2240.91 162.983 L2245.29 162.983 L2245.29 166.548 L2240.91 166.548 Q2235.98 166.548 2234.11 164.719 Q2232.23 162.867 2232.23 158.006 L2232.23 143.932 L2229.11 143.932 L2229.11 140.622 L2232.23 140.622 L2232.23 133.261 L2236.51 133.261 Z\" fill=\"#000000\" fill-rule=\"nonzero\" fill-opacity=\"1\" /><path clip-path=\"url(#clip920)\" d=\"M2262.67 153.515 Q2257.51 153.515 2255.52 154.696 Q2253.53 155.877 2253.53 158.724 Q2253.53 160.992 2255.01 162.335 Q2256.51 163.654 2259.08 163.654 Q2262.63 163.654 2264.76 161.154 Q2266.91 158.631 2266.91 154.465 L2266.91 153.515 L2262.67 153.515 M2271.17 151.756 L2271.17 166.548 L2266.91 166.548 L2266.91 162.613 Q2265.45 164.974 2263.27 166.108 Q2261.1 167.219 2257.95 167.219 Q2253.97 167.219 2251.61 164.997 Q2249.27 162.752 2249.27 159.002 Q2249.27 154.627 2252.19 152.404 Q2255.13 150.182 2260.94 150.182 L2266.91 150.182 L2266.91 149.766 Q2266.91 146.826 2264.96 145.228 Q2263.04 143.608 2259.55 143.608 Q2257.32 143.608 2255.22 144.141 Q2253.11 144.673 2251.17 145.738 L2251.17 141.803 Q2253.51 140.9 2255.7 140.46 Q2257.9 139.997 2259.99 139.997 Q2265.61 139.997 2268.39 142.914 Q2271.17 145.83 2271.17 151.756 Z\" fill=\"#000000\" fill-rule=\"nonzero\" fill-opacity=\"1\" /><path clip-path=\"url(#clip920)\" d=\"M2294.96 144.603 Q2294.25 144.187 2293.39 144.002 Q2292.56 143.793 2291.54 143.793 Q2287.93 143.793 2285.98 146.154 Q2284.06 148.492 2284.06 152.89 L2284.06 166.548 L2279.78 166.548 L2279.78 140.622 L2284.06 140.622 L2284.06 144.65 Q2285.4 142.289 2287.56 141.154 Q2289.71 139.997 2292.79 139.997 Q2293.23 139.997 2293.76 140.066 Q2294.29 140.113 2294.94 140.229 L2294.96 144.603 Z\" fill=\"#000000\" fill-rule=\"nonzero\" fill-opacity=\"1\" /><path clip-path=\"url(#clip920)\" d=\"M2303.64 133.261 L2303.64 140.622 L2312.42 140.622 L2312.42 143.932 L2303.64 143.932 L2303.64 158.006 Q2303.64 161.177 2304.5 162.08 Q2305.38 162.983 2308.04 162.983 L2312.42 162.983 L2312.42 166.548 L2308.04 166.548 Q2303.11 166.548 2301.24 164.719 Q2299.36 162.867 2299.36 158.006 L2299.36 143.932 L2296.24 143.932 L2296.24 140.622 L2299.36 140.622 L2299.36 133.261 L2303.64 133.261 Z\" fill=\"#000000\" fill-rule=\"nonzero\" fill-opacity=\"1\" /><circle clip-path=\"url(#clip920)\" cx=\"2098.4\" cy=\"201.108\" r=\"22.3418\" fill=\"#008000\" fill-rule=\"evenodd\" fill-opacity=\"1\" stroke=\"#ff0000\" stroke-opacity=\"1\" stroke-width=\"1.24121\"/>\n",
       "<path clip-path=\"url(#clip920)\" d=\"M2200.87 183.828 L2220.73 183.828 L2220.73 187.763 L2205.54 187.763 L2205.54 197.948 L2219.25 197.948 L2219.25 201.883 L2205.54 201.883 L2205.54 218.388 L2200.87 218.388 L2200.87 183.828 Z\" fill=\"#000000\" fill-rule=\"nonzero\" fill-opacity=\"1\" /><path clip-path=\"url(#clip920)\" d=\"M2224.5 192.462 L2228.76 192.462 L2228.76 218.388 L2224.5 218.388 L2224.5 192.462 M2224.5 182.369 L2228.76 182.369 L2228.76 187.763 L2224.5 187.763 L2224.5 182.369 Z\" fill=\"#000000\" fill-rule=\"nonzero\" fill-opacity=\"1\" /><path clip-path=\"url(#clip920)\" d=\"M2259.22 202.74 L2259.22 218.388 L2254.96 218.388 L2254.96 202.879 Q2254.96 199.198 2253.53 197.369 Q2252.09 195.541 2249.22 195.541 Q2245.77 195.541 2243.78 197.74 Q2241.79 199.939 2241.79 203.735 L2241.79 218.388 L2237.51 218.388 L2237.51 192.462 L2241.79 192.462 L2241.79 196.49 Q2243.32 194.152 2245.38 192.994 Q2247.46 191.837 2250.17 191.837 Q2254.64 191.837 2256.93 194.615 Q2259.22 197.369 2259.22 202.74 Z\" fill=\"#000000\" fill-rule=\"nonzero\" fill-opacity=\"1\" /><path clip-path=\"url(#clip920)\" d=\"M2267.72 192.462 L2271.98 192.462 L2271.98 218.388 L2267.72 218.388 L2267.72 192.462 M2267.72 182.369 L2271.98 182.369 L2271.98 187.763 L2267.72 187.763 L2267.72 182.369 Z\" fill=\"#000000\" fill-rule=\"nonzero\" fill-opacity=\"1\" /><path clip-path=\"url(#clip920)\" d=\"M2297.42 193.226 L2297.42 197.254 Q2295.61 196.328 2293.67 195.865 Q2291.72 195.402 2289.64 195.402 Q2286.47 195.402 2284.87 196.374 Q2283.3 197.346 2283.3 199.291 Q2283.3 200.772 2284.43 201.629 Q2285.57 202.462 2288.99 203.226 L2290.45 203.55 Q2294.99 204.522 2296.88 206.305 Q2298.81 208.064 2298.81 211.235 Q2298.81 214.846 2295.94 216.953 Q2293.09 219.059 2288.09 219.059 Q2286.01 219.059 2283.74 218.642 Q2281.49 218.249 2278.99 217.439 L2278.99 213.041 Q2281.35 214.267 2283.64 214.892 Q2285.94 215.494 2288.18 215.494 Q2291.19 215.494 2292.81 214.476 Q2294.43 213.434 2294.43 211.559 Q2294.43 209.823 2293.25 208.897 Q2292.09 207.971 2288.13 207.115 L2286.65 206.768 Q2282.69 205.934 2280.94 204.221 Q2279.18 202.485 2279.18 199.476 Q2279.18 195.818 2281.77 193.828 Q2284.36 191.837 2289.13 191.837 Q2291.49 191.837 2293.57 192.184 Q2295.66 192.531 2297.42 193.226 Z\" fill=\"#000000\" fill-rule=\"nonzero\" fill-opacity=\"1\" /><path clip-path=\"url(#clip920)\" d=\"M2327.14 202.74 L2327.14 218.388 L2322.88 218.388 L2322.88 202.879 Q2322.88 199.198 2321.44 197.369 Q2320.01 195.541 2317.14 195.541 Q2313.69 195.541 2311.7 197.74 Q2309.71 199.939 2309.71 203.735 L2309.71 218.388 L2305.43 218.388 L2305.43 182.369 L2309.71 182.369 L2309.71 196.49 Q2311.24 194.152 2313.3 192.994 Q2315.38 191.837 2318.09 191.837 Q2322.56 191.837 2324.85 194.615 Q2327.14 197.369 2327.14 202.74 Z\" fill=\"#000000\" fill-rule=\"nonzero\" fill-opacity=\"1\" /><path clip-path=\"url(#clip920)\" d=\"M1328.77 487.151 L1345.09 487.151 L1345.09 491.086 L1323.14 491.086 L1323.14 487.151 Q1325.81 484.396 1330.39 479.766 Q1335 475.114 1336.18 473.771 Q1338.42 471.248 1339.3 469.512 Q1340.2 467.753 1340.2 466.063 Q1340.2 463.308 1338.26 461.572 Q1336.34 459.836 1333.24 459.836 Q1331.04 459.836 1328.58 460.6 Q1326.15 461.364 1323.38 462.915 L1323.38 458.192 Q1326.2 457.058 1328.65 456.479 Q1331.11 455.901 1333.14 455.901 Q1338.51 455.901 1341.71 458.586 Q1344.9 461.271 1344.9 465.762 Q1344.9 467.891 1344.09 469.813 Q1343.31 471.711 1341.2 474.303 Q1340.62 474.975 1337.52 478.192 Q1334.42 481.387 1328.77 487.151 Z\" fill=\"#000000\" fill-rule=\"nonzero\" fill-opacity=\"1\" /><path clip-path=\"url(#clip920)\" d=\"M1354.9 485.206 L1359.79 485.206 L1359.79 491.086 L1354.9 491.086 L1354.9 485.206 Z\" fill=\"#000000\" fill-rule=\"nonzero\" fill-opacity=\"1\" /><path clip-path=\"url(#clip920)\" d=\"M1379.97 459.604 Q1376.36 459.604 1374.53 463.169 Q1372.73 466.711 1372.73 473.84 Q1372.73 480.947 1374.53 484.512 Q1376.36 488.053 1379.97 488.053 Q1383.61 488.053 1385.41 484.512 Q1387.24 480.947 1387.24 473.84 Q1387.24 466.711 1385.41 463.169 Q1383.61 459.604 1379.97 459.604 M1379.97 455.901 Q1385.78 455.901 1388.84 460.507 Q1391.92 465.091 1391.92 473.84 Q1391.92 482.567 1388.84 487.174 Q1385.78 491.757 1379.97 491.757 Q1374.16 491.757 1371.08 487.174 Q1368.03 482.567 1368.03 473.84 Q1368.03 465.091 1371.08 460.507 Q1374.16 455.901 1379.97 455.901 Z\" fill=\"#000000\" fill-rule=\"nonzero\" fill-opacity=\"1\" /><path clip-path=\"url(#clip920)\" d=\"M960.501 223.755 Q957.168 223.755 955.246 225.538 Q953.348 227.32 953.348 230.445 Q953.348 233.57 955.246 235.352 Q957.168 237.135 960.501 237.135 Q963.834 237.135 965.756 235.352 Q967.677 233.547 967.677 230.445 Q967.677 227.32 965.756 225.538 Q963.858 223.755 960.501 223.755 M955.825 221.764 Q952.816 221.024 951.126 218.964 Q949.459 216.903 949.459 213.94 Q949.459 209.797 952.399 207.39 Q955.362 204.982 960.501 204.982 Q965.663 204.982 968.603 207.39 Q971.543 209.797 971.543 213.94 Q971.543 216.903 969.853 218.964 Q968.186 221.024 965.2 221.764 Q968.58 222.551 970.455 224.843 Q972.353 227.135 972.353 230.445 Q972.353 235.468 969.274 238.153 Q966.219 240.838 960.501 240.838 Q954.783 240.838 951.705 238.153 Q948.649 235.468 948.649 230.445 Q948.649 227.135 950.547 224.843 Q952.446 222.551 955.825 221.764 M954.112 214.38 Q954.112 217.065 955.779 218.57 Q957.469 220.075 960.501 220.075 Q963.51 220.075 965.2 218.57 Q966.913 217.065 966.913 214.38 Q966.913 211.695 965.2 210.19 Q963.51 208.686 960.501 208.686 Q957.469 208.686 955.779 210.19 Q954.112 211.695 954.112 214.38 Z\" fill=\"#000000\" fill-rule=\"nonzero\" fill-opacity=\"1\" /><path clip-path=\"url(#clip920)\" d=\"M980.663 234.288 L985.547 234.288 L985.547 240.167 L980.663 240.167 L980.663 234.288 Z\" fill=\"#000000\" fill-rule=\"nonzero\" fill-opacity=\"1\" /><path clip-path=\"url(#clip920)\" d=\"M1005.73 208.686 Q1002.12 208.686 1000.29 212.251 Q998.487 215.792 998.487 222.922 Q998.487 230.028 1000.29 233.593 Q1002.12 237.135 1005.73 237.135 Q1009.37 237.135 1011.17 233.593 Q1013 230.028 1013 222.922 Q1013 215.792 1011.17 212.251 Q1009.37 208.686 1005.73 208.686 M1005.73 204.982 Q1011.54 204.982 1014.6 209.589 Q1017.68 214.172 1017.68 222.922 Q1017.68 231.649 1014.6 236.255 Q1011.54 240.838 1005.73 240.838 Q999.922 240.838 996.843 236.255 Q993.788 231.649 993.788 222.922 Q993.788 214.172 996.843 209.589 Q999.922 204.982 1005.73 204.982 Z\" fill=\"#000000\" fill-rule=\"nonzero\" fill-opacity=\"1\" /><path clip-path=\"url(#clip920)\" d=\"M589.432 460.6 L577.627 479.049 L589.432 479.049 L589.432 460.6 M588.205 456.526 L594.085 456.526 L594.085 479.049 L599.015 479.049 L599.015 482.938 L594.085 482.938 L594.085 491.086 L589.432 491.086 L589.432 482.938 L573.83 482.938 L573.83 478.424 L588.205 456.526 Z\" fill=\"#000000\" fill-rule=\"nonzero\" fill-opacity=\"1\" /><path clip-path=\"url(#clip920)\" d=\"M606.747 485.206 L611.631 485.206 L611.631 491.086 L606.747 491.086 L606.747 485.206 Z\" fill=\"#000000\" fill-rule=\"nonzero\" fill-opacity=\"1\" /><path clip-path=\"url(#clip920)\" d=\"M631.816 459.604 Q628.205 459.604 626.376 463.169 Q624.571 466.711 624.571 473.84 Q624.571 480.947 626.376 484.512 Q628.205 488.053 631.816 488.053 Q635.45 488.053 637.256 484.512 Q639.085 480.947 639.085 473.84 Q639.085 466.711 637.256 463.169 Q635.45 459.604 631.816 459.604 M631.816 455.901 Q637.626 455.901 640.682 460.507 Q643.761 465.091 643.761 473.84 Q643.761 482.567 640.682 487.174 Q637.626 491.757 631.816 491.757 Q626.006 491.757 622.927 487.174 Q619.872 482.567 619.872 473.84 Q619.872 465.091 622.927 460.507 Q626.006 455.901 631.816 455.901 Z\" fill=\"#000000\" fill-rule=\"nonzero\" fill-opacity=\"1\" /><path clip-path=\"url(#clip920)\" d=\"M388.765 712.977 L396.403 712.977 L396.403 686.612 L388.093 688.278 L388.093 684.019 L396.357 682.353 L401.033 682.353 L401.033 712.977 L408.672 712.977 L408.672 716.913 L388.765 716.913 L388.765 712.977 Z\" fill=\"#ff0000\" fill-rule=\"nonzero\" fill-opacity=\"1\" /><path clip-path=\"url(#clip920)\" d=\"M418.116 711.033 L423.001 711.033 L423.001 716.913 L418.116 716.913 L418.116 711.033 Z\" fill=\"#ff0000\" fill-rule=\"nonzero\" fill-opacity=\"1\" /><path clip-path=\"url(#clip920)\" d=\"M443.186 685.431 Q439.575 685.431 437.746 688.996 Q435.94 692.538 435.94 699.667 Q435.94 706.774 437.746 710.339 Q439.575 713.88 443.186 713.88 Q446.82 713.88 448.625 710.339 Q450.454 706.774 450.454 699.667 Q450.454 692.538 448.625 688.996 Q446.82 685.431 443.186 685.431 M443.186 681.728 Q448.996 681.728 452.051 686.334 Q455.13 690.917 455.13 699.667 Q455.13 708.394 452.051 713.001 Q448.996 717.584 443.186 717.584 Q437.375 717.584 434.297 713.001 Q431.241 708.394 431.241 699.667 Q431.241 690.917 434.297 686.334 Q437.375 681.728 443.186 681.728 Z\" fill=\"#ff0000\" fill-rule=\"nonzero\" fill-opacity=\"1\" /><path clip-path=\"url(#clip920)\" d=\"M580.034 963.896 L596.353 963.896 L596.353 967.831 L574.409 967.831 L574.409 963.896 Q577.071 961.141 581.654 956.512 Q586.261 951.859 587.441 950.516 Q589.687 947.993 590.566 946.257 Q591.469 944.498 591.469 942.808 Q591.469 940.054 589.525 938.317 Q587.603 936.581 584.502 936.581 Q582.303 936.581 579.849 937.345 Q577.418 938.109 574.641 939.66 L574.641 934.938 Q577.465 933.804 579.918 933.225 Q582.372 932.646 584.409 932.646 Q589.779 932.646 592.974 935.331 Q596.168 938.017 596.168 942.507 Q596.168 944.637 595.358 946.558 Q594.571 948.456 592.464 951.049 Q591.886 951.72 588.784 954.938 Q585.682 958.132 580.034 963.896 Z\" fill=\"#ff0000\" fill-rule=\"nonzero\" fill-opacity=\"1\" /><path clip-path=\"url(#clip920)\" d=\"M606.168 961.952 L611.052 961.952 L611.052 967.831 L606.168 967.831 L606.168 961.952 Z\" fill=\"#ff0000\" fill-rule=\"nonzero\" fill-opacity=\"1\" /><path clip-path=\"url(#clip920)\" d=\"M631.237 936.35 Q627.626 936.35 625.798 939.915 Q623.992 943.456 623.992 950.586 Q623.992 957.692 625.798 961.257 Q627.626 964.799 631.237 964.799 Q634.872 964.799 636.677 961.257 Q638.506 957.692 638.506 950.586 Q638.506 943.456 636.677 939.915 Q634.872 936.35 631.237 936.35 M631.237 932.646 Q637.048 932.646 640.103 937.253 Q643.182 941.836 643.182 950.586 Q643.182 959.313 640.103 963.919 Q637.048 968.502 631.237 968.502 Q625.427 968.502 622.349 963.919 Q619.293 959.313 619.293 950.586 Q619.293 941.836 622.349 937.253 Q625.427 932.646 631.237 932.646 Z\" fill=\"#ff0000\" fill-rule=\"nonzero\" fill-opacity=\"1\" /><path clip-path=\"url(#clip920)\" d=\"M767.218 1214.81 L783.537 1214.81 L783.537 1218.75 L761.593 1218.75 L761.593 1214.81 Q764.255 1212.06 768.838 1207.43 Q773.445 1202.78 774.625 1201.44 Q776.871 1198.91 777.75 1197.18 Q778.653 1195.42 778.653 1193.73 Q778.653 1190.97 776.708 1189.24 Q774.787 1187.5 771.685 1187.5 Q769.486 1187.5 767.033 1188.26 Q764.602 1189.03 761.824 1190.58 L761.824 1185.86 Q764.648 1184.72 767.102 1184.14 Q769.556 1183.56 771.593 1183.56 Q776.963 1183.56 780.158 1186.25 Q783.352 1188.94 783.352 1193.43 Q783.352 1195.56 782.542 1197.48 Q781.755 1199.37 779.648 1201.97 Q779.07 1202.64 775.968 1205.86 Q772.866 1209.05 767.218 1214.81 Z\" fill=\"#ff0000\" fill-rule=\"nonzero\" fill-opacity=\"1\" /><path clip-path=\"url(#clip920)\" d=\"M793.352 1212.87 L798.236 1212.87 L798.236 1218.75 L793.352 1218.75 L793.352 1212.87 Z\" fill=\"#ff0000\" fill-rule=\"nonzero\" fill-opacity=\"1\" /><path clip-path=\"url(#clip920)\" d=\"M818.421 1187.27 Q814.81 1187.27 812.981 1190.83 Q811.176 1194.37 811.176 1201.5 Q811.176 1208.61 812.981 1212.18 Q814.81 1215.72 818.421 1215.72 Q822.055 1215.72 823.861 1212.18 Q825.69 1208.61 825.69 1201.5 Q825.69 1194.37 823.861 1190.83 Q822.055 1187.27 818.421 1187.27 M818.421 1183.56 Q824.231 1183.56 827.287 1188.17 Q830.366 1192.75 830.366 1201.5 Q830.366 1210.23 827.287 1214.84 Q824.231 1219.42 818.421 1219.42 Q812.611 1219.42 809.532 1214.84 Q806.477 1210.23 806.477 1201.5 Q806.477 1192.75 809.532 1188.17 Q812.611 1183.56 818.421 1183.56 Z\" fill=\"#ff0000\" fill-rule=\"nonzero\" fill-opacity=\"1\" /><path clip-path=\"url(#clip920)\" d=\"M1141.59 1214.81 L1157.9 1214.81 L1157.9 1218.75 L1135.96 1218.75 L1135.96 1214.81 Q1138.62 1212.06 1143.21 1207.43 Q1147.81 1202.78 1148.99 1201.44 Q1151.24 1198.91 1152.12 1197.18 Q1153.02 1195.42 1153.02 1193.73 Q1153.02 1190.97 1151.08 1189.24 Q1149.15 1187.5 1146.05 1187.5 Q1143.85 1187.5 1141.4 1188.26 Q1138.97 1189.03 1136.19 1190.58 L1136.19 1185.86 Q1139.02 1184.72 1141.47 1184.14 Q1143.92 1183.56 1145.96 1183.56 Q1151.33 1183.56 1154.53 1186.25 Q1157.72 1188.94 1157.72 1193.43 Q1157.72 1195.56 1156.91 1197.48 Q1156.12 1199.37 1154.02 1201.97 Q1153.44 1202.64 1150.34 1205.86 Q1147.23 1209.05 1141.59 1214.81 Z\" fill=\"#ff0000\" fill-rule=\"nonzero\" fill-opacity=\"1\" /><path clip-path=\"url(#clip920)\" d=\"M1167.72 1212.87 L1172.6 1212.87 L1172.6 1218.75 L1167.72 1218.75 L1167.72 1212.87 Z\" fill=\"#ff0000\" fill-rule=\"nonzero\" fill-opacity=\"1\" /><path clip-path=\"url(#clip920)\" d=\"M1192.79 1187.27 Q1189.18 1187.27 1187.35 1190.83 Q1185.54 1194.37 1185.54 1201.5 Q1185.54 1208.61 1187.35 1212.18 Q1189.18 1215.72 1192.79 1215.72 Q1196.42 1215.72 1198.23 1212.18 Q1200.06 1208.61 1200.06 1201.5 Q1200.06 1194.37 1198.23 1190.83 Q1196.42 1187.27 1192.79 1187.27 M1192.79 1183.56 Q1198.6 1183.56 1201.65 1188.17 Q1204.73 1192.75 1204.73 1201.5 Q1204.73 1210.23 1201.65 1214.84 Q1198.6 1219.42 1192.79 1219.42 Q1186.98 1219.42 1183.9 1214.84 Q1180.84 1210.23 1180.84 1201.5 Q1180.84 1192.75 1183.9 1188.17 Q1186.98 1183.56 1192.79 1183.56 Z\" fill=\"#ff0000\" fill-rule=\"nonzero\" fill-opacity=\"1\" /><path clip-path=\"url(#clip920)\" d=\"M1328.77 963.896 L1345.09 963.896 L1345.09 967.831 L1323.14 967.831 L1323.14 963.896 Q1325.81 961.141 1330.39 956.512 Q1335 951.859 1336.18 950.516 Q1338.42 947.993 1339.3 946.257 Q1340.2 944.498 1340.2 942.808 Q1340.2 940.054 1338.26 938.317 Q1336.34 936.581 1333.24 936.581 Q1331.04 936.581 1328.58 937.345 Q1326.15 938.109 1323.38 939.66 L1323.38 934.938 Q1326.2 933.804 1328.65 933.225 Q1331.11 932.646 1333.14 932.646 Q1338.51 932.646 1341.71 935.331 Q1344.9 938.017 1344.9 942.507 Q1344.9 944.637 1344.09 946.558 Q1343.31 948.456 1341.2 951.049 Q1340.62 951.72 1337.52 954.938 Q1334.42 958.132 1328.77 963.896 Z\" fill=\"#ff0000\" fill-rule=\"nonzero\" fill-opacity=\"1\" /><path clip-path=\"url(#clip920)\" d=\"M1354.9 961.952 L1359.79 961.952 L1359.79 967.831 L1354.9 967.831 L1354.9 961.952 Z\" fill=\"#ff0000\" fill-rule=\"nonzero\" fill-opacity=\"1\" /><path clip-path=\"url(#clip920)\" d=\"M1379.97 936.35 Q1376.36 936.35 1374.53 939.915 Q1372.73 943.456 1372.73 950.586 Q1372.73 957.692 1374.53 961.257 Q1376.36 964.799 1379.97 964.799 Q1383.61 964.799 1385.41 961.257 Q1387.24 957.692 1387.24 950.586 Q1387.24 943.456 1385.41 939.915 Q1383.61 936.35 1379.97 936.35 M1379.97 932.646 Q1385.78 932.646 1388.84 937.253 Q1391.92 941.836 1391.92 950.586 Q1391.92 959.313 1388.84 963.919 Q1385.78 968.502 1379.97 968.502 Q1374.16 968.502 1371.08 963.919 Q1368.03 959.313 1368.03 950.586 Q1368.03 941.836 1371.08 937.253 Q1374.16 932.646 1379.97 932.646 Z\" fill=\"#ff0000\" fill-rule=\"nonzero\" fill-opacity=\"1\" /><path clip-path=\"url(#clip920)\" d=\"M1511.87 712.977 L1519.51 712.977 L1519.51 686.612 L1511.2 688.278 L1511.2 684.019 L1519.46 682.353 L1524.14 682.353 L1524.14 712.977 L1531.77 712.977 L1531.77 716.913 L1511.87 716.913 L1511.87 712.977 Z\" fill=\"#ff0000\" fill-rule=\"nonzero\" fill-opacity=\"1\" /><path clip-path=\"url(#clip920)\" d=\"M1541.22 711.033 L1546.1 711.033 L1546.1 716.913 L1541.22 716.913 L1541.22 711.033 Z\" fill=\"#ff0000\" fill-rule=\"nonzero\" fill-opacity=\"1\" /><path clip-path=\"url(#clip920)\" d=\"M1566.29 685.431 Q1562.68 685.431 1560.85 688.996 Q1559.04 692.538 1559.04 699.667 Q1559.04 706.774 1560.85 710.339 Q1562.68 713.88 1566.29 713.88 Q1569.92 713.88 1571.73 710.339 Q1573.56 706.774 1573.56 699.667 Q1573.56 692.538 1571.73 688.996 Q1569.92 685.431 1566.29 685.431 M1566.29 681.728 Q1572.1 681.728 1575.15 686.334 Q1578.23 690.917 1578.23 699.667 Q1578.23 708.394 1575.15 713.001 Q1572.1 717.584 1566.29 717.584 Q1560.48 717.584 1557.4 713.001 Q1554.34 708.394 1554.34 699.667 Q1554.34 690.917 1557.4 686.334 Q1560.48 681.728 1566.29 681.728 Z\" fill=\"#ff0000\" fill-rule=\"nonzero\" fill-opacity=\"1\" /><path clip-path=\"url(#clip920)\" d=\"M222.405 816.681 L231.954 816.681 L231.954 783.724 L221.566 785.807 L221.566 780.483 L231.896 778.4 L237.741 778.4 L237.741 816.681 L247.289 816.681 L247.289 821.6 L222.405 821.6 L222.405 816.681 Z\" fill=\"#ffffff\" fill-rule=\"nonzero\" fill-opacity=\"1\" /><path clip-path=\"url(#clip920)\" d=\"M602.78 815.013 L621.139 815.013 L621.139 819.44 L596.452 819.44 L596.452 815.013 Q599.447 811.914 604.603 806.706 Q609.785 801.471 611.113 799.961 Q613.639 797.122 614.629 795.169 Q615.644 793.19 615.644 791.289 Q615.644 788.19 613.457 786.237 Q611.295 784.284 607.806 784.284 Q605.332 784.284 602.571 785.143 Q599.837 786.003 596.712 787.747 L596.712 782.435 Q599.889 781.159 602.65 780.508 Q605.41 779.857 607.702 779.857 Q613.743 779.857 617.337 782.878 Q620.931 785.899 620.931 790.951 Q620.931 793.346 620.019 795.508 Q619.134 797.643 616.764 800.56 Q616.113 801.315 612.624 804.935 Q609.134 808.529 602.78 815.013 Z\" fill=\"#000000\" fill-rule=\"nonzero\" fill-opacity=\"1\" /><path clip-path=\"url(#clip920)\" d=\"M613.574 296.639 Q617.35 297.447 619.459 299.999 Q621.595 302.551 621.595 306.301 Q621.595 312.056 617.637 315.207 Q613.678 318.358 606.387 318.358 Q603.939 318.358 601.335 317.863 Q598.756 317.394 595.996 316.431 L595.996 311.353 Q598.184 312.629 600.788 313.28 Q603.392 313.931 606.23 313.931 Q611.178 313.931 613.756 311.978 Q616.36 310.025 616.36 306.301 Q616.36 302.863 613.939 300.936 Q611.543 298.983 607.246 298.983 L602.715 298.983 L602.715 294.66 L607.454 294.66 Q611.334 294.66 613.392 293.124 Q615.449 291.561 615.449 288.645 Q615.449 285.65 613.314 284.061 Q611.204 282.447 607.246 282.447 Q605.085 282.447 602.611 282.915 Q600.137 283.384 597.168 284.374 L597.168 279.686 Q600.163 278.853 602.767 278.436 Q605.397 278.02 607.715 278.02 Q613.704 278.02 617.194 280.754 Q620.683 283.462 620.683 288.098 Q620.683 291.327 618.834 293.566 Q616.985 295.78 613.574 296.639 Z\" fill=\"#000000\" fill-rule=\"nonzero\" fill-opacity=\"1\" /><path clip-path=\"url(#clip920)\" d=\"M1360.92 283.306 L1347.63 304.061 L1360.92 304.061 L1360.92 283.306 M1359.54 278.723 L1366.15 278.723 L1366.15 304.061 L1371.7 304.061 L1371.7 308.436 L1366.15 308.436 L1366.15 317.603 L1360.92 317.603 L1360.92 308.436 L1343.36 308.436 L1343.36 303.358 L1359.54 278.723 Z\" fill=\"#000000\" fill-rule=\"nonzero\" fill-opacity=\"1\" /><path clip-path=\"url(#clip920)\" d=\"M1346.59 780.56 L1367.24 780.56 L1367.24 784.987 L1351.41 784.987 L1351.41 794.518 Q1352.56 794.128 1353.7 793.945 Q1354.85 793.737 1355.99 793.737 Q1362.5 793.737 1366.31 797.305 Q1370.11 800.872 1370.11 806.966 Q1370.11 813.242 1366.2 816.732 Q1362.3 820.195 1355.19 820.195 Q1352.74 820.195 1350.19 819.779 Q1347.66 819.362 1344.95 818.529 L1344.95 813.242 Q1347.3 814.518 1349.8 815.143 Q1352.3 815.768 1355.08 815.768 Q1359.59 815.768 1362.22 813.398 Q1364.85 811.029 1364.85 806.966 Q1364.85 802.904 1362.22 800.534 Q1359.59 798.164 1355.08 798.164 Q1352.97 798.164 1350.86 798.633 Q1348.78 799.102 1346.59 800.091 L1346.59 780.56 Z\" fill=\"#000000\" fill-rule=\"nonzero\" fill-opacity=\"1\" /><path clip-path=\"url(#clip920)\" d=\"M609.251 1299.74 Q605.71 1299.74 603.626 1302.16 Q601.569 1304.58 601.569 1308.8 Q601.569 1313 603.626 1315.44 Q605.71 1317.87 609.251 1317.87 Q612.793 1317.87 614.85 1315.44 Q616.933 1313 616.933 1308.8 Q616.933 1304.58 614.85 1302.16 Q612.793 1299.74 609.251 1299.74 M619.694 1283.26 L619.694 1288.05 Q617.715 1287.11 615.683 1286.62 Q613.678 1286.12 611.699 1286.12 Q606.491 1286.12 603.73 1289.64 Q600.996 1293.15 600.605 1300.26 Q602.142 1298 604.46 1296.8 Q606.777 1295.57 609.564 1295.57 Q615.423 1295.57 618.808 1299.14 Q622.22 1302.68 622.22 1308.8 Q622.22 1314.79 618.678 1318.41 Q615.137 1322.03 609.251 1322.03 Q602.506 1322.03 598.939 1316.88 Q595.371 1311.69 595.371 1301.88 Q595.371 1292.66 599.746 1287.19 Q604.121 1281.69 611.491 1281.69 Q613.47 1281.69 615.475 1282.08 Q617.506 1282.48 619.694 1283.26 Z\" fill=\"#000000\" fill-rule=\"nonzero\" fill-opacity=\"1\" /><path clip-path=\"url(#clip920)\" d=\"M970.663 1282.4 L995.663 1282.4 L995.663 1284.64 L981.548 1321.28 L976.054 1321.28 L989.335 1286.82 L970.663 1286.82 L970.663 1282.4 Z\" fill=\"#000000\" fill-rule=\"nonzero\" fill-opacity=\"1\" /><path clip-path=\"url(#clip920)\" d=\"M1357.53 1302.81 Q1353.78 1302.81 1351.62 1304.82 Q1349.48 1306.82 1349.48 1310.34 Q1349.48 1313.86 1351.62 1315.86 Q1353.78 1317.87 1357.53 1317.87 Q1361.28 1317.87 1363.44 1315.86 Q1365.6 1313.83 1365.6 1310.34 Q1365.6 1306.82 1363.44 1304.82 Q1361.31 1302.81 1357.53 1302.81 M1352.27 1300.57 Q1348.88 1299.74 1346.98 1297.42 Q1345.11 1295.11 1345.11 1291.77 Q1345.11 1287.11 1348.42 1284.4 Q1351.75 1281.69 1357.53 1281.69 Q1363.34 1281.69 1366.65 1284.4 Q1369.95 1287.11 1369.95 1291.77 Q1369.95 1295.11 1368.05 1297.42 Q1366.18 1299.74 1362.82 1300.57 Q1366.62 1301.46 1368.73 1304.04 Q1370.86 1306.62 1370.86 1310.34 Q1370.86 1315.99 1367.4 1319.01 Q1363.96 1322.03 1357.53 1322.03 Q1351.1 1322.03 1347.63 1319.01 Q1344.2 1315.99 1344.2 1310.34 Q1344.2 1306.62 1346.33 1304.04 Q1348.47 1301.46 1352.27 1300.57 M1350.34 1292.27 Q1350.34 1295.29 1352.22 1296.98 Q1354.12 1298.67 1357.53 1298.67 Q1360.92 1298.67 1362.82 1296.98 Q1364.74 1295.29 1364.74 1292.27 Q1364.74 1289.25 1362.82 1287.55 Q1360.92 1285.86 1357.53 1285.86 Q1354.12 1285.86 1352.22 1287.55 Q1350.34 1289.25 1350.34 1292.27 Z\" fill=\"#000000\" fill-rule=\"nonzero\" fill-opacity=\"1\" /><path clip-path=\"url(#clip920)\" d=\"M1719.77 820.703 L1719.77 815.379 Q1721.97 816.421 1724.23 816.97 Q1726.49 817.52 1728.66 817.52 Q1734.44 817.52 1737.48 813.643 Q1740.55 809.737 1740.98 801.808 Q1739.31 804.297 1736.73 805.628 Q1734.16 806.959 1731.03 806.959 Q1724.55 806.959 1720.76 803.053 Q1717 799.117 1717 792.318 Q1717 785.663 1720.93 781.641 Q1724.87 777.619 1731.41 777.619 Q1738.9 777.619 1742.84 783.377 Q1746.8 789.106 1746.8 800.043 Q1746.8 810.257 1741.94 816.363 Q1737.11 822.439 1728.92 822.439 Q1726.72 822.439 1724.46 822.005 Q1722.2 821.571 1719.77 820.703 M1731.41 802.387 Q1735.34 802.387 1737.63 799.696 Q1739.94 797.005 1739.94 792.318 Q1739.94 787.659 1737.63 784.968 Q1735.34 782.248 1731.41 782.248 Q1727.47 782.248 1725.16 784.968 Q1722.87 787.659 1722.87 792.318 Q1722.87 797.005 1725.16 799.696 Q1727.47 802.387 1731.41 802.387 Z\" fill=\"#ffffff\" fill-rule=\"nonzero\" fill-opacity=\"1\" /></svg>\n"
      ],
      "text/html": [
       "<img src=\"data:image/png;base64,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\" />"
      ]
     },
     "metadata": {},
     "output_type": "display_data"
    }
   ],
   "source": [
    "let\n",
    "\n",
    "    # initialize -\n",
    "    base_graphmodel = directedgraphmodel;\n",
    "    source_node = 1\n",
    "    target_node = 9\n",
    "    shortest_path_nodes = reconstruct_path(p,  target_node); # reconstruct the path to the project completion node (9)\n",
    "\n",
    "    # build set of edges on the shortest path for quick lookup\n",
    "    path_edges = length(shortest_path_nodes) > 1 ? Set((shortest_path_nodes[i], shortest_path_nodes[i+1]) for i in 1:length(shortest_path_nodes)-1) : Set{Tuple{Int,Int}}()\n",
    "\n",
    "    q = plot();\n",
    "    for (k,v) ∈ base_graphmodel.edgesinverse\n",
    "       \n",
    "        # now, get the source,target node index for this edge\n",
    "        s = v[1];\n",
    "        t = v[2];\n",
    "        # draw baseline edge\n",
    "        plot!([node_coordinates[s,1], node_coordinates[t,1]],[node_coordinates[s,2], node_coordinates[t,2]], arrow=true, color=:gray90, lw=2, label=\"\")\n",
    "        # annotate the edge weight slightly above the midpoint unless this edge is on the shortest path\n",
    "        if !((s,t) in path_edges)\n",
    "            mx = (node_coordinates[s,1] + node_coordinates[t,1]) / 2\n",
    "            my = (node_coordinates[s,2] + node_coordinates[t,2]) / 2\n",
    "            w = round(base_graphmodel.edges[(s,t)], digits=2)\n",
    "            annotate!(mx, my + 0.15, text(string(w), 8, :black))\n",
    "        end\n",
    "    end\n",
    "    scatter!(node_coordinates[:,1], node_coordinates[:,2], axis=nothing, border=:none, label=\"\", c=:gray, ms=16)\n",
    "    \n",
    "   \n",
    "    scatter!([node_coordinates[source_node,1]], [node_coordinates[source_node,2]], \n",
    "             c=:red, ms=16, markerstroke=2, markerstrokecolor=:darkred, \n",
    "             label=\"Start\")\n",
    "\n",
    "    scatter!([node_coordinates[target_node,1]], [node_coordinates[target_node,2]], \n",
    "             c=:green, ms=16, markerstroke=2, markerstrokecolor=:red, \n",
    "             label=\"Finish\")\n",
    "\n",
    "    # plot path -\n",
    "    for i in 1:length(shortest_path_nodes)-1\n",
    "        s = shortest_path_nodes[i]\n",
    "        t = shortest_path_nodes[i+1]\n",
    "        plot!([node_coordinates[s,1], node_coordinates[t,1]],[node_coordinates[s,2], node_coordinates[t,2]], arrow=true, color=:red, lw=2, label=\"\")\n",
    "        # annotate the path-edge weight in red slightly above the red edge\n",
    "        mwx = (node_coordinates[s,1] + node_coordinates[t,1]) / 2\n",
    "        mwy = (node_coordinates[s,2] + node_coordinates[t,2]) / 2\n",
    "        w = round(base_graphmodel.edges[(s,t)], digits=2)\n",
    "        annotate!(mwx, mwy + 0.20, text(string(w), 8, :red))\n",
    "    end\n",
    "\n",
    "    n_nodes = size(node_coordinates, 1)\n",
    "    for i in 1:n_nodes\n",
    "        x = node_coordinates[i,1]\n",
    "        y = node_coordinates[i,2]\n",
    "        if i == source_node || i == target_node\n",
    "            # white text for the red source node\n",
    "            annotate!(x, y, text(string(i), 10, :white))\n",
    "        else\n",
    "            # black text for other nodes\n",
    "            annotate!(x, y, text(string(i), 9, :black))\n",
    "        end\n",
    "    end\n",
    "\n",
    "    plot!(axis=nothing, border=:none, legend=:outertopright, legendfontsize=8, \n",
    "          background_color=:white, xlim=(9.5, 14.5), ylim=(8.5, 11.5))\n",
    "\n",
    "    current()\n",
    "end"
   ]
  },
  {
   "cell_type": "markdown",
   "id": "e5f7d03e",
   "metadata": {},
   "source": [
    "## Task 3: There was a sale on equipment!\n",
    "In this task, we'll implement a scenario in which the expensive steps of the process in the top branch are discounted, affecting the overall cost and potentially the shortest path, e.g., we take advantage of a sale (or a donation) on the equipment that makes up a specific edge to discount, namely `(3, 4)` which corresponds to edge `4.`\n",
    "\n",
    "Make a copy of the original graph model, and then update the edge weights to reflect the sale price of that step. We'll [use the `deepcopy(...)` method](https://docs.julialang.org/en/v1/base/base/#Base.deepcopy) to make a copy of the graph model, then we'll update the edge weights.\n",
    "\n",
    "Save the copy of the graph model in the `discounted_graphmodel::MySimpleDirectedGraphModel` variable."
   ]
  },
  {
   "cell_type": "code",
   "execution_count": 16,
   "id": "f67beeee",
   "metadata": {},
   "outputs": [],
   "source": [
    "discounted_graphmodel = deepcopy(directedgraphmodel); # make a copy of the original graph model"
   ]
  },
  {
   "cell_type": "markdown",
   "id": "fed808fb",
   "metadata": {},
   "source": [
    "The [`MySimpleDirectedGraphModel` type is mutable](https://varnerlab.github.io/VLDataScienceMachineLearningPackage.jl/dev/types/#VLDataScienceMachineLearningPackage.MySimpleDirectedGraphModel), and the edge weights are stored in the `edges::Dict{Tuple{Int,Int},Float64}` field (which is also mutable), so we can update the model."
   ]
  },
  {
   "cell_type": "code",
   "execution_count": 17,
   "id": "96ac454a",
   "metadata": {},
   "outputs": [],
   "source": [
    "discounted_graphmodel = let \n",
    "\n",
    "    # initialize -\n",
    "    discount_factor = 0.0; # discount factor\n",
    "    expensive_steps = [4]; # these are the steps that are discounted\n",
    "    edgesinverse = discounted_graphmodel.edgesinverse; # get the inverse edge map\n",
    "\n",
    "    for step ∈ expensive_steps\n",
    "       \n",
    "        # get the node tuple associated with this edge\n",
    "        (s,t) = edgesinverse[step];\n",
    "        \n",
    "        # apply the discount factor to the edge weight\n",
    "        discounted_graphmodel.edges[(s,t)] *= discount_factor;\n",
    "    end\n",
    "    discounted_graphmodel\n",
    "end;"
   ]
  },
  {
   "cell_type": "markdown",
   "id": "efdb3b2b",
   "metadata": {},
   "source": [
    "What are the new prices for the edges?"
   ]
  },
  {
   "cell_type": "code",
   "execution_count": 18,
   "id": "ade6b855",
   "metadata": {},
   "outputs": [
    {
     "name": "stdout",
     "output_type": "stream",
     "text": [
      "======== ======= ======= ========= ============== ==========\n",
      " \u001b[1m  edge \u001b[0m \u001b[1m     s \u001b[0m \u001b[1m     t \u001b[0m \u001b[1m       w \u001b[0m \u001b[1m w_discounted \u001b[0m \u001b[1m       Δ \u001b[0m\n",
      " \u001b[90m Int64 \u001b[0m \u001b[90m Int64 \u001b[0m \u001b[90m Int64 \u001b[0m \u001b[90m Float64 \u001b[0m \u001b[90m      Float64 \u001b[0m \u001b[90m Float64 \u001b[0m\n",
      "======== ======= ======= ========= ============== ==========\n",
      "      1       1       2       1.0            1.0       0.0\n",
      "      2       2       3       4.0            4.0       0.0\n",
      "      3       2       6       2.0            2.0       0.0\n",
      "      4       3       4       8.0            0.0      -8.0\n",
      "      5       4       5       2.0            2.0       0.0\n",
      "      6       5       9       1.0            1.0       0.0\n",
      "      7       6       7       2.0            2.0       0.0\n",
      "      8       7       8       2.0            2.0       0.0\n",
      "      9       8       5       2.0            2.0       0.0\n",
      "======== ======= ======= ========= ============== ==========\n"
     ]
    }
   ],
   "source": [
    "let\n",
    "\n",
    "    # initialize -\n",
    "    df = DataFrame(); \n",
    "    edges = directedgraphmodel.edges\n",
    "    discounted_edges = discounted_graphmodel.edges\n",
    "    edgesinverse = directedgraphmodel.edgesinverse\n",
    "    edge_id_vector = keys(edgesinverse) |> collect |> sort;\n",
    "\n",
    "    # look at the edges -\n",
    "    for i ∈ edge_id_vector\n",
    "\n",
    "        (s,t) = edgesinverse[i] # get the source and target nodes for this edge\n",
    "\n",
    "        row_df = (\n",
    "            edge = i,\n",
    "            s = s,\n",
    "            t = t,\n",
    "            w = edges[(s,t)],\n",
    "            w_discounted = discounted_edges[(s,t)],\n",
    "            Δ =  discounted_edges[(s,t)] - edges[(s,t)]\n",
    "        )\n",
    "        push!(df, row_df);\n",
    "    end\n",
    "\n",
    "    pretty_table(df, tf = tf_simple);\n",
    "end"
   ]
  },
  {
   "cell_type": "markdown",
   "id": "9c69a47e",
   "metadata": {},
   "source": [
    "Now that we have a new cost for the most expensive step, does the discounting change the path we should choose?"
   ]
  },
  {
   "cell_type": "code",
   "execution_count": 19,
   "id": "1bd90a4b",
   "metadata": {},
   "outputs": [],
   "source": [
    "(d₁,p₁) = let\n",
    "    \n",
    "    # initialize -\n",
    "    startnode = discounted_graphmodel.nodes[1];\n",
    "\n",
    "    # run the Dijkstra Algorithm algorithm -\n",
    "    (d,p) = findshortestpath(discounted_graphmodel, startnode, algorithm = DijkstraAlgorithm());\n",
    "\n",
    "    (d,p) # return\n",
    "end;"
   ]
  },
  {
   "cell_type": "markdown",
   "id": "214ca176",
   "metadata": {},
   "source": [
    "__Visualize:__ `Unhide` the code block below to see the graph with discounted edge weights.\n",
    "> __Expected Output:__ If we can take advantage of the sale (or donation) of equipment, and the discount is enough, we should see a lower overall cost of the `1->2->3->4->5->9` path and potentially a different shortest path will emerge. There should be some critical discounted price for the `(3,4)` edge that makes this path more attractive.\n",
    "\n",
    "What do we see?"
   ]
  },
  {
   "cell_type": "code",
   "execution_count": null,
   "id": "92657f38",
   "metadata": {},
   "outputs": [
    {
     "ename": "UndefVarError",
     "evalue": "UndefVarError: `directedgraphmodel` not defined in `Main`\nSuggestion: check for spelling errors or missing imports.",
     "output_type": "error",
     "traceback": [
      "UndefVarError: `directedgraphmodel` not defined in `Main`\n",
      "Suggestion: check for spelling errors or missing imports.\n",
      "\n",
      "Stacktrace:\n",
      " [1] top-level scope\n",
      "   @ ~/Desktop/julia_work/CHEME-140-eCornell-Repository/courses/CHEME-143/module-3/jl_notebook_cell_df34fa98e69747e1a8f8a730347b8e2f_X61sZmlsZQ==.jl:4"
     ]
    }
   ],
   "source": [
    "let\n",
    "\n",
    "    # initialize -\n",
    "    base_graphmodel = discounted_graphmodel;\n",
    "    source_node = 1\n",
    "    target_node = 9\n",
    "    shortest_path_nodes = reconstruct_path(p₁,  target_node); # reconstruct the path to the project completion node (9)\n",
    "\n",
    "    # build set of edges on the shortest path for quick lookup\n",
    "    path_edges = length(shortest_path_nodes) > 1 ? Set((shortest_path_nodes[i], shortest_path_nodes[i+1]) for i in 1:length(shortest_path_nodes)-1) : Set{Tuple{Int,Int}}()\n",
    "\n",
    "    q = plot();\n",
    "    for (k,v) ∈ base_graphmodel.edgesinverse\n",
    "       \n",
    "        # now, get the source,target node index for this edge\n",
    "        s = v[1];\n",
    "        t = v[2];\n",
    "        # draw baseline edge\n",
    "        plot!([node_coordinates[s,1], node_coordinates[t,1]],[node_coordinates[s,2], node_coordinates[t,2]], arrow=true, color=:gray90, lw=2, label=\"\")\n",
    "        # annotate the edge weight slightly above the midpoint unless this edge is on the shortest path\n",
    "        if !((s,t) in path_edges)\n",
    "            mx = (node_coordinates[s,1] + node_coordinates[t,1]) / 2\n",
    "            my = (node_coordinates[s,2] + node_coordinates[t,2]) / 2\n",
    "            w = round(base_graphmodel.edges[(s,t)], digits=2)\n",
    "            annotate!(mx, my + 0.15, text(string(w), 8, :black))\n",
    "        end\n",
    "    end\n",
    "    scatter!(node_coordinates[:,1], node_coordinates[:,2], axis=nothing, border=:none, label=\"\", c=:gray, ms=16)\n",
    "    \n",
    "   \n",
    "    scatter!([node_coordinates[source_node,1]], [node_coordinates[source_node,2]], \n",
    "             c=:red, ms=16, markerstroke=2, markerstrokecolor=:darkred, \n",
    "             label=\"Start\")\n",
    "\n",
    "    scatter!([node_coordinates[target_node,1]], [node_coordinates[target_node,2]], \n",
    "             c=:green, ms=16, markerstroke=2, markerstrokecolor=:red, \n",
    "             label=\"Finish\")\n",
    "\n",
    "    # plot path -\n",
    "    for i in 1:length(shortest_path_nodes)-1\n",
    "        s = shortest_path_nodes[i]\n",
    "        t = shortest_path_nodes[i+1]\n",
    "        plot!([node_coordinates[s,1], node_coordinates[t,1]],[node_coordinates[s,2], node_coordinates[t,2]], arrow=true, color=:red, lw=2, label=\"\")\n",
    "        # annotate the path-edge weight in red slightly above the red edge\n",
    "        mwx = (node_coordinates[s,1] + node_coordinates[t,1]) / 2\n",
    "        mwy = (node_coordinates[s,2] + node_coordinates[t,2]) / 2\n",
    "        w = round(base_graphmodel.edges[(s,t)], digits=2)\n",
    "        annotate!(mwx, mwy + 0.20, text(string(w), 8, :red))\n",
    "    end\n",
    "\n",
    "    n_nodes = size(node_coordinates, 1)\n",
    "    for i in 1:n_nodes\n",
    "        x = node_coordinates[i,1]\n",
    "        y = node_coordinates[i,2]\n",
    "        if i == source_node || i == target_node\n",
    "            # white text for the red source node\n",
    "            annotate!(x, y, text(string(i), 10, :white))\n",
    "        else\n",
    "            # black text for other nodes\n",
    "            annotate!(x, y, text(string(i), 9, :black))\n",
    "        end\n",
    "    end\n",
    "\n",
    "    plot!(axis=nothing, border=:none, legend=:outertopright, legendfontsize=8, \n",
    "          background_color=:white, xlim=(9.5, 14.5), ylim=(8.5, 11.5))\n",
    "\n",
    "    current()\n",
    "end"
   ]
  },
  {
   "cell_type": "markdown",
   "id": "539aadd4",
   "metadata": {},
   "source": [
    "## Summary\n",
    "In this activity, we successfully applied Dijkstra's algorithm to solve a project planning optimization problem with step costs. The problem demonstrated why __non-negative edge weights__ are crucial for Dijkstra: all project costs were positive (time, money, resources), making it the perfect choice over Bellman-Ford for efficiency.\n",
    "\n",
    "> __Key insights:__ Our project graph structure made the optimization straightforward because we only had two main competing paths from start to finish. This meant we could manually predict the optimal route and verify Dijkstra found the same solution, building confidence in both our intuition and the algorithm.\n",
    "\n",
    "> __Algorithm verification:__ Our manual cost analysis predicted which path Dijkstra should choose based on the edge weights. This demonstrates how breaking down simple problems can help us understand and verify complex algorithms before applying them to larger, more challenging scenarios.\n",
    "\n",
    "__Real-world formulation:__ In practice, project management problems often involve more complex constraints like resource availability, task dependencies, and uncertain costs. While our shortest path approach works well for simple sequential planning, techniques like __Critical Path Method (CPM)__ or __project scheduling algorithms__ would be more appropriate for complex project management with parallel tasks and resource constraints.\n",
    "\n",
    "__Looking ahead:__ Understanding when and why to choose Dijkstra over Bellman-Ford is crucial for optimization problems. Dijkstra's efficiency with non-negative weights makes it ideal for many real-world applications, but recognizing its limitations helps us choose the right tool for each problem."
   ]
  },
  {
   "cell_type": "markdown",
   "id": "ed84c5cc",
   "metadata": {},
   "source": []
  }
 ],
 "metadata": {
  "kernelspec": {
   "display_name": "Julia 1.11.6",
   "language": "julia",
   "name": "julia-1.11"
  },
  "language_info": {
   "file_extension": ".jl",
   "mimetype": "application/julia",
   "name": "julia",
   "version": "1.11.6"
  }
 },
 "nbformat": 4,
 "nbformat_minor": 5
}
