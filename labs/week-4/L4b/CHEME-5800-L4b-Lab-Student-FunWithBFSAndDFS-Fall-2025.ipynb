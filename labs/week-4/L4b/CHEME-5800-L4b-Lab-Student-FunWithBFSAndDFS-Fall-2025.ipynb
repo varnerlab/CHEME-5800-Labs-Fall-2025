{
 "cells": [
  {
   "cell_type": "markdown",
   "id": "89ae1712-ea46-4fd9-9e0f-d2b2f796d2ec",
   "metadata": {},
   "source": [
    "# L4b: Breadth-First Search (BFS) and Depth-First Search (DFS) on a Graph\n",
    "This lab will familiarize students with [Breadth-First Search](CHEME-5800-L4a-Algorithm-BFS-Fall-2025.ipynb) and [Depth-First Search](CHEME-5800-L4a-Algorithm-DFS-Fall-2025.ipynb) graph traversal on a simple graph example. \n",
    "\n",
    "> __Learning Objectives__\n",
    "> \n",
    "> * **Build and validate directed graph models from edge list data.** You'll learn how to construct graph data structures from file-based edge lists and use unit testing to verify that your graph implementation is mathematically sound and structurally correct.\n",
    "> * **Implement and compare DFS and BFS traversal algorithms.** We'll explore how these fundamental algorithms work differently on the same graph structure, particularly seeing how directed edges constrain which nodes you can actually reach from different starting points.\n",
    "> * **Apply graph theory concepts through hands-on computation.** You'll get practical experience with concepts like the Handshaking Lemma and degree calculations, connecting theoretical graph properties to real algorithmic implementations.\n",
    "\n",
    "The practical implementation demonstrates how these fundamental traversal algorithms behave differently on the same graph structure, particularly highlighting how directed edges constrain reachability from different starting nodes.\n",
    "\n",
    "Let's get started!\n",
    "___"
   ]
  },
  {
   "cell_type": "markdown",
   "id": "cf524133",
   "metadata": {},
   "source": [
    "## Setup, Data, and Prerequisites\n",
    "First, we set up the computational environment by including the `Include.jl` file and loading any needed resources.\n",
    "\n",
    "> The [include command](https://docs.julialang.org/en/v1/base/base/#include) evaluates the contents of the input source file, `Include.jl`, in the notebook's global scope. The `Include.jl` file sets paths, loads required external packages, etc. For additional information on functions and types used in this material, see the [Julia programming language documentation](https://docs.julialang.org/en/v1/). \n",
    "\n",
    "Let's set up our environment:"
   ]
  },
  {
   "cell_type": "code",
   "execution_count": 1,
   "id": "cb5bce01",
   "metadata": {},
   "outputs": [],
   "source": [
    "include(joinpath(@__DIR__, \"Include-student.jl\")); # what is this doing?"
   ]
  },
  {
   "cell_type": "markdown",
   "id": "79dfc009",
   "metadata": {},
   "source": [
    "In addition to standard Julia libraries, we'll also use [the `VLDataScienceMachineLearningPackage.jl` package](https://github.com/varnerlab/VLDataScienceMachineLearningPackage.jl). Check out [the documentation](https://varnerlab.github.io/VLDataScienceMachineLearningPackage.jl/dev/) for more information on the functions, types, and data used in this material.\n",
    "\n",
    "___"
   ]
  },
  {
   "cell_type": "markdown",
   "id": "720863c1",
   "metadata": {},
   "source": [
    "<div>\n",
    "    <center>\n",
    "        <img src=\"figs/Fig-Example-Graph.svg\" width=\"480\"/>\n",
    "    </center>\n",
    "</div>"
   ]
  },
  {
   "cell_type": "markdown",
   "id": "60086ab6",
   "metadata": {},
   "source": [
    "## Task 1: Build a graph model instance for an example graph using an edge list\n",
    "In this task, we'll build [a `MySimpleDirectedGraphModel` instance](https://varnerlab.github.io/VLDataScienceMachineLearningPackage.jl/dev/types/#VLDataScienceMachineLearningPackage.MySimpleDirectedGraphModel) from an edge list file stored in the `data` folder. This edge list encodes the graph shown above.\n",
    "\n",
    "\n",
    "### Aside: Adjacency Matrix versus Edge List\n",
    "A graph $\\mathcal{G}=\\left(\\mathcal{V},\\mathcal{E}\\right)$ can be constructed from an [Adjacency Matrix](https://en.wikipedia.org/wiki/Adjacency_matrix) $\\mathcal{A}$, which is a $|\\mathcal{V}|\\times|\\mathcal{V}|$ matrix. However, this is only suitable for _small graphs_ because $\\mathcal{A}$ has a high memory overhead (if stored as `64-bit` values).\n",
    "\n",
    "For example, consider a graph with $|\\mathcal{V}|$ = 100,000 nodes which would require `80 GB` of memory to store in the worst case, which is more memory than most common machines have."
   ]
  },
  {
   "cell_type": "code",
   "execution_count": 2,
   "id": "c1f03f19",
   "metadata": {},
   "outputs": [
    {
     "data": {
      "text/plain": [
       "80.0"
      ]
     },
     "metadata": {},
     "output_type": "display_data"
    }
   ],
   "source": [
    "𝒱 = 100000;\n",
    "memory_reqd = (𝒱^2)*8*(1/(1e9)) # 8 x bytes (64-bits) for each entry = units GB"
   ]
  },
  {
   "cell_type": "markdown",
   "id": "0ac611d1",
   "metadata": {},
   "source": [
    "Instead, a lower memory representation is an [Edge list representation](https://en.wikipedia.org/wiki/Edge_list). In the [Edge list representation](https://en.wikipedia.org/wiki/Edge_list), only the edge information is stored (typically) in a comma-separated value (CSV) file in which each record holds an edge in the graph:\n",
    "\n",
    "> __Edge list__: Each record in an edge list file will contain at least the source, target, and weight fields (for a weighted graph). There can be variations in the exact format, but this is the general structure. For example, there could be id, source, target, weight. The delimiter is typically a comma, but could also be a tab or space, etc.\n",
    "\n",
    "We've built [the `MyGraphEdgeModels(...)` function](https://varnerlab.github.io/VLDataScienceMachineLearningPackage.jl/dev/data/#VLDataScienceMachineLearningPackage.MyGraphEdgeModels) which takes a file path as an argument, and returns a dictionary of [`MyGraphEdgeModel` instances](https://varnerlab.github.io/VLDataScienceMachineLearningPackage.jl/dev/types/#VLDataScienceMachineLearningPackage.MyGraphEdgeModel) to hold this information. Let's load an edge list. \n",
    "\n",
    "First, set the path to the edge list file in the `path_to_edge_file::String` variable:"
   ]
  },
  {
   "cell_type": "code",
   "execution_count": 3,
   "id": "0e527298",
   "metadata": {},
   "outputs": [],
   "source": [
    "path_to_edge_file = joinpath(_PATH_TO_DATA, \"SimpleGraph.txt\"); # this will load the graph shown above"
   ]
  },
  {
   "cell_type": "markdown",
   "id": "6ed7c13d",
   "metadata": {},
   "source": [
    "Next, construct our dictionary of `edgemodels`, where the data for the edges (source id, target id, and weight) is stored in [a `MyGraphEdgeModel` instance](https://varnerlab.github.io/VLDataScienceMachineLearningPackage.jl/dev/types/#VLDataScienceMachineLearningPackage.MyGraphEdgeModel).\n",
    "\n",
    "Because each edge file could have a different record structure, let's define a __callback function__ that will be called for each line of the edge file. This function will parse the record in the edge file, and return the source id, target id, and weight as a tuple. Note that the internal data structure uses the `Any` data type for the weight, so this can be a string, float, integer, or an object, etc.\n",
    "\n",
    "In this case, we'll keep it simple: we'll just return the weight as a float."
   ]
  },
  {
   "cell_type": "code",
   "execution_count": 4,
   "id": "1476d37e",
   "metadata": {},
   "outputs": [
    {
     "data": {
      "text/plain": [
       "edgerecordparser (generic function with 2 methods)"
      ]
     },
     "metadata": {},
     "output_type": "display_data"
    }
   ],
   "source": [
    "function edgerecordparser(record::String, delim::Char=',')\n",
    "    \n",
    "    fields = split(record, delim) # this assumes a record of the form \"source,target,weight\"\n",
    "    if length(fields) < 3\n",
    "        return nothing\n",
    "    end\n",
    "\n",
    "    source = parse(Int, fields[1]) # source id\n",
    "    target = parse(Int, fields[2]) # target id\n",
    "    weight = parse(Float64, fields[3]) # edge weight\n",
    "    \n",
    "    return (source, target, weight)\n",
    "end"
   ]
  },
  {
   "cell_type": "markdown",
   "id": "930925b4",
   "metadata": {},
   "source": [
    "Now that we have our path to the edge list file, and the callback function `edgerecordparser` defined, we can create our edgemodel dictionary by calling [the `MyGraphEdgeModels(...)` function](https://varnerlab.github.io/VLDataScienceMachineLearningPackage.jl/dev/data/#VLDataScienceMachineLearningPackage.MyGraphEdgeModels).\n",
    "\n",
    "Let's save our edge models in the `myedgemodels::Dict{Int64, MyGraphEdgeModel}` dictionary. The keys will be the edge ids (which we can assume are unique), and the values will be the corresponding `MyGraphEdgeModel` instances. Here, we've used the line index as the edge id."
   ]
  },
  {
   "cell_type": "code",
   "execution_count": 5,
   "id": "42139ff2",
   "metadata": {},
   "outputs": [
    {
     "data": {
      "text/plain": [
       "Dict{Int64, MyGraphEdgeModel} with 7 entries:\n",
       "  0 => MyGraphEdgeModel(0, 1, 2, 10.0)\n",
       "  4 => MyGraphEdgeModel(4, 3, 5, 6.0)\n",
       "  5 => MyGraphEdgeModel(5, 4, 6, 1.0)\n",
       "  6 => MyGraphEdgeModel(6, 5, 4, 1.0)\n",
       "  2 => MyGraphEdgeModel(2, 2, 3, 2.0)\n",
       "  3 => MyGraphEdgeModel(3, 2, 4, 100.0)\n",
       "  1 => MyGraphEdgeModel(1, 1, 3, 100.0)"
      ]
     },
     "metadata": {},
     "output_type": "display_data"
    }
   ],
   "source": [
    "myedgemodels = MyGraphEdgeModels(path_to_edge_file, edgerecordparser, delim=',', comment='#')"
   ]
  },
  {
   "cell_type": "markdown",
   "id": "0bdb9e4f",
   "metadata": {},
   "source": [
    "How can we tell what are the fields in [the `MyGraphEdgeModel` type](https://varnerlab.github.io/VLDataScienceMachineLearningPackage.jl/dev/types/#VLDataScienceMachineLearningPackage.MyGraphEdgeModel)?"
   ]
  },
  {
   "cell_type": "code",
   "execution_count": 6,
   "id": "30b8e696",
   "metadata": {},
   "outputs": [
    {
     "data": {
      "text/plain": [
       "(:id, :source, :target, :weight)"
      ]
     },
     "metadata": {},
     "output_type": "display_data"
    }
   ],
   "source": [
    "typeof(myedgemodels[1]) |> m-> fieldnames(m)"
   ]
  },
  {
   "cell_type": "markdown",
   "id": "c94bce8d",
   "metadata": {},
   "source": [
    "Finally, we can build a graph instance. Since this is a directed graph, we'll construct [a `MySimpleDirectedGraphModel` instance](https://varnerlab.github.io/VLDataScienceMachineLearningPackage.jl/dev/types/#VLDataScienceMachineLearningPackage.MySimpleDirectedGraphModel) using [a `build(...)` method](https://varnerlab.github.io/VLDataScienceMachineLearningPackage.jl/dev/factory/#VLDataScienceMachineLearningPackage.build). Let's save our graph model in the `directedgraphmodel::MySimpleDirectedGraphModel` variable."
   ]
  },
  {
   "cell_type": "code",
   "execution_count": 7,
   "id": "a09ca5ff",
   "metadata": {},
   "outputs": [
    {
     "data": {
      "text/plain": [
       "MySimpleDirectedGraphModel(Dict{Int64, MyGraphNodeModel}(5 => MyGraphNodeModel(5, nothing), 4 => MyGraphNodeModel(4, nothing), 6 => MyGraphNodeModel(6, nothing), 2 => MyGraphNodeModel(2, nothing), 3 => MyGraphNodeModel(3, nothing), 1 => MyGraphNodeModel(1, nothing)), Dict{Tuple{Int64, Int64}, Number}((2, 4) => 100.0, (1, 2) => 10.0, (1, 3) => 100.0, (4, 6) => 1.0, (3, 5) => 6.0, (5, 4) => 1.0, (2, 3) => 2.0), Dict{Int64, Set{Int64}}(5 => Set([4]), 4 => Set([6]), 6 => Set(), 2 => Set([4, 3]), 3 => Set([5]), 1 => Set([2, 3])), Dict(5 => (3, 5), 4 => (2, 4), 6 => (4, 6), 7 => (5, 4), 2 => (1, 3), 3 => (2, 3), 1 => (1, 2)))"
      ]
     },
     "metadata": {},
     "output_type": "display_data"
    }
   ],
   "source": [
    "directedgraphmodel = build(MySimpleDirectedGraphModel, myedgemodels)"
   ]
  },
  {
   "cell_type": "markdown",
   "id": "2d2bf56d",
   "metadata": {},
   "source": [
    "What fields are in [the `MySimpleDirectedGraphModel` type](https://varnerlab.github.io/VLDataScienceMachineLearningPackage.jl/dev/types/#VLDataScienceMachineLearningPackage.MySimpleDirectedGraphModel)?"
   ]
  },
  {
   "cell_type": "code",
   "execution_count": 8,
   "id": "15222860",
   "metadata": {},
   "outputs": [
    {
     "data": {
      "text/plain": [
       "(:nodes, :edges, :children, :edgesinverse)"
      ]
     },
     "metadata": {},
     "output_type": "display_data"
    }
   ],
   "source": [
    "typeof(directedgraphmodel) |> m-> fieldnames(m)"
   ]
  },
  {
   "cell_type": "code",
   "execution_count": 9,
   "id": "00d8006e",
   "metadata": {},
   "outputs": [
    {
     "data": {
      "text/plain": [
       "Dict{Int64, MyGraphNodeModel} with 6 entries:\n",
       "  5 => MyGraphNodeModel(5, nothing)\n",
       "  4 => MyGraphNodeModel(4, nothing)\n",
       "  6 => MyGraphNodeModel(6, nothing)\n",
       "  2 => MyGraphNodeModel(2, nothing)\n",
       "  3 => MyGraphNodeModel(3, nothing)\n",
       "  1 => MyGraphNodeModel(1, nothing)"
      ]
     },
     "metadata": {},
     "output_type": "display_data"
    }
   ],
   "source": [
    "directedgraphmodel.nodes"
   ]
  },
  {
   "cell_type": "markdown",
   "id": "989155cd",
   "metadata": {},
   "source": [
    "### Check: Is our graph structure correct?\n",
    "We've built a simple test graph, with a known format, so we can do some unit tests to determine if various theoretical and implementation aspects about the graph, e.g., the connectivity, the number of edges, nodes, etc., are correct.\n",
    "\n",
    "Let's use [the `@testset` macro](https://docs.julialang.org/en/v1.6/stdlib/Test/#Test.@testset) to group our various tests together, where each test will use [the `@test` macro](https://docs.julialang.org/en/v1.6/stdlib/Test/#Test.@test) to assert the expected behavior.\n",
    "\n",
    "Our test suite validates several key aspects of the graph construction and mathematical properties. First, we verify that the data structures are correctly instantiated as the expected types and that the graph has the anticipated size matching the visual diagram (6 nodes and 7 edges). We also check that the node identifiers are consecutive integers starting from 1, which is a common convention in graph representations.\n",
    "\n",
    "* __Test Consistency:__ The tests ensure consistency between different internal representations of the same graph data. We verify that the edge information stored in the `directedgraphmodel.edges` dictionary matches exactly with the edge data in our `myedgemodels` collection.\n",
    "* __Structural Integrity:__ We validate that all edge endpoints reference valid nodes that actually exist in the graph. We also test the consistency of the `children` field, which should contain exactly the set of target nodes for each source node based on the directed edges.\n",
    "* __Mathematical Validity:__ We apply basic graph-theoretic bounds to ensure the structure is mathematically valid. For a directed graph with $n$ nodes, we verify that our edge count $m$ satisfies $m \\leq n(n-1)$ and that the graph is non-empty with $m > 0$.\n",
    "\n",
    "Do we pass these tests?"
   ]
  },
  {
   "cell_type": "code",
   "execution_count": 10,
   "id": "d1cba0c4",
   "metadata": {},
   "outputs": [
    {
     "name": "stdout",
     "output_type": "stream",
     "text": [
      "✅ All graph structure validation tests passed!\n",
      "\u001b[0m\u001b[1mTest Summary:              | \u001b[22m\u001b[32m\u001b[1mPass  \u001b[22m\u001b[39m\u001b[36m\u001b[1mTotal  \u001b[22m\u001b[39m\u001b[0m\u001b[1mTime\u001b[22m\n",
      "Graph Structure Validation | \u001b[32m  28  \u001b[39m\u001b[36m   28  \u001b[39m\u001b[0m0.4s\n"
     ]
    }
   ],
   "source": [
    "let\n",
    "   \n",
    "    @testset verbose = true \"Graph Structure Validation\" begin\n",
    "        \n",
    "        # Test 1: Basic types and construction\n",
    "        @test isa(directedgraphmodel, MySimpleDirectedGraphModel)\n",
    "        @test isa(myedgemodels, Dict{Int64, MyGraphEdgeModel})\n",
    "        \n",
    "        # Test 2: Expected graph size (from visual inspection of the figure)\n",
    "        @test length(directedgraphmodel.nodes) == 6\n",
    "        @test length(myedgemodels) == 7\n",
    "        \n",
    "        # Test 3: Node IDs are consecutive integers starting from 1\n",
    "        node_ids = sort(collect(keys(directedgraphmodel.nodes)))\n",
    "        @test node_ids == [1, 2, 3, 4, 5, 6]\n",
    "        \n",
    "        # Test 4: Edge consistency - edges in directedgraphmodel.edges should match myedgemodels\n",
    "        edge_tuples_from_graph = Set(keys(directedgraphmodel.edges))\n",
    "        edge_tuples_from_models = Set((edge.source, edge.target) for edge in values(myedgemodels))\n",
    "        @test edge_tuples_from_graph == edge_tuples_from_models\n",
    "        \n",
    "        # Test 5: All edge endpoints exist as nodes\n",
    "        for edge in values(myedgemodels)\n",
    "            @test edge.source in keys(directedgraphmodel.nodes)\n",
    "            @test edge.target in keys(directedgraphmodel.nodes)\n",
    "        end\n",
    "        \n",
    "        # Test 6: Children field consistency with edges\n",
    "        for (node_id, children_set) in directedgraphmodel.children\n",
    "            # Children of node_id should be all targets where node_id is source\n",
    "            expected_children = Set(edge.target for edge in values(myedgemodels) if edge.source == node_id)\n",
    "            @test children_set == expected_children\n",
    "        end\n",
    "        \n",
    "        # Test 7: Basic graph property bounds\n",
    "        n = length(directedgraphmodel.nodes)\n",
    "        m = length(myedgemodels)\n",
    "        @test m ≤ n * (n - 1)  # Can't have more edges than maximum possible for directed graph\n",
    "        @test m > 0  # Should have at least one edge\n",
    "        \n",
    "        println(\"✅ All graph structure validation tests passed!\")\n",
    "    end;\n",
    "end;"
   ]
  },
  {
   "cell_type": "markdown",
   "id": "facacd50",
   "metadata": {},
   "source": [
    "### The Handshaking Lemma and Directed Graphs\n",
    "Let's check the Handshaking Lemma for our directed graph example.\n",
    "\n",
    "> __Handshaking Lemma__ For any graph $\\mathcal{G} = (\\mathcal{V},\\mathcal{E})$, the sum of all vertex degrees equals twice the number of edges:\n",
    "> $$\\sum_{v_{i} \\in \\mathcal{V}} \\deg(v_{i}) = 2|\\mathcal{E}|$$\n",
    "> This relationship holds because each edge contributes exactly one to the degree of each of its two endpoints.\n",
    "\n",
    "The code block below calculates the total degree for each vertex in our directed graph, where total degree = in-degree + out-degree. Here's what each part does:\n",
    "\n",
    "1. **Initialize variables**: We get the number of edges and nodes from our graph model, then allocate an array to store the total degree of each node.\n",
    "2. **Calculate total degrees**: The nested loops iterate through all possible node pairs $(i,j)$ and check if there's a directed edge from $i$ to $j$. For each existing edge $(i,j)$, we increment the degree count for both vertex $i$ (contributing to its out-degree) and vertex $j$ (contributing to its in-degree).\n",
    "3. **Return results**: The block returns both the degree array (containing the total degree of each node) and the total number of edges for validation.\n",
    "\n",
    "We store the degree data in the `degree_array::Array{Int64,1}` variable, and the number of edges in the `number_of_edges::Int64` variable."
   ]
  },
  {
   "cell_type": "code",
   "execution_count": 16,
   "id": "02e55f99",
   "metadata": {},
   "outputs": [
    {
     "data": {
      "text/plain": [
       "([2, 3, 3, 3, 2, 1], 7)"
      ]
     },
     "metadata": {},
     "output_type": "display_data"
    }
   ],
   "source": [
    "degree_array, number_of_edges = let\n",
    "\n",
    "    # initialize -\n",
    "    number_of_edges = directedgraphmodel.edges |> length; # how many edges do we have?\n",
    "    number_of_nodes = directedgraphmodel.nodes |> length; # how many nodes do we have?\n",
    "    degree_array = Array{Int64,1}(undef, number_of_nodes); # allocate some space for the degrees\n",
    "\n",
    "    # fill the degree_array with zeros -\n",
    "    fill!(degree_array,0)\n",
    "\n",
    "    # compute the degree -\n",
    "    for i ∈ 1:number_of_nodes\n",
    "        for j ∈ 1:number_of_nodes\n",
    "            test_edge_coordinates = (i,j) # tuple\n",
    "            if (haskey(directedgraphmodel.edges, test_edge_coordinates) == true)\n",
    "                degree_array[i] += 1;\n",
    "                degree_array[j] += 1;\n",
    "            end\n",
    "        end\n",
    "    end\n",
    "\n",
    "    degree_array, number_of_edges;\n",
    "end"
   ]
  },
  {
   "cell_type": "markdown",
   "id": "b66534a5",
   "metadata": {},
   "source": [
    "Let's test our degree calculation.\n",
    "\n",
    "> __Test__: Let's use [the `@assert` macro](https://docs.julialang.org/en/v1/base/base/#Base.@assert) to verify that our degree calculation satisfies the directed graph version of the degree sum property from the Handshaking Lemma. If this condition is `false`, the program will throw [an `AssertionError`](https://docs.julialang.org/en/v1/base/base/#Core.AssertionError) and halt execution. Otherwise, if nothing happens, we can assume the test passed.\n",
    "\n",
    "So, what do we see?"
   ]
  },
  {
   "cell_type": "code",
   "execution_count": 17,
   "id": "c58ef6ca",
   "metadata": {},
   "outputs": [],
   "source": [
    "@assert sum(degree_array) == 2*number_of_edges"
   ]
  },
  {
   "cell_type": "markdown",
   "id": "0c1c2704",
   "metadata": {},
   "source": [
    "___"
   ]
  },
  {
   "cell_type": "markdown",
   "id": "654d5dc6",
   "metadata": {},
   "source": [
    "## Task 2: Depth-First Search (DFS)\n",
    "In this task, you will implement the Depth-First Search (DFS) algorithm to explore a graph. DFS is a fundamental recursive algorithm used for traversing or searching tree or graph data structures. The algorithm starts at a selected node and explores as far as possible along each branch before backtracking.\n",
    "\n",
    "We've implemented basic depth-first search traversal logic [in the `mywalk(...)` function](src/Graphs.jl). This function takes a graph (or tree model) and a starting node as input and returns an ordered list of all nodes visited during the traversal. There are two additional (optional) arguments:\n",
    "* __algorithm__: The `algorithm::AbstractGraphTraversalAlgorithm` argument allows you to specify which traversal algorithm to use (e.g., `DepthFirstSearchAlgorithm` or `BreadthFirstSearchAlgorithm`). If not provided, the `BreadthFirstSearchAlgorithm` algorithm will be used by default.\n",
    "* __verbose__: The `verbose::Bool` argument allows you to enable or disable verbose output during the traversal. If set to `true`, the function will print detailed information about the traversal process.\n",
    "\n",
    "Let's do a depth-first traversal of the `directedgraphmodel::MySimpleDirectedGraphModel` starting from node `1`. We'll save the traversal order in a variable called `dfs_order::Array{Int64,1}`."
   ]
  },
  {
   "cell_type": "code",
   "execution_count": 11,
   "id": "ce7186c3",
   "metadata": {},
   "outputs": [
    {
     "name": "stdout",
     "output_type": "stream",
     "text": [
      "Visiting node: 1\n",
      "Visiting node: 2\n",
      "Visiting node: 4\n",
      "Visiting node: 6\n",
      "Visiting node: 3\n",
      "Visiting node: 5\n"
     ]
    }
   ],
   "source": [
    "dfs_order = let\n",
    "    \n",
    "    # initialize -\n",
    "    verbose = true; # let's print some output\n",
    "    startnode = directedgraphmodel.nodes[1]; # start at node 1\n",
    "    order = mywalk(directedgraphmodel, startnode, \n",
    "        algorithm = DepthFirstSearchAlgorithm(), verbose = verbose) # walk from startnode to all other possible nodes\n",
    "\n",
    "    order;\n",
    "end;"
   ]
  },
  {
   "cell_type": "markdown",
   "id": "0e5018fb",
   "metadata": {},
   "source": [
    "### Hmm. This is a directed graph, can we get to every node?\n",
    "__No!__ In a directed graph, edges have a direction, meaning you can only traverse from one node to another if there is a directed edge pointing to the destination node. This can result in some nodes being unreachable from others, depending on the structure of the graph.\n",
    "\n",
    "Let's show this by selecting a different starting node and observing the traversal order, e.g., `startnode = 3`."
   ]
  },
  {
   "cell_type": "code",
   "execution_count": 12,
   "id": "289e871c",
   "metadata": {},
   "outputs": [
    {
     "name": "stdout",
     "output_type": "stream",
     "text": [
      "Visiting node: 3\n",
      "Visiting node: 5\n",
      "Visiting node: 4\n",
      "Visiting node: 6\n"
     ]
    }
   ],
   "source": [
    "let\n",
    "    \n",
    "    # initialize -\n",
    "    verbose = true; # let's print some output\n",
    "    startnode = directedgraphmodel.nodes[3]; # start at node 3\n",
    "    _ = mywalk(directedgraphmodel, startnode, \n",
    "        algorithm = DepthFirstSearchAlgorithm(), verbose = verbose) # walk from startnode to all other possible nodes\n",
    "end;"
   ]
  },
  {
   "cell_type": "markdown",
   "id": "bb6c2886",
   "metadata": {},
   "source": [
    "__No!__ When we start at node `3` in our test graph, we can see that the traversal is limited to the nodes that are reachable from `3`. This highlights the nature of directed graphs, where the direction of edges determines the accessibility of nodes.\n",
    "\n",
    "___"
   ]
  },
  {
   "cell_type": "markdown",
   "id": "1efab126",
   "metadata": {},
   "source": [
    "## Task 3: Breadth-First Search (BFS)\n",
    "In this task, we'll compute the breadth-first traversal order of the directed graph starting from a specified node. We'll use the `BreadthFirstSearchAlgorithm` to explore the graph level by level.\n",
    "\n",
    "We'll start by selecting a node to begin our search. For this example, let's choose node `1` (the same as our original DFS search). We'll save the traversal order in a variable called `bfs_order::Array{Int64,1}`."
   ]
  },
  {
   "cell_type": "code",
   "execution_count": 13,
   "id": "8669eaa5",
   "metadata": {},
   "outputs": [
    {
     "name": "stdout",
     "output_type": "stream",
     "text": [
      "Visiting node: 1. My Queue: Queue{Int64}(Deque [Int64[]])\n",
      "Visiting node: 2. My Queue: Queue{Int64}(Deque [[3]])\n",
      "Visiting node: 3. My Queue: Queue{Int64}(Deque [[4, 3]])\n",
      "Visiting node: 4. My Queue: Queue{Int64}(Deque [[3, 5]])\n",
      "Visiting node: 5. My Queue: Queue{Int64}(Deque [[6]])\n",
      "Visiting node: 6. My Queue: Queue{Int64}(Deque [Int64[]])\n"
     ]
    }
   ],
   "source": [
    "bfs_order = let\n",
    "    \n",
    "    # initialize -\n",
    "    verbose = true; # let's print some output\n",
    "    startnode = directedgraphmodel.nodes[1]; # start at node 1\n",
    "    order = mywalk(directedgraphmodel, startnode, \n",
    "        algorithm = BreadthFirstSearchAlgorithm(), verbose = verbose) # walk from startnode to all other nodes\n",
    "\n",
    "    order;\n",
    "end;"
   ]
  },
  {
   "cell_type": "markdown",
   "id": "c6f38be9",
   "metadata": {},
   "source": [
    "__Interesting!__ The order is different than the DFS traversal order. This is expected, as BFS explores all neighbors at the present depth prior to moving on to nodes at the next depth level, while DFS explores as far as possible along each branch before backtracking.\n",
    "\n",
    "Okay, great! Can we get to every node in the graph using BFS?"
   ]
  },
  {
   "cell_type": "code",
   "execution_count": 14,
   "id": "aaeac093",
   "metadata": {},
   "outputs": [
    {
     "name": "stdout",
     "output_type": "stream",
     "text": [
      "Visiting node: 3\n",
      "Visiting node: 5\n",
      "Visiting node: 4\n",
      "Visiting node: 6\n"
     ]
    }
   ],
   "source": [
    "let\n",
    "    \n",
    "    # initialize -\n",
    "    verbose = true; # let's print some output\n",
    "    startnode = directedgraphmodel.nodes[3]; # start at node 3\n",
    "    _ = mywalk(directedgraphmodel, startnode, \n",
    "        algorithm = DepthFirstSearchAlgorithm(), verbose = verbose) # walk from startnode to all other possible nodes\n",
    "end;"
   ]
  },
  {
   "cell_type": "markdown",
   "id": "b3acb1f6",
   "metadata": {},
   "source": [
    "___"
   ]
  },
  {
   "cell_type": "markdown",
   "id": "f738ba74",
   "metadata": {},
   "source": [
    "## Summary\n",
    "In this notebook, we explored the concepts of Breadth-First Search (BFS) and Depth-First Search (DFS) algorithms on a directed graph. We implemented both algorithms to traverse the graph and compared their behavior and output.\n",
    "\n",
    "`Unhide` the code block below to see how to make a table that summarizes the paths taken by both algorithms.\n",
    "> __Summary:__ For a general graph, the paths taken by depth-first and breadth-first traversal will __not__ be equal. However, given the same starting node and graph structure, the two algorithms may produce the same path in certain cases, particularly in simple or linear graphs. Thus, both approaches will also always visit the same set of reachable nodes, ensuring that all reachable nodes are explored, albeit in a different order.\n",
    "\n",
    "__So why do we care about the differences between DFS and BFS?__ These traversal algorithms are foundational in the sense that we build things from them. They have different use cases and performance characteristics. DFS is often more memory-efficient, while BFS is better suited for finding the shortest path in unweighted graphs, as it explores all neighbors at the present depth prior to moving on to nodes at the next depth level.\n",
    "\n",
    "__DFS versus BFS__? Choose DFS for deep structure exploration (cycle detection, topological sorting) or when memory is limited in tree-like graphs, as it uses $O(h)$ space versus BFS's $O(b)$ space where $h$ is depth and $b$ is maximum nodes per level. Choose BFS when you need shortest paths in unweighted graphs or when targets are likely close to the starting node."
   ]
  },
  {
   "cell_type": "code",
   "execution_count": 15,
   "id": "357d03c5",
   "metadata": {},
   "outputs": [
    {
     "name": "stdout",
     "output_type": "stream",
     "text": [
      "======== =================== =================== ========\n",
      " \u001b[1m  path \u001b[0m \u001b[1m           dfspath \u001b[0m \u001b[1m           bfspath \u001b[0m \u001b[1m equal \u001b[0m\n",
      " \u001b[90m Int64 \u001b[0m \u001b[90m            String \u001b[0m \u001b[90m            String \u001b[0m \u001b[90m  Bool \u001b[0m\n",
      "======== =================== =================== ========\n",
      "      1   node 1 ->  node 2   node 1 ->  node 2    true\n",
      "      2   node 2 ->  node 4   node 2 ->  node 3   false\n",
      "      3   node 4 ->  node 6   node 3 ->  node 4   false\n",
      "      4   node 6 ->  node 3   node 4 ->  node 5   false\n",
      "      5   node 3 ->  node 5   node 5 ->  node 6   false\n",
      "======== =================== =================== ========\n"
     ]
    }
   ],
   "source": [
    "let\n",
    "\n",
    "    # initialize -\n",
    "    df = DataFrame();\n",
    "    number_of_nodes = length(directedgraphmodel.nodes);\n",
    "\n",
    "    for i ∈ 2:number_of_nodes\n",
    "        \n",
    "        # dfs -\n",
    "        s = dfs_order[i-1];\n",
    "        t = dfs_order[i];\n",
    "        dfs_path = \"node $(s) ->  node $(t)\"\n",
    "        \n",
    "        # bfs -\n",
    "        s = bfs_order[i-1];\n",
    "        t = bfs_order[i];\n",
    "        bfs_path = \"node $(s) ->  node $(t)\"\n",
    "\n",
    "        row_data = (\n",
    "            path = i - 1,\n",
    "            dfspath = dfs_path,\n",
    "            bfspath = bfs_path,\n",
    "            equal = (dfs_path == bfs_path) ? true : false\n",
    "        );\n",
    "        \n",
    "        push!(df, row_data);\n",
    "    end\n",
    "\n",
    "    # make a table -\n",
    "    pretty_table(df, backend = :text, \n",
    "        table_format = TextTableFormat(borders = text_table_borders__simple))\n",
    "\n",
    "end"
   ]
  }
 ],
 "metadata": {
  "kernelspec": {
   "display_name": "Julia 1.11.6",
   "language": "julia",
   "name": "julia-1.11"
  },
  "language_info": {
   "file_extension": ".jl",
   "mimetype": "application/julia",
   "name": "julia",
   "version": "1.11.6"
  }
 },
 "nbformat": 4,
 "nbformat_minor": 5
}
