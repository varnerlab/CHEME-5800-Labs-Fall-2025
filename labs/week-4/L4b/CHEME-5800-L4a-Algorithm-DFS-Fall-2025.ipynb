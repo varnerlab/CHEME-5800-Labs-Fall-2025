{
 "cells": [
  {
   "cell_type": "markdown",
   "id": "6df3300b-a0f8-4b97-a68c-bb3c4fe4ba2b",
   "metadata": {},
   "source": [
    "# Depth-First Search (DFS)\n",
    "We traverse the nodes in a tree or graph differently than in an array. In an array, we can access elements directly by their index, but in a tree or graph, we must follow edges to reach other nodes.\n",
    "\n",
    "Let's look at two common traversal algorithms for graphs and trees (that we'll use as building blocks for other algorithms): depth-first search (DFS) and breadth-first search (BFS).\n",
    "\n",
    "> __Depth-first search (DFS)__ recursively explores as far as possible along each branch of a graph or tree before backtracking. It uses a Set data structure to keep track of the nodes that have already been visited. \n",
    "\n",
    "The algorithm starts at a given node, marks it as visited, and then recursively visits each unvisited neighbor until all reachable nodes are visited. If a node has no unvisited neighbors, the algorithm backtracks to the previous node and continues exploring from there. Let's look at a simple recursive implementation of a DFS algorithm.\n",
    "\n",
    "__Initialization__: Given a graph $\\mathcal{G} = (\\mathcal{V}, \\mathcal{E})$, a starting vertex $v_{s}\\in\\mathcal{V}$, and an empty set of visited vertices $\\mathcal{V}_{\\text{visited}}$.\n",
    "\n",
    "1. If $v_{s}\\notin\\mathcal{V}_{\\text{visited}}$, then:\n",
    "    - Add $v_{s}$ to the $\\mathcal{V}_{\\text{visited}}$ set: $\\mathcal{V}_{\\text{visited}}\\gets\\mathcal{V}_{\\text{visited}}\\cup\\{v_{s}\\}$.\n",
    "    - Get the neighbors of node $v_{s}$: Set $\\mathcal{N}_{s} \\gets \\texttt{neighbors}(v_{s})$.\n",
    "    - For each neighbor $v_{n}\\in\\mathcal{N}_{s}$, do:\n",
    "        - __Recursively__ call the DFS algorithm with $v_{n}$ as the new starting vertex. (Go to step 1 with $v_{n}$ as the new starting vertex.)\n",
    "2. If $v_{s}\\in\\mathcal{V}_{\\text{visited}}$, then return.\n",
    "\n",
    "\n",
    "DFS runs in $\\mathcal{O}(|\\mathcal{V}|+|\\mathcal{E}|)$ time, where $|\\mathcal{V}|$ is the number of vertices and $|\\mathcal{E}|$ is the number of edges in the graph. It uses $\\mathcal{O}(|\\mathcal{V}|)$ space for the visited set (plus recursion depth).\n",
    "\n",
    "If this pseudocode is confusing, [check out this video](https://www.youtube.com/watch?v=7fujbpJ0LB4) that explains the algorithm visually.\n",
    "___"
   ]
  }
 ],
 "metadata": {
  "kernelspec": {
   "display_name": "Julia 1.11.6",
   "language": "julia",
   "name": "julia-1.11"
  },
  "language_info": {
   "file_extension": ".jl",
   "mimetype": "application/julia",
   "name": "julia",
   "version": "1.11.6"
  }
 },
 "nbformat": 4,
 "nbformat_minor": 5
}
