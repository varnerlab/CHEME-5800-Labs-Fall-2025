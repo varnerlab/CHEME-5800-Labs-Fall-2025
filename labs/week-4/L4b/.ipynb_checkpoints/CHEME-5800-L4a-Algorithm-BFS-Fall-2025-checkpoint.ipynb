{
 "cells": [
  {
   "cell_type": "markdown",
   "id": "40280131-ea03-4415-a1e0-46e3417942cd",
   "metadata": {},
   "source": [
    "# Breadth-First Search (BFS)\n",
    "We traverse the nodes in a tree or graph differently than in an array. In an array, we can access elements directly by their index, but in a tree or graph, we must follow edges to reach other nodes.\n",
    "\n",
    "Let's look at two common traversal algorithms for graphs and trees (that we'll use as building blocks for other algorithms): depth-first search (DFS) and breadth-first search (BFS).\n",
    "\n",
    "> __Breadth-first search (BFS)__ is a traversal algorithm that explores all the neighbors of a node before moving on to the next level of nodes. It uses a `Queue` data structure to keep track of the nodes to visit next. We can think of BFS as exploring the graph layer by layer.\n",
    "\n",
    "The algorithm starts at a given node, marks it as visited, and then enqueues all its unvisited neighbors. It continues to dequeue nodes from the front of the queue, marking them as visited and enqueuing their unvisited neighbors, until all reachable nodes are visited. Let's look at an implementation of a BFS algorithm:\n",
    "\n",
    "__Initialization__: Given a graph $\\mathcal{G} = (\\mathcal{V}, \\mathcal{E})$, a starting vertex $v_{s}\\in\\mathcal{V}$, an empty set of visited vertices $\\mathcal{V}_{\\text{visited}}$, and an empty queue $\\mathcal{Q}$.\n",
    "\n",
    "1. Mark the starting vertex as visited: $\\mathcal{V}_{\\text{visited}}\\gets\\mathcal{V}_{\\text{visited}}\\cup\\{v_{s}\\}$.\n",
    "2. Add the starting vertex $v_{s}$ to the queue: $\\mathcal{Q}\\gets\\texttt{enqueue}(\\mathcal{Q}, v_{s})$.\n",
    "3. While the queue $\\mathcal{Q}$ is not empty, __do__:\n",
    "    - Dequeue a vertex $v_{n}$ from the front of the queue: $v_{n}\\gets\\texttt{dequeue}(\\mathcal{Q})$.\n",
    "    - Get the neighbors of node $v_{n}$: Set $\\mathcal{N}_{n} \\gets \\texttt{neighbors}(v_{n})$.\n",
    "    - For each neighbor $v_{m}\\in\\mathcal{N}_{n}$, do:\n",
    "        - If $v_{m}\\notin\\mathcal{V}_{\\text{visited}}$, then:\n",
    "            - Mark $v_{m}$ as visited: $\\mathcal{V}_{\\text{visited}}\\gets\\mathcal{V}_{\\text{visited}}\\cup\\{v_{m}\\}$.\n",
    "            - Enqueue it: $\\mathcal{Q}\\gets\\texttt{enqueue}(\\mathcal{Q}, v_{m})$.\n",
    "\n",
    "BFS runs in $\\mathcal{O}(|\\mathcal{V}|+|\\mathcal{E}|)$ time, where $|\\mathcal{V}|$ is the number of vertices and $|\\mathcal{E}|$ is the number of edges in the graph. It uses $\\mathcal{O}(|\\mathcal{V}|)$ space for the visited set (plus queue space).\n",
    "\n",
    "If this pseudocode is confusing, [check out this video](https://www.youtube.com/watch?v=oDqjPvD54Ss) that explains the algorithm visually."
   ]
  },
  {
   "cell_type": "markdown",
   "id": "f300f1fa",
   "metadata": {},
   "source": [
    "___"
   ]
  }
 ],
 "metadata": {
  "kernelspec": {
   "display_name": "Julia 1.11.6",
   "language": "julia",
   "name": "julia-1.11"
  },
  "language_info": {
   "file_extension": ".jl",
   "mimetype": "application/julia",
   "name": "julia",
   "version": "1.11.6"
  }
 },
 "nbformat": 4,
 "nbformat_minor": 5
}
