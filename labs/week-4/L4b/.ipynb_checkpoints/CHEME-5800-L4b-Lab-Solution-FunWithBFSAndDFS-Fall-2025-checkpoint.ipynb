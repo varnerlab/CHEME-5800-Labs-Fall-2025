{
 "cells": [
  {
   "cell_type": "markdown",
   "id": "89ae1712-ea46-4fd9-9e0f-d2b2f796d2ec",
   "metadata": {},
   "source": [
    "# L4b: Breadth-First Search (BFS) and Depth First Search (DFS) on a Graph\n",
    "This lab will familiarize students with [Breadth-First Search](https://en.wikipedia.org/wiki/Breadth-first_search) and [Depth-First Search](https://en.wikipedia.org/wiki/Depth-first_search) graph traversal on a simple graph (and tree) example. \n",
    "\n",
    "Students will construct a directed graph from an edge list representation, validate its mathematical properties through unit testing, and then explore the graph using both DFS and BFS algorithms. The practical implementation demonstrates how these fundamental traversal algorithms behave differently on the same graph structure, particularly highlighting how directed edges constrain reachability from different starting nodes.\n",
    "\n",
    "Let's get started!\n",
    "___"
   ]
  },
  {
   "cell_type": "markdown",
   "id": "cf524133",
   "metadata": {},
   "source": [
    "## Setup, Data, and Prerequisites\n",
    "First, we set up the computational environment by including the `Include.jl` file and loading any needed resources.\n",
    "\n",
    "> The [include command](https://docs.julialang.org/en/v1/base/base/#include) evaluates the contents of the input source file, `Include.jl`, in the notebook's global scope. The `Include.jl` file sets paths, loads required external packages, etc. For additional information on functions and types used in this material, see the [Julia programming language documentation](https://docs.julialang.org/en/v1/). \n",
    "\n",
    "Let's set up our environment:"
   ]
  },
  {
   "cell_type": "code",
   "execution_count": 3,
   "id": "cb5bce01",
   "metadata": {},
   "outputs": [
    {
     "name": "stderr",
     "output_type": "stream",
     "text": [
      "\u001b[32m\u001b[1m    Updating\u001b[22m\u001b[39m git-repo `https://github.com/varnerlab/VLDataScienceMachineLearningPackage.jl.git`\n",
      "\u001b[32m\u001b[1m    Updating\u001b[22m\u001b[39m registry at `~/.julia/registries/General.toml`\n",
      "\u001b[32m\u001b[1m   Resolving\u001b[22m\u001b[39m package versions...\n",
      "\u001b[32m\u001b[1m   Installed\u001b[22m\u001b[39m XML2_jll ───── v2.13.8+0\n",
      "\u001b[32m\u001b[1m   Installed\u001b[22m\u001b[39m Pango_jll ──── v1.56.4+0\n",
      "\u001b[32m\u001b[1m   Installed\u001b[22m\u001b[39m PrettyTables ─ v3.0.10\n",
      "\u001b[32m\u001b[1m   Installed\u001b[22m\u001b[39m Plots ──────── v1.40.20\n",
      "\u001b[32m\u001b[1m   Installed\u001b[22m\u001b[39m ColorSchemes ─ v3.31.0\n",
      "\u001b[32m\u001b[1m    Updating\u001b[22m\u001b[39m `~/Desktop/julia_work/CHEME-5800-Instances/Fall-2025/CHEME-5800-Labs-Fall-2025/labs/week-4/L4b/Project.toml`\n",
      "  \u001b[90m[6e4b80f9] \u001b[39m\u001b[92m+ BenchmarkTools v1.6.0\u001b[39m\n",
      "  \u001b[90m[00ebfdb7] \u001b[39m\u001b[92m+ CSTParser v3.4.3\u001b[39m\n",
      "  \u001b[90m[5ae59095] \u001b[39m\u001b[92m+ Colors v0.13.1\u001b[39m\n",
      "  \u001b[90m[a93c6f00] \u001b[39m\u001b[92m+ DataFrames v1.8.0\u001b[39m\n",
      "\u001b[33m⌅\u001b[39m \u001b[90m[864edb3b] \u001b[39m\u001b[92m+ DataStructures v0.18.22\u001b[39m\n",
      "  \u001b[90m[31c24e10] \u001b[39m\u001b[92m+ Distributions v0.25.120\u001b[39m\n",
      "  \u001b[90m[5789e2e9] \u001b[39m\u001b[92m+ FileIO v1.17.0\u001b[39m\n",
      "  \u001b[90m[aa1b3936] \u001b[39m\u001b[92m+ GraphIO v0.7.1\u001b[39m\n",
      "  \u001b[90m[f526b714] \u001b[39m\u001b[92m+ GraphViz v0.2.0\u001b[39m\n",
      "  \u001b[90m[86223c79] \u001b[39m\u001b[92m+ Graphs v1.13.1\u001b[39m\n",
      "  \u001b[90m[d8c32880] \u001b[39m\u001b[92m+ ImageInTerminal v0.5.4\u001b[39m\n",
      "  \u001b[90m[4e3cecfd] \u001b[39m\u001b[92m+ ImageShow v0.3.8\u001b[39m\n",
      "  \u001b[90m[916415d5] \u001b[39m\u001b[92m+ Images v0.26.2\u001b[39m\n",
      "  \u001b[90m[033835bb] \u001b[39m\u001b[92m+ JLD2 v0.6.2\u001b[39m\n",
      "  \u001b[90m[682c06a0] \u001b[39m\u001b[92m+ JSON v0.21.4\u001b[39m\n",
      "  \u001b[90m[cd156443] \u001b[39m\u001b[92m+ Karnak v1.2.0\u001b[39m\n",
      "  \u001b[90m[ec8451be] \u001b[39m\u001b[92m+ KernelFunctions v0.10.65\u001b[39m\n",
      "  \u001b[90m[46757867] \u001b[39m\u001b[92m+ NetworkLayout v0.4.10\u001b[39m\n",
      "  \u001b[90m[91a5bcdd] \u001b[39m\u001b[92m+ Plots v1.40.20\u001b[39m\n",
      "  \u001b[90m[08abe8d2] \u001b[39m\u001b[92m+ PrettyTables v3.0.10\u001b[39m\n",
      "  \u001b[90m[10745b16] \u001b[39m\u001b[92m+ Statistics v1.11.1\u001b[39m\n",
      "  \u001b[90m[b8865327] \u001b[39m\u001b[92m+ UnicodePlots v3.8.1\u001b[39m\n",
      "  \u001b[90m[24b76065] \u001b[39m\u001b[92m+ VLDataScienceMachineLearningPackage v0.1.0 `https://github.com/varnerlab/VLDataScienceMachineLearningPackage.jl.git#main`\u001b[39m\n",
      "  \u001b[90m[37e2e46d] \u001b[39m\u001b[93m~ LinearAlgebra ⇒ v1.11.0\u001b[39m\n",
      "  \u001b[90m[9a3f8284] \u001b[39m\u001b[93m~ Random ⇒ v1.11.0\u001b[39m\n",
      "  \u001b[90m[8dfed614] \u001b[39m\u001b[93m~ Test ⇒ v1.11.0\u001b[39m\n",
      "\u001b[32m\u001b[1m    Updating\u001b[22m\u001b[39m `~/Desktop/julia_work/CHEME-5800-Instances/Fall-2025/CHEME-5800-Labs-Fall-2025/labs/week-4/L4b/Manifest.toml`\n",
      "  \u001b[90m[621f4979] \u001b[39m\u001b[92m+ AbstractFFTs v1.5.0\u001b[39m\n",
      "  \u001b[90m[79e6a3ab] \u001b[39m\u001b[92m+ Adapt v4.3.0\u001b[39m\n",
      "  \u001b[90m[66dad0bd] \u001b[39m\u001b[92m+ AliasTables v1.1.3\u001b[39m\n",
      "  \u001b[90m[ec485272] \u001b[39m\u001b[92m+ ArnoldiMethod v0.4.0\u001b[39m\n",
      "  \u001b[90m[4fba245c] \u001b[39m\u001b[92m+ ArrayInterface v7.20.0\u001b[39m\n",
      "  \u001b[90m[13072b0f] \u001b[39m\u001b[92m+ AxisAlgorithms v1.1.0\u001b[39m\n",
      "  \u001b[90m[39de3d68] \u001b[39m\u001b[92m+ AxisArrays v0.4.8\u001b[39m\n",
      "  \u001b[90m[6e4b80f9] \u001b[39m\u001b[92m+ BenchmarkTools v1.6.0\u001b[39m\n",
      "  \u001b[90m[d1d4a3ce] \u001b[39m\u001b[92m+ BitFlags v0.1.9\u001b[39m\n",
      "  \u001b[90m[62783981] \u001b[39m\u001b[92m+ BitTwiddlingConvenienceFunctions v0.1.6\u001b[39m\n",
      "  \u001b[90m[fa961155] \u001b[39m\u001b[92m+ CEnum v0.5.0\u001b[39m\n",
      "  \u001b[90m[2a0fbf3d] \u001b[39m\u001b[92m+ CPUSummary v0.2.7\u001b[39m\n",
      "  \u001b[90m[00ebfdb7] \u001b[39m\u001b[92m+ CSTParser v3.4.3\u001b[39m\n",
      "  \u001b[90m[336ed68f] \u001b[39m\u001b[92m+ CSV v0.10.15\u001b[39m\n",
      "  \u001b[90m[159f3aea] \u001b[39m\u001b[92m+ Cairo v1.1.1\u001b[39m\n",
      "  \u001b[90m[aafaddc9] \u001b[39m\u001b[92m+ CatIndices v0.2.2\u001b[39m\n",
      "  \u001b[90m[d360d2e6] \u001b[39m\u001b[92m+ ChainRulesCore v1.26.0\u001b[39m\n",
      "  \u001b[90m[0b6fb165] \u001b[39m\u001b[92m+ ChunkCodecCore v1.0.0\u001b[39m\n",
      "  \u001b[90m[4c0bbee4] \u001b[39m\u001b[92m+ ChunkCodecLibZlib v1.0.0\u001b[39m\n",
      "  \u001b[90m[55437552] \u001b[39m\u001b[92m+ ChunkCodecLibZstd v1.0.0\u001b[39m\n",
      "  \u001b[90m[fb6a15b2] \u001b[39m\u001b[92m+ CloseOpenIntervals v0.1.13\u001b[39m\n",
      "  \u001b[90m[aaaa29a8] \u001b[39m\u001b[92m+ Clustering v0.15.8\u001b[39m\n",
      "  \u001b[90m[944b1d66] \u001b[39m\u001b[92m+ CodecZlib v0.7.8\u001b[39m\n",
      "  \u001b[90m[35d6a980] \u001b[39m\u001b[92m+ ColorSchemes v3.31.0\u001b[39m\n",
      "  \u001b[90m[3da002f7] \u001b[39m\u001b[92m+ ColorTypes v0.12.1\u001b[39m\n",
      "  \u001b[90m[c3611d14] \u001b[39m\u001b[92m+ ColorVectorSpace v0.11.0\u001b[39m\n",
      "  \u001b[90m[5ae59095] \u001b[39m\u001b[92m+ Colors v0.13.1\u001b[39m\n",
      "  \u001b[90m[f70d9fcc] \u001b[39m\u001b[92m+ CommonWorldInvalidations v1.0.0\u001b[39m\n",
      "  \u001b[90m[34da2185] \u001b[39m\u001b[92m+ Compat v4.18.0\u001b[39m\n",
      "  \u001b[90m[a33af91c] \u001b[39m\u001b[92m+ CompositionsBase v0.1.2\u001b[39m\n",
      "  \u001b[90m[ed09eef8] \u001b[39m\u001b[92m+ ComputationalResources v0.3.2\u001b[39m\n",
      "  \u001b[90m[f0e56b4a] \u001b[39m\u001b[92m+ ConcurrentUtilities v2.5.0\u001b[39m\n",
      "  \u001b[90m[187b0558] \u001b[39m\u001b[92m+ ConstructionBase v1.6.0\u001b[39m\n",
      "  \u001b[90m[d38c429a] \u001b[39m\u001b[92m+ Contour v0.6.3\u001b[39m\n",
      "  \u001b[90m[150eb455] \u001b[39m\u001b[92m+ CoordinateTransformations v0.6.4\u001b[39m\n",
      "  \u001b[90m[adafc99b] \u001b[39m\u001b[92m+ CpuId v0.3.1\u001b[39m\n",
      "  \u001b[90m[a8cc5b0e] \u001b[39m\u001b[92m+ Crayons v4.1.1\u001b[39m\n",
      "  \u001b[90m[dc8bdbbb] \u001b[39m\u001b[92m+ CustomUnitRanges v1.0.2\u001b[39m\n",
      "  \u001b[90m[9a962f9c] \u001b[39m\u001b[92m+ DataAPI v1.16.0\u001b[39m\n",
      "  \u001b[90m[a93c6f00] \u001b[39m\u001b[92m+ DataFrames v1.8.0\u001b[39m\n",
      "\u001b[33m⌅\u001b[39m \u001b[90m[864edb3b] \u001b[39m\u001b[92m+ DataStructures v0.18.22\u001b[39m\n",
      "  \u001b[90m[e2d170a0] \u001b[39m\u001b[92m+ DataValueInterfaces v1.0.0\u001b[39m\n",
      "  \u001b[90m[8bb1440f] \u001b[39m\u001b[92m+ DelimitedFiles v1.9.1\u001b[39m\n",
      "  \u001b[90m[b4f34e82] \u001b[39m\u001b[92m+ Distances v0.10.12\u001b[39m\n",
      "  \u001b[90m[31c24e10] \u001b[39m\u001b[92m+ Distributions v0.25.120\u001b[39m\n",
      "  \u001b[90m[ffbed154] \u001b[39m\u001b[92m+ DocStringExtensions v0.9.5\u001b[39m\n",
      "  \u001b[90m[460bff9d] \u001b[39m\u001b[92m+ ExceptionUnwrapping v0.1.11\u001b[39m\n",
      "  \u001b[90m[411431e0] \u001b[39m\u001b[92m+ Extents v0.1.6\u001b[39m\n",
      "  \u001b[90m[c87230d0] \u001b[39m\u001b[92m+ FFMPEG v0.4.4\u001b[39m\n",
      "  \u001b[90m[4f61f5a4] \u001b[39m\u001b[92m+ FFTViews v0.3.2\u001b[39m\n",
      "  \u001b[90m[7a1cc6ca] \u001b[39m\u001b[92m+ FFTW v1.9.0\u001b[39m\n",
      "  \u001b[90m[5789e2e9] \u001b[39m\u001b[92m+ FileIO v1.17.0\u001b[39m\n",
      "  \u001b[90m[48062228] \u001b[39m\u001b[92m+ FilePathsBase v0.9.24\u001b[39m\n",
      "  \u001b[90m[1a297f60] \u001b[39m\u001b[92m+ FillArrays v1.14.0\u001b[39m\n",
      "  \u001b[90m[53c48c17] \u001b[39m\u001b[92m+ FixedPointNumbers v0.8.5\u001b[39m\n",
      "  \u001b[90m[1fa38f19] \u001b[39m\u001b[92m+ Format v1.3.7\u001b[39m\n",
      "  \u001b[90m[d9f16b24] \u001b[39m\u001b[92m+ Functors v0.5.2\u001b[39m\n",
      "  \u001b[90m[28b8d3ca] \u001b[39m\u001b[92m+ GR v0.73.17\u001b[39m\n",
      "  \u001b[90m[5c1252a2] \u001b[39m\u001b[92m+ GeometryBasics v0.5.10\u001b[39m\n",
      "  \u001b[90m[aa1b3936] \u001b[39m\u001b[92m+ GraphIO v0.7.1\u001b[39m\n",
      "  \u001b[90m[f526b714] \u001b[39m\u001b[92m+ GraphViz v0.2.0\u001b[39m\n",
      "  \u001b[90m[a2bd30eb] \u001b[39m\u001b[92m+ Graphics v1.1.3\u001b[39m\n",
      "  \u001b[90m[86223c79] \u001b[39m\u001b[92m+ Graphs v1.13.1\u001b[39m\n",
      "  \u001b[90m[42e2da0e] \u001b[39m\u001b[92m+ Grisu v1.0.2\u001b[39m\n",
      "  \u001b[90m[cd3eb016] \u001b[39m\u001b[92m+ HTTP v1.10.17\u001b[39m\n",
      "  \u001b[90m[076d061b] \u001b[39m\u001b[92m+ HashArrayMappedTries v0.2.0\u001b[39m\n",
      "  \u001b[90m[2c695a8d] \u001b[39m\u001b[92m+ HistogramThresholding v0.3.1\u001b[39m\n",
      "  \u001b[90m[3e5b6fbb] \u001b[39m\u001b[92m+ HostCPUFeatures v0.1.17\u001b[39m\n",
      "  \u001b[90m[34004b35] \u001b[39m\u001b[92m+ HypergeometricFunctions v0.3.28\u001b[39m\n",
      "  \u001b[90m[615f187c] \u001b[39m\u001b[92m+ IfElse v0.1.1\u001b[39m\n",
      "  \u001b[90m[2803e5a7] \u001b[39m\u001b[92m+ ImageAxes v0.6.12\u001b[39m\n",
      "  \u001b[90m[c817782e] \u001b[39m\u001b[92m+ ImageBase v0.1.7\u001b[39m\n",
      "  \u001b[90m[cbc4b850] \u001b[39m\u001b[92m+ ImageBinarization v0.3.1\u001b[39m\n",
      "  \u001b[90m[f332f351] \u001b[39m\u001b[92m+ ImageContrastAdjustment v0.3.12\u001b[39m\n",
      "  \u001b[90m[a09fc81d] \u001b[39m\u001b[92m+ ImageCore v0.10.5\u001b[39m\n",
      "  \u001b[90m[89d5987c] \u001b[39m\u001b[92m+ ImageCorners v0.1.3\u001b[39m\n",
      "  \u001b[90m[51556ac3] \u001b[39m\u001b[92m+ ImageDistances v0.2.17\u001b[39m\n",
      "  \u001b[90m[6a3955dd] \u001b[39m\u001b[92m+ ImageFiltering v0.7.12\u001b[39m\n",
      "  \u001b[90m[82e4d734] \u001b[39m\u001b[92m+ ImageIO v0.6.9\u001b[39m\n",
      "  \u001b[90m[d8c32880] \u001b[39m\u001b[92m+ ImageInTerminal v0.5.4\u001b[39m\n",
      "  \u001b[90m[6218d12a] \u001b[39m\u001b[92m+ ImageMagick v1.4.2\u001b[39m\n",
      "  \u001b[90m[bc367c6b] \u001b[39m\u001b[92m+ ImageMetadata v0.9.10\u001b[39m\n",
      "  \u001b[90m[787d08f9] \u001b[39m\u001b[92m+ ImageMorphology v0.4.6\u001b[39m\n",
      "  \u001b[90m[2996bd0c] \u001b[39m\u001b[92m+ ImageQualityIndexes v0.3.7\u001b[39m\n",
      "  \u001b[90m[80713f31] \u001b[39m\u001b[92m+ ImageSegmentation v1.9.0\u001b[39m\n",
      "  \u001b[90m[4e3cecfd] \u001b[39m\u001b[92m+ ImageShow v0.3.8\u001b[39m\n",
      "  \u001b[90m[02fcd773] \u001b[39m\u001b[92m+ ImageTransformations v0.10.2\u001b[39m\n",
      "  \u001b[90m[916415d5] \u001b[39m\u001b[92m+ Images v0.26.2\u001b[39m\n",
      "  \u001b[90m[9b13fd28] \u001b[39m\u001b[92m+ IndirectArrays v1.0.0\u001b[39m\n",
      "  \u001b[90m[d25df0c9] \u001b[39m\u001b[92m+ Inflate v0.1.5\u001b[39m\n",
      "  \u001b[90m[842dd82b] \u001b[39m\u001b[92m+ InlineStrings v1.4.5\u001b[39m\n",
      "  \u001b[90m[1d092043] \u001b[39m\u001b[92m+ IntegralArrays v0.1.6\u001b[39m\n",
      "  \u001b[90m[a98d9a8b] \u001b[39m\u001b[92m+ Interpolations v0.16.2\u001b[39m\n",
      "  \u001b[90m[8197267c] \u001b[39m\u001b[92m+ IntervalSets v0.7.11\u001b[39m\n",
      "  \u001b[90m[41ab1584] \u001b[39m\u001b[92m+ InvertedIndices v1.3.1\u001b[39m\n",
      "  \u001b[90m[92d709cd] \u001b[39m\u001b[92m+ IrrationalConstants v0.2.4\u001b[39m\n",
      "  \u001b[90m[c8e1da08] \u001b[39m\u001b[92m+ IterTools v1.10.0\u001b[39m\n",
      "  \u001b[90m[82899510] \u001b[39m\u001b[92m+ IteratorInterfaceExtensions v1.0.0\u001b[39m\n",
      "  \u001b[90m[033835bb] \u001b[39m\u001b[92m+ JLD2 v0.6.2\u001b[39m\n",
      "  \u001b[90m[1019f520] \u001b[39m\u001b[92m+ JLFzf v0.1.11\u001b[39m\n",
      "  \u001b[90m[692b3bcd] \u001b[39m\u001b[92m+ JLLWrappers v1.7.1\u001b[39m\n",
      "  \u001b[90m[682c06a0] \u001b[39m\u001b[92m+ JSON v0.21.4\u001b[39m\n",
      "  \u001b[90m[b835a17e] \u001b[39m\u001b[92m+ JpegTurbo v0.1.6\u001b[39m\n",
      "  \u001b[90m[cd156443] \u001b[39m\u001b[92m+ Karnak v1.2.0\u001b[39m\n",
      "  \u001b[90m[ec8451be] \u001b[39m\u001b[92m+ KernelFunctions v0.10.65\u001b[39m\n",
      "  \u001b[90m[b964fa9f] \u001b[39m\u001b[92m+ LaTeXStrings v1.4.0\u001b[39m\n",
      "  \u001b[90m[23fbe1c1] \u001b[39m\u001b[92m+ Latexify v0.16.10\u001b[39m\n",
      "  \u001b[90m[10f19ff3] \u001b[39m\u001b[92m+ LayoutPointers v0.1.17\u001b[39m\n",
      "  \u001b[90m[8cdb02fc] \u001b[39m\u001b[92m+ LazyModules v0.3.1\u001b[39m\n",
      "  \u001b[90m[2ab3a3ac] \u001b[39m\u001b[92m+ LogExpFunctions v0.3.29\u001b[39m\n",
      "  \u001b[90m[e6f89c97] \u001b[39m\u001b[92m+ LoggingExtras v1.1.0\u001b[39m\n",
      "  \u001b[90m[bdcacae8] \u001b[39m\u001b[92m+ LoopVectorization v0.12.172\u001b[39m\n",
      "  \u001b[90m[ae8d54c2] \u001b[39m\u001b[92m+ Luxor v4.3.0\u001b[39m\n",
      "  \u001b[90m[1914dd2f] \u001b[39m\u001b[92m+ MacroTools v0.5.16\u001b[39m\n",
      "  \u001b[90m[d125e4d3] \u001b[39m\u001b[92m+ ManualMemory v0.1.8\u001b[39m\n",
      "  \u001b[90m[dbb5928d] \u001b[39m\u001b[92m+ MappedArrays v0.4.2\u001b[39m\n",
      "  \u001b[90m[299715c1] \u001b[39m\u001b[92m+ MarchingCubes v0.1.11\u001b[39m\n",
      "  \u001b[90m[739be429] \u001b[39m\u001b[92m+ MbedTLS v1.1.9\u001b[39m\n",
      "  \u001b[90m[442fdcdd] \u001b[39m\u001b[92m+ Measures v0.3.2\u001b[39m\n",
      "  \u001b[90m[626554b9] \u001b[39m\u001b[92m+ MetaGraphs v0.8.1\u001b[39m\n",
      "  \u001b[90m[e1d29d7a] \u001b[39m\u001b[92m+ Missings v1.2.0\u001b[39m\n",
      "  \u001b[90m[e94cdb99] \u001b[39m\u001b[92m+ MosaicViews v0.3.4\u001b[39m\n",
      "  \u001b[90m[77ba4419] \u001b[39m\u001b[92m+ NaNMath v1.1.3\u001b[39m\n",
      "  \u001b[90m[b8a86587] \u001b[39m\u001b[92m+ NearestNeighbors v0.4.22\u001b[39m\n",
      "  \u001b[90m[f09324ee] \u001b[39m\u001b[92m+ Netpbm v1.1.1\u001b[39m\n",
      "  \u001b[90m[46757867] \u001b[39m\u001b[92m+ NetworkLayout v0.4.10\u001b[39m\n",
      "  \u001b[90m[6fe1bfb0] \u001b[39m\u001b[92m+ OffsetArrays v1.17.0\u001b[39m\n",
      "  \u001b[90m[52e1d378] \u001b[39m\u001b[92m+ OpenEXR v0.3.3\u001b[39m\n",
      "  \u001b[90m[4d8831e6] \u001b[39m\u001b[92m+ OpenSSL v1.5.0\u001b[39m\n",
      "  \u001b[90m[bac558e1] \u001b[39m\u001b[92m+ OrderedCollections v1.8.1\u001b[39m\n",
      "  \u001b[90m[90014a1f] \u001b[39m\u001b[92m+ PDMats v0.11.35\u001b[39m\n",
      "  \u001b[90m[f57f5aa1] \u001b[39m\u001b[92m+ PNGFiles v0.4.4\u001b[39m\n",
      "  \u001b[90m[5432bcbf] \u001b[39m\u001b[92m+ PaddedViews v0.5.12\u001b[39m\n",
      "  \u001b[90m[d96e819e] \u001b[39m\u001b[92m+ Parameters v0.12.3\u001b[39m\n",
      "  \u001b[90m[69de0a69] \u001b[39m\u001b[92m+ Parsers v2.8.3\u001b[39m\n",
      "  \u001b[90m[eebad327] \u001b[39m\u001b[92m+ PkgVersion v0.3.3\u001b[39m\n",
      "  \u001b[90m[ccf2f8ad] \u001b[39m\u001b[92m+ PlotThemes v3.3.0\u001b[39m\n",
      "  \u001b[90m[995b91a9] \u001b[39m\u001b[92m+ PlotUtils v1.4.3\u001b[39m\n",
      "  \u001b[90m[91a5bcdd] \u001b[39m\u001b[92m+ Plots v1.40.20\u001b[39m\n",
      "  \u001b[90m[1d0040c9] \u001b[39m\u001b[92m+ PolyesterWeave v0.2.2\u001b[39m\n",
      "  \u001b[90m[32a0d02f] \u001b[39m\u001b[92m+ PolygonAlgorithms v0.3.2\u001b[39m\n",
      "  \u001b[90m[f27b6e38] \u001b[39m\u001b[92m+ Polynomials v4.1.0\u001b[39m\n",
      "  \u001b[90m[2dfb63ee] \u001b[39m\u001b[92m+ PooledArrays v1.4.3\u001b[39m\n",
      "\u001b[33m⌅\u001b[39m \u001b[90m[aea7be01] \u001b[39m\u001b[92m+ PrecompileTools v1.2.1\u001b[39m\n",
      "  \u001b[90m[21216c6a] \u001b[39m\u001b[92m+ Preferences v1.5.0\u001b[39m\n",
      "  \u001b[90m[08abe8d2] \u001b[39m\u001b[92m+ PrettyTables v3.0.10\u001b[39m\n",
      "  \u001b[90m[92933f4c] \u001b[39m\u001b[92m+ ProgressMeter v1.11.0\u001b[39m\n",
      "  \u001b[90m[43287f4e] \u001b[39m\u001b[92m+ PtrArrays v1.3.0\u001b[39m\n",
      "  \u001b[90m[4b34888f] \u001b[39m\u001b[92m+ QOI v1.0.1\u001b[39m\n",
      "  \u001b[90m[1fd47b50] \u001b[39m\u001b[92m+ QuadGK v2.11.2\u001b[39m\n",
      "  \u001b[90m[94ee1d12] \u001b[39m\u001b[92m+ Quaternions v0.7.6\u001b[39m\n",
      "  \u001b[90m[b3c3ace0] \u001b[39m\u001b[92m+ RangeArrays v0.3.2\u001b[39m\n",
      "  \u001b[90m[c84ed2f1] \u001b[39m\u001b[92m+ Ratios v0.4.5\u001b[39m\n",
      "  \u001b[90m[c1ae055f] \u001b[39m\u001b[92m+ RealDot v0.1.0\u001b[39m\n",
      "  \u001b[90m[3cdcf5f2] \u001b[39m\u001b[92m+ RecipesBase v1.3.4\u001b[39m\n",
      "  \u001b[90m[01d81517] \u001b[39m\u001b[92m+ RecipesPipeline v0.6.12\u001b[39m\n",
      "  \u001b[90m[189a3867] \u001b[39m\u001b[92m+ Reexport v1.2.2\u001b[39m\n",
      "  \u001b[90m[dee08c22] \u001b[39m\u001b[92m+ RegionTrees v0.3.2\u001b[39m\n",
      "  \u001b[90m[05181044] \u001b[39m\u001b[92m+ RelocatableFolders v1.0.1\u001b[39m\n",
      "  \u001b[90m[ae029012] \u001b[39m\u001b[92m+ Requires v1.3.1\u001b[39m\n",
      "  \u001b[90m[79098fc4] \u001b[39m\u001b[92m+ Rmath v0.8.0\u001b[39m\n",
      "  \u001b[90m[6038ab10] \u001b[39m\u001b[92m+ Rotations v1.7.1\u001b[39m\n",
      "  \u001b[90m[c4c386cf] \u001b[39m\u001b[92m+ Rsvg v1.1.0\u001b[39m\n",
      "  \u001b[90m[fdea26ae] \u001b[39m\u001b[92m+ SIMD v3.7.1\u001b[39m\n",
      "  \u001b[90m[94e857df] \u001b[39m\u001b[92m+ SIMDTypes v0.1.0\u001b[39m\n",
      "  \u001b[90m[476501e8] \u001b[39m\u001b[92m+ SLEEFPirates v0.6.43\u001b[39m\n",
      "  \u001b[90m[7e506255] \u001b[39m\u001b[92m+ ScopedValues v1.5.0\u001b[39m\n",
      "  \u001b[90m[6c6a2e73] \u001b[39m\u001b[92m+ Scratch v1.3.0\u001b[39m\n",
      "  \u001b[90m[91c51154] \u001b[39m\u001b[92m+ SentinelArrays v1.4.8\u001b[39m\n",
      "  \u001b[90m[efcf1570] \u001b[39m\u001b[92m+ Setfield v1.1.2\u001b[39m\n",
      "  \u001b[90m[992d4aef] \u001b[39m\u001b[92m+ Showoff v1.0.3\u001b[39m\n",
      "  \u001b[90m[777ac1f9] \u001b[39m\u001b[92m+ SimpleBufferStream v1.2.0\u001b[39m\n",
      "  \u001b[90m[699a6c99] \u001b[39m\u001b[92m+ SimpleTraits v0.9.5\u001b[39m\n",
      "  \u001b[90m[47aef6b3] \u001b[39m\u001b[92m+ SimpleWeightedGraphs v1.5.0\u001b[39m\n",
      "  \u001b[90m[45858cf5] \u001b[39m\u001b[92m+ Sixel v0.1.5\u001b[39m\n",
      "  \u001b[90m[a2af1166] \u001b[39m\u001b[92m+ SortingAlgorithms v1.2.2\u001b[39m\n",
      "  \u001b[90m[276daf66] \u001b[39m\u001b[92m+ SpecialFunctions v2.5.1\u001b[39m\n",
      "  \u001b[90m[860ef19b] \u001b[39m\u001b[92m+ StableRNGs v1.0.3\u001b[39m\n",
      "  \u001b[90m[cae243ae] \u001b[39m\u001b[92m+ StackViews v0.1.2\u001b[39m\n",
      "  \u001b[90m[aedffcd0] \u001b[39m\u001b[92m+ Static v1.2.0\u001b[39m\n",
      "  \u001b[90m[0d7ed370] \u001b[39m\u001b[92m+ StaticArrayInterface v1.8.0\u001b[39m\n",
      "  \u001b[90m[90137ffa] \u001b[39m\u001b[92m+ StaticArrays v1.9.15\u001b[39m\n",
      "  \u001b[90m[1e83bf80] \u001b[39m\u001b[92m+ StaticArraysCore v1.4.3\u001b[39m\n",
      "  \u001b[90m[10745b16] \u001b[39m\u001b[92m+ Statistics v1.11.1\u001b[39m\n",
      "  \u001b[90m[82ae8749] \u001b[39m\u001b[92m+ StatsAPI v1.7.1\u001b[39m\n",
      "  \u001b[90m[2913bbd2] \u001b[39m\u001b[92m+ StatsBase v0.34.6\u001b[39m\n",
      "  \u001b[90m[4c63d2b9] \u001b[39m\u001b[92m+ StatsFuns v1.5.0\u001b[39m\n",
      "  \u001b[90m[892a3eda] \u001b[39m\u001b[92m+ StringManipulation v0.4.1\u001b[39m\n",
      "  \u001b[90m[3783bdb8] \u001b[39m\u001b[92m+ TableTraits v1.0.1\u001b[39m\n",
      "  \u001b[90m[bd369af6] \u001b[39m\u001b[92m+ Tables v1.12.1\u001b[39m\n",
      "  \u001b[90m[62fd8b95] \u001b[39m\u001b[92m+ TensorCore v0.1.1\u001b[39m\n",
      "  \u001b[90m[8290d209] \u001b[39m\u001b[92m+ ThreadingUtilities v0.5.5\u001b[39m\n",
      "  \u001b[90m[731e570b] \u001b[39m\u001b[92m+ TiffImages v0.11.6\u001b[39m\n",
      "  \u001b[90m[06e1c1a7] \u001b[39m\u001b[92m+ TiledIteration v0.5.0\u001b[39m\n",
      "  \u001b[90m[0796e94c] \u001b[39m\u001b[92m+ Tokenize v0.5.29\u001b[39m\n",
      "  \u001b[90m[3bb67fe8] \u001b[39m\u001b[92m+ TranscodingStreams v0.11.3\u001b[39m\n",
      "  \u001b[90m[5c2747f8] \u001b[39m\u001b[92m+ URIs v1.6.1\u001b[39m\n",
      "  \u001b[90m[3a884ed6] \u001b[39m\u001b[92m+ UnPack v1.0.2\u001b[39m\n",
      "  \u001b[90m[1cfade01] \u001b[39m\u001b[92m+ UnicodeFun v0.4.1\u001b[39m\n",
      "  \u001b[90m[b8865327] \u001b[39m\u001b[92m+ UnicodePlots v3.8.1\u001b[39m\n",
      "  \u001b[90m[1986cc42] \u001b[39m\u001b[92m+ Unitful v1.24.0\u001b[39m\n",
      "  \u001b[90m[45397f5d] \u001b[39m\u001b[92m+ UnitfulLatexify v1.7.0\u001b[39m\n",
      "  \u001b[90m[41fe7b60] \u001b[39m\u001b[92m+ Unzip v0.2.0\u001b[39m\n",
      "  \u001b[90m[24b76065] \u001b[39m\u001b[92m+ VLDataScienceMachineLearningPackage v0.1.0 `https://github.com/varnerlab/VLDataScienceMachineLearningPackage.jl.git#main`\u001b[39m\n",
      "  \u001b[90m[3d5dd08c] \u001b[39m\u001b[92m+ VectorizationBase v0.21.72\u001b[39m\n",
      "  \u001b[90m[ea10d353] \u001b[39m\u001b[92m+ WeakRefStrings v1.4.2\u001b[39m\n",
      "  \u001b[90m[e3aaa7dc] \u001b[39m\u001b[92m+ WebP v0.1.3\u001b[39m\n",
      "  \u001b[90m[efce3f68] \u001b[39m\u001b[92m+ WoodburyMatrices v1.0.0\u001b[39m\n",
      "  \u001b[90m[76eceee3] \u001b[39m\u001b[92m+ WorkerUtilities v1.6.1\u001b[39m\n",
      "  \u001b[90m[c8c2cc18] \u001b[39m\u001b[92m+ XTermColors v0.2.1\u001b[39m\n",
      "  \u001b[90m[700de1a5] \u001b[39m\u001b[92m+ ZygoteRules v0.2.7\u001b[39m\n",
      "  \u001b[90m[6e34b625] \u001b[39m\u001b[92m+ Bzip2_jll v1.0.9+0\u001b[39m\n",
      "  \u001b[90m[83423d85] \u001b[39m\u001b[92m+ Cairo_jll v1.18.5+0\u001b[39m\n",
      "  \u001b[90m[ee1fde0b] \u001b[39m\u001b[92m+ Dbus_jll v1.16.2+0\u001b[39m\n",
      "  \u001b[90m[5ae413db] \u001b[39m\u001b[92m+ EarCut_jll v2.2.4+0\u001b[39m\n",
      "  \u001b[90m[2702e6a9] \u001b[39m\u001b[92m+ EpollShim_jll v0.0.20230411+1\u001b[39m\n",
      "  \u001b[90m[2e619515] \u001b[39m\u001b[92m+ Expat_jll v2.7.1+0\u001b[39m\n",
      "  \u001b[90m[b22a6f82] \u001b[39m\u001b[92m+ FFMPEG_jll v7.1.1+0\u001b[39m\n",
      "  \u001b[90m[f5851436] \u001b[39m\u001b[92m+ FFTW_jll v3.3.11+0\u001b[39m\n",
      "  \u001b[90m[a3f928ae] \u001b[39m\u001b[92m+ Fontconfig_jll v2.17.1+0\u001b[39m\n",
      "  \u001b[90m[d7e528f0] \u001b[39m\u001b[92m+ FreeType2_jll v2.13.4+0\u001b[39m\n",
      "  \u001b[90m[559328eb] \u001b[39m\u001b[92m+ FriBidi_jll v1.0.17+0\u001b[39m\n",
      "  \u001b[90m[0656b61e] \u001b[39m\u001b[92m+ GLFW_jll v3.4.0+2\u001b[39m\n",
      "  \u001b[90m[d2c73de3] \u001b[39m\u001b[92m+ GR_jll v0.73.17+0\u001b[39m\n",
      "  \u001b[90m[b0724c58] \u001b[39m\u001b[92m+ GettextRuntime_jll v0.22.4+0\u001b[39m\n",
      "  \u001b[90m[61579ee1] \u001b[39m\u001b[92m+ Ghostscript_jll v9.55.1+0\u001b[39m\n",
      "  \u001b[90m[59f7168a] \u001b[39m\u001b[92m+ Giflib_jll v5.2.3+0\u001b[39m\n",
      "  \u001b[90m[7746bdde] \u001b[39m\u001b[92m+ Glib_jll v2.86.0+0\u001b[39m\n",
      "  \u001b[90m[3b182d85] \u001b[39m\u001b[92m+ Graphite2_jll v1.3.15+0\u001b[39m\n",
      "  \u001b[90m[3c863552] \u001b[39m\u001b[92m+ Graphviz_jll v2.50.0+1\u001b[39m\n",
      "  \u001b[90m[2e76f6c2] \u001b[39m\u001b[92m+ HarfBuzz_jll v8.5.1+0\u001b[39m\n",
      "  \u001b[90m[c73af94c] \u001b[39m\u001b[92m+ ImageMagick_jll v7.1.2004+0\u001b[39m\n",
      "  \u001b[90m[905a6f67] \u001b[39m\u001b[92m+ Imath_jll v3.1.11+0\u001b[39m\n",
      "  \u001b[90m[1d5cc7b8] \u001b[39m\u001b[92m+ IntelOpenMP_jll v2025.2.0+0\u001b[39m\n",
      "  \u001b[90m[aacddb02] \u001b[39m\u001b[92m+ JpegTurbo_jll v3.1.3+0\u001b[39m\n",
      "  \u001b[90m[c1c5ebd0] \u001b[39m\u001b[92m+ LAME_jll v3.100.3+0\u001b[39m\n",
      "  \u001b[90m[88015f11] \u001b[39m\u001b[92m+ LERC_jll v4.0.1+0\u001b[39m\n",
      "  \u001b[90m[1d63c593] \u001b[39m\u001b[92m+ LLVMOpenMP_jll v18.1.8+0\u001b[39m\n",
      "  \u001b[90m[dd4b983a] \u001b[39m\u001b[92m+ LZO_jll v2.10.3+0\u001b[39m\n",
      "  \u001b[90m[e9f186c6] \u001b[39m\u001b[92m+ Libffi_jll v3.4.7+0\u001b[39m\n",
      "  \u001b[90m[7e76a0d4] \u001b[39m\u001b[92m+ Libglvnd_jll v1.7.1+1\u001b[39m\n",
      "  \u001b[90m[94ce4f54] \u001b[39m\u001b[92m+ Libiconv_jll v1.18.0+0\u001b[39m\n",
      "  \u001b[90m[4b2f31a3] \u001b[39m\u001b[92m+ Libmount_jll v2.41.1+0\u001b[39m\n",
      "  \u001b[90m[925c91fb] \u001b[39m\u001b[92m+ Librsvg_jll v2.54.7+0\u001b[39m\n",
      "  \u001b[90m[89763e89] \u001b[39m\u001b[92m+ Libtiff_jll v4.7.1+0\u001b[39m\n",
      "  \u001b[90m[38a345b3] \u001b[39m\u001b[92m+ Libuuid_jll v2.41.1+0\u001b[39m\n",
      "  \u001b[90m[d3a379c0] \u001b[39m\u001b[92m+ LittleCMS_jll v2.17.0+0\u001b[39m\n",
      "  \u001b[90m[856f044c] \u001b[39m\u001b[92m+ MKL_jll v2025.2.0+0\u001b[39m\n",
      "  \u001b[90m[e7412a2a] \u001b[39m\u001b[92m+ Ogg_jll v1.3.6+0\u001b[39m\n",
      "  \u001b[90m[18a262bb] \u001b[39m\u001b[92m+ OpenEXR_jll v3.2.4+0\u001b[39m\n",
      "  \u001b[90m[643b3616] \u001b[39m\u001b[92m+ OpenJpeg_jll v2.5.4+0\u001b[39m\n",
      "  \u001b[90m[458c3c95] \u001b[39m\u001b[92m+ OpenSSL_jll v3.5.2+0\u001b[39m\n",
      "  \u001b[90m[efe28fd5] \u001b[39m\u001b[92m+ OpenSpecFun_jll v0.5.6+0\u001b[39m\n",
      "  \u001b[90m[91d4177d] \u001b[39m\u001b[92m+ Opus_jll v1.5.2+0\u001b[39m\n",
      "  \u001b[90m[36c8627f] \u001b[39m\u001b[92m+ Pango_jll v1.56.4+0\u001b[39m\n",
      "\u001b[33m⌅\u001b[39m \u001b[90m[30392449] \u001b[39m\u001b[92m+ Pixman_jll v0.44.2+0\u001b[39m\n",
      "  \u001b[90m[c0090381] \u001b[39m\u001b[92m+ Qt6Base_jll v6.8.2+1\u001b[39m\n",
      "  \u001b[90m[629bc702] \u001b[39m\u001b[92m+ Qt6Declarative_jll v6.8.2+1\u001b[39m\n",
      "  \u001b[90m[ce943373] \u001b[39m\u001b[92m+ Qt6ShaderTools_jll v6.8.2+1\u001b[39m\n",
      "  \u001b[90m[e99dba38] \u001b[39m\u001b[92m+ Qt6Wayland_jll v6.8.2+1\u001b[39m\n",
      "  \u001b[90m[f50d1b31] \u001b[39m\u001b[92m+ Rmath_jll v0.5.1+0\u001b[39m\n",
      "  \u001b[90m[a44049a8] \u001b[39m\u001b[92m+ Vulkan_Loader_jll v1.3.243+0\u001b[39m\n",
      "  \u001b[90m[a2964d1f] \u001b[39m\u001b[92m+ Wayland_jll v1.24.0+0\u001b[39m\n",
      "\u001b[33m⌅\u001b[39m \u001b[90m[02c8fc9c] \u001b[39m\u001b[92m+ XML2_jll v2.13.8+0\u001b[39m\n",
      "  \u001b[90m[ffd25f8a] \u001b[39m\u001b[92m+ XZ_jll v5.8.1+0\u001b[39m\n",
      "  \u001b[90m[f67eecfb] \u001b[39m\u001b[92m+ Xorg_libICE_jll v1.1.2+0\u001b[39m\n",
      "  \u001b[90m[c834827a] \u001b[39m\u001b[92m+ Xorg_libSM_jll v1.2.6+0\u001b[39m\n",
      "  \u001b[90m[4f6342f7] \u001b[39m\u001b[92m+ Xorg_libX11_jll v1.8.12+0\u001b[39m\n",
      "  \u001b[90m[0c0b7dd1] \u001b[39m\u001b[92m+ Xorg_libXau_jll v1.0.13+0\u001b[39m\n",
      "  \u001b[90m[935fb764] \u001b[39m\u001b[92m+ Xorg_libXcursor_jll v1.2.4+0\u001b[39m\n",
      "  \u001b[90m[a3789734] \u001b[39m\u001b[92m+ Xorg_libXdmcp_jll v1.1.6+0\u001b[39m\n",
      "  \u001b[90m[1082639a] \u001b[39m\u001b[92m+ Xorg_libXext_jll v1.3.7+0\u001b[39m\n",
      "  \u001b[90m[d091e8ba] \u001b[39m\u001b[92m+ Xorg_libXfixes_jll v6.0.1+0\u001b[39m\n",
      "  \u001b[90m[a51aa0fd] \u001b[39m\u001b[92m+ Xorg_libXi_jll v1.8.3+0\u001b[39m\n",
      "  \u001b[90m[d1454406] \u001b[39m\u001b[92m+ Xorg_libXinerama_jll v1.1.6+0\u001b[39m\n",
      "  \u001b[90m[ec84b674] \u001b[39m\u001b[92m+ Xorg_libXrandr_jll v1.5.5+0\u001b[39m\n",
      "  \u001b[90m[ea2f1a96] \u001b[39m\u001b[92m+ Xorg_libXrender_jll v0.9.12+0\u001b[39m\n",
      "  \u001b[90m[c7cfdc94] \u001b[39m\u001b[92m+ Xorg_libxcb_jll v1.17.1+0\u001b[39m\n",
      "  \u001b[90m[cc61e674] \u001b[39m\u001b[92m+ Xorg_libxkbfile_jll v1.1.3+0\u001b[39m\n",
      "  \u001b[90m[e920d4aa] \u001b[39m\u001b[92m+ Xorg_xcb_util_cursor_jll v0.1.5+0\u001b[39m\n",
      "  \u001b[90m[12413925] \u001b[39m\u001b[92m+ Xorg_xcb_util_image_jll v0.4.1+0\u001b[39m\n",
      "  \u001b[90m[2def613f] \u001b[39m\u001b[92m+ Xorg_xcb_util_jll v0.4.1+0\u001b[39m\n",
      "  \u001b[90m[975044d2] \u001b[39m\u001b[92m+ Xorg_xcb_util_keysyms_jll v0.4.1+0\u001b[39m\n",
      "  \u001b[90m[0d47668e] \u001b[39m\u001b[92m+ Xorg_xcb_util_renderutil_jll v0.3.10+0\u001b[39m\n",
      "  \u001b[90m[c22f9ab0] \u001b[39m\u001b[92m+ Xorg_xcb_util_wm_jll v0.4.2+0\u001b[39m\n",
      "  \u001b[90m[35661453] \u001b[39m\u001b[92m+ Xorg_xkbcomp_jll v1.4.7+0\u001b[39m\n",
      "  \u001b[90m[33bec58e] \u001b[39m\u001b[92m+ Xorg_xkeyboard_config_jll v2.44.0+0\u001b[39m\n",
      "  \u001b[90m[c5fb5394] \u001b[39m\u001b[92m+ Xorg_xtrans_jll v1.6.0+0\u001b[39m\n",
      "  \u001b[90m[3161d3a3] \u001b[39m\u001b[92m+ Zstd_jll v1.5.7+1\u001b[39m\n",
      "  \u001b[90m[35ca27e7] \u001b[39m\u001b[92m+ eudev_jll v3.2.14+0\u001b[39m\n",
      "  \u001b[90m[214eeab7] \u001b[39m\u001b[92m+ fzf_jll v0.61.1+0\u001b[39m\n",
      "  \u001b[90m[da03df04] \u001b[39m\u001b[92m+ gdk_pixbuf_jll v2.42.13+0\u001b[39m\n",
      "  \u001b[90m[a4ae2306] \u001b[39m\u001b[92m+ libaom_jll v3.12.1+0\u001b[39m\n",
      "  \u001b[90m[0ac62f75] \u001b[39m\u001b[92m+ libass_jll v0.17.4+0\u001b[39m\n",
      "  \u001b[90m[1183f4f0] \u001b[39m\u001b[92m+ libdecor_jll v0.2.2+0\u001b[39m\n",
      "  \u001b[90m[2db6ffa8] \u001b[39m\u001b[92m+ libevdev_jll v1.13.4+0\u001b[39m\n",
      "  \u001b[90m[f638f0a6] \u001b[39m\u001b[92m+ libfdk_aac_jll v2.0.4+0\u001b[39m\n",
      "  \u001b[90m[36db933b] \u001b[39m\u001b[92m+ libinput_jll v1.28.1+0\u001b[39m\n",
      "  \u001b[90m[b53b4c65] \u001b[39m\u001b[92m+ libpng_jll v1.6.50+0\u001b[39m\n",
      "  \u001b[90m[075b6546] \u001b[39m\u001b[92m+ libsixel_jll v1.10.5+0\u001b[39m\n",
      "  \u001b[90m[f27f6e37] \u001b[39m\u001b[92m+ libvorbis_jll v1.3.8+0\u001b[39m\n",
      "  \u001b[90m[c5f90fcd] \u001b[39m\u001b[92m+ libwebp_jll v1.6.0+0\u001b[39m\n",
      "  \u001b[90m[337d8026] \u001b[39m\u001b[92m+ libzip_jll v1.11.3+0\u001b[39m\n",
      "  \u001b[90m[009596ad] \u001b[39m\u001b[92m+ mtdev_jll v1.1.7+0\u001b[39m\n",
      "  \u001b[90m[1317d2d5] \u001b[39m\u001b[92m+ oneTBB_jll v2022.0.0+0\u001b[39m\n",
      "  \u001b[90m[1270edf5] \u001b[39m\u001b[92m+ x264_jll v10164.0.1+0\u001b[39m\n",
      "  \u001b[90m[dfaa095f] \u001b[39m\u001b[92m+ x265_jll v4.1.0+0\u001b[39m\n",
      "  \u001b[90m[d8fb68d0] \u001b[39m\u001b[92m+ xkbcommon_jll v1.9.2+0\u001b[39m\n",
      "  \u001b[90m[0dad84c5] \u001b[39m\u001b[92m+ ArgTools v1.1.2\u001b[39m\n",
      "  \u001b[90m[56f22d72] \u001b[39m\u001b[92m+ Artifacts v1.11.0\u001b[39m\n",
      "  \u001b[90m[2a0f44e3] \u001b[39m\u001b[92m+ Base64 v1.11.0\u001b[39m\n",
      "  \u001b[90m[ade2ca70] \u001b[39m\u001b[92m+ Dates v1.11.0\u001b[39m\n",
      "  \u001b[90m[8ba89e20] \u001b[39m\u001b[92m+ Distributed v1.11.0\u001b[39m\n",
      "  \u001b[90m[f43a241f] \u001b[39m\u001b[92m+ Downloads v1.6.0\u001b[39m\n",
      "  \u001b[90m[7b1f6079] \u001b[39m\u001b[92m+ FileWatching v1.11.0\u001b[39m\n",
      "  \u001b[90m[9fa8497b] \u001b[39m\u001b[92m+ Future v1.11.0\u001b[39m\n",
      "  \u001b[90m[b77e0a4c] \u001b[39m\u001b[92m+ InteractiveUtils v1.11.0\u001b[39m\n",
      "  \u001b[90m[4af54fe1] \u001b[39m\u001b[92m+ LazyArtifacts v1.11.0\u001b[39m\n",
      "  \u001b[90m[b27032c2] \u001b[39m\u001b[92m+ LibCURL v0.6.4\u001b[39m\n",
      "  \u001b[90m[76f85450] \u001b[39m\u001b[92m+ LibGit2 v1.11.0\u001b[39m\n",
      "  \u001b[90m[8f399da3] \u001b[39m\u001b[92m+ Libdl v1.11.0\u001b[39m\n",
      "  \u001b[90m[37e2e46d] \u001b[39m\u001b[92m+ LinearAlgebra v1.11.0\u001b[39m\n",
      "  \u001b[90m[56ddb016] \u001b[39m\u001b[92m+ Logging v1.11.0\u001b[39m\n",
      "  \u001b[90m[d6f4376e] \u001b[39m\u001b[92m+ Markdown v1.11.0\u001b[39m\n",
      "  \u001b[90m[a63ad114] \u001b[39m\u001b[92m+ Mmap v1.11.0\u001b[39m\n",
      "  \u001b[90m[ca575930] \u001b[39m\u001b[92m+ NetworkOptions v1.2.0\u001b[39m\n",
      "  \u001b[90m[44cfe95a] \u001b[39m\u001b[92m+ Pkg v1.11.0\u001b[39m\n",
      "  \u001b[90m[de0858da] \u001b[39m\u001b[92m+ Printf v1.11.0\u001b[39m\n",
      "  \u001b[90m[9abbd945] \u001b[39m\u001b[92m+ Profile v1.11.0\u001b[39m\n",
      "  \u001b[90m[3fa0cd96] \u001b[39m\u001b[92m+ REPL v1.11.0\u001b[39m\n",
      "  \u001b[90m[9a3f8284] \u001b[39m\u001b[92m+ Random v1.11.0\u001b[39m\n",
      "  \u001b[90m[ea8e919c] \u001b[39m\u001b[92m+ SHA v0.7.0\u001b[39m\n",
      "  \u001b[90m[9e88b42a] \u001b[39m\u001b[92m+ Serialization v1.11.0\u001b[39m\n",
      "  \u001b[90m[1a1011a3] \u001b[39m\u001b[92m+ SharedArrays v1.11.0\u001b[39m\n",
      "  \u001b[90m[6462fe0b] \u001b[39m\u001b[92m+ Sockets v1.11.0\u001b[39m\n",
      "  \u001b[90m[2f01184e] \u001b[39m\u001b[92m+ SparseArrays v1.11.0\u001b[39m\n",
      "  \u001b[90m[f489334b] \u001b[39m\u001b[92m+ StyledStrings v1.11.0\u001b[39m\n",
      "  \u001b[90m[4607b0f0] \u001b[39m\u001b[92m+ SuiteSparse\u001b[39m\n",
      "  \u001b[90m[fa267f1f] \u001b[39m\u001b[92m+ TOML v1.0.3\u001b[39m\n",
      "  \u001b[90m[a4e569a6] \u001b[39m\u001b[92m+ Tar v1.10.0\u001b[39m\n",
      "  \u001b[90m[8dfed614] \u001b[39m\u001b[92m+ Test v1.11.0\u001b[39m\n",
      "  \u001b[90m[cf7118a7] \u001b[39m\u001b[92m+ UUIDs v1.11.0\u001b[39m\n",
      "  \u001b[90m[4ec0a83e] \u001b[39m\u001b[92m+ Unicode v1.11.0\u001b[39m\n",
      "  \u001b[90m[e66e0078] \u001b[39m\u001b[92m+ CompilerSupportLibraries_jll v1.1.1+0\u001b[39m\n",
      "  \u001b[90m[deac9b47] \u001b[39m\u001b[92m+ LibCURL_jll v8.6.0+0\u001b[39m\n",
      "  \u001b[90m[e37daf67] \u001b[39m\u001b[92m+ LibGit2_jll v1.7.2+0\u001b[39m\n",
      "  \u001b[90m[29816b5a] \u001b[39m\u001b[92m+ LibSSH2_jll v1.11.0+1\u001b[39m\n",
      "  \u001b[90m[c8ffd9c3] \u001b[39m\u001b[92m+ MbedTLS_jll v2.28.6+0\u001b[39m\n",
      "  \u001b[90m[14a3606d] \u001b[39m\u001b[92m+ MozillaCACerts_jll v2023.12.12\u001b[39m\n",
      "  \u001b[90m[4536629a] \u001b[39m\u001b[92m+ OpenBLAS_jll v0.3.27+1\u001b[39m\n",
      "  \u001b[90m[05823500] \u001b[39m\u001b[92m+ OpenLibm_jll v0.8.5+0\u001b[39m\n",
      "  \u001b[90m[efcefdf7] \u001b[39m\u001b[92m+ PCRE2_jll v10.42.0+1\u001b[39m\n",
      "  \u001b[90m[bea87d4a] \u001b[39m\u001b[92m+ SuiteSparse_jll v7.7.0+0\u001b[39m\n",
      "  \u001b[90m[83775a58] \u001b[39m\u001b[92m+ Zlib_jll v1.2.13+1\u001b[39m\n",
      "  \u001b[90m[8e850b90] \u001b[39m\u001b[92m+ libblastrampoline_jll v5.11.0+0\u001b[39m\n",
      "  \u001b[90m[8e850ede] \u001b[39m\u001b[92m+ nghttp2_jll v1.59.0+0\u001b[39m\n",
      "  \u001b[90m[3f19e933] \u001b[39m\u001b[92m+ p7zip_jll v17.4.0+2\u001b[39m\n",
      "\u001b[36m\u001b[1m        Info\u001b[22m\u001b[39m Packages marked with \u001b[33m⌅\u001b[39m have new versions available but compatibility constraints restrict them from upgrading. To see why use `status --outdated -m`\n",
      "\u001b[92m\u001b[1mPrecompiling\u001b[22m\u001b[39m project...\n",
      "    595.9 ms\u001b[32m  ✓ \u001b[39m\u001b[90mXML2_jll\u001b[39m\n",
      "    537.7 ms\u001b[32m  ✓ \u001b[39m\u001b[90mgdk_pixbuf_jll\u001b[39m\n",
      "    512.3 ms\u001b[32m  ✓ \u001b[39m\u001b[90mPango_jll\u001b[39m\n",
      "    888.2 ms\u001b[32m  ✓ \u001b[39mGraphIO\n",
      "   1521.2 ms\u001b[32m  ✓ \u001b[39mImageInTerminal\n",
      "   1710.3 ms\u001b[32m  ✓ \u001b[39mKernelFunctions\n",
      "    832.5 ms\u001b[32m  ✓ \u001b[39mGraphIO → GraphIOLGCompressedExt\n",
      "   1501.7 ms\u001b[32m  ✓ \u001b[39m\u001b[90mLibrsvg_jll\u001b[39m\n",
      "   1564.2 ms\u001b[32m  ✓ \u001b[39m\u001b[90mCairo\u001b[39m\n",
      "   1615.3 ms\u001b[32m  ✓ \u001b[39m\u001b[90mGraphviz_jll\u001b[39m\n",
      "   2241.7 ms\u001b[32m  ✓ \u001b[39m\u001b[90mColorSchemes\u001b[39m\n",
      "   1070.3 ms\u001b[32m  ✓ \u001b[39mGraphViz\n",
      "    998.5 ms\u001b[32m  ✓ \u001b[39mImageShow\n",
      "   1672.8 ms\u001b[32m  ✓ \u001b[39m\u001b[90mRsvg\u001b[39m\n",
      "   4536.7 ms\u001b[32m  ✓ \u001b[39m\u001b[90mGeometryBasics\u001b[39m\n",
      "    972.2 ms\u001b[32m  ✓ \u001b[39mNetworkLayout\n",
      "   3843.1 ms\u001b[32m  ✓ \u001b[39m\u001b[90mPlotUtils\u001b[39m\n",
      "   3138.0 ms\u001b[32m  ✓ \u001b[39mImages\n",
      "    957.4 ms\u001b[32m  ✓ \u001b[39mNetworkLayout → NetworkLayoutGraphsExt\n",
      "   1479.8 ms\u001b[32m  ✓ \u001b[39m\u001b[90mPlotThemes\u001b[39m\n",
      "   1894.2 ms\u001b[32m  ✓ \u001b[39m\u001b[90mRecipesPipeline\u001b[39m\n",
      "   4494.1 ms\u001b[32m  ✓ \u001b[39m\u001b[90mLuxor\u001b[39m\n",
      "   1913.5 ms\u001b[32m  ✓ \u001b[39mKarnak\n",
      "  11271.9 ms\u001b[32m  ✓ \u001b[39mPrettyTables\n",
      "  18477.2 ms\u001b[32m  ✓ \u001b[39mUnicodePlots\n",
      "   1424.5 ms\u001b[32m  ✓ \u001b[39mUnicodePlots → IntervalSetsExt\n",
      "   1534.2 ms\u001b[32m  ✓ \u001b[39mUnicodePlots → UnitfulExt\n",
      "   1964.7 ms\u001b[32m  ✓ \u001b[39mUnicodePlots → ImageInTerminalExt\n",
      "  16666.5 ms\u001b[32m  ✓ \u001b[39mDataFrames\n",
      "   1265.8 ms\u001b[32m  ✓ \u001b[39m\u001b[90mLatexify → DataFramesExt\u001b[39m\n",
      "   2317.7 ms\u001b[32m  ✓ \u001b[39mVLDataScienceMachineLearningPackage\n",
      "  22895.2 ms\u001b[32m  ✓ \u001b[39mPlots\n",
      "   2486.3 ms\u001b[32m  ✓ \u001b[39mPlots → UnitfulExt\n",
      "   2570.3 ms\u001b[32m  ✓ \u001b[39mPlots → GeometryBasicsExt\n",
      "   2623.4 ms\u001b[32m  ✓ \u001b[39mPlots → FileIOExt\n",
      "   2975.5 ms\u001b[32m  ✓ \u001b[39mPlots → ImageInTerminalExt\n",
      "  36 dependencies successfully precompiled in 35 seconds. 370 already precompiled.\n",
      "\u001b[32m\u001b[1m  Activating\u001b[22m\u001b[39m project at `~/Desktop/julia_work/CHEME-5800-Instances/Fall-2025/CHEME-5800-Labs-Fall-2025/labs/week-4/L4b`\n",
      "\u001b[32m\u001b[1m  No Changes\u001b[22m\u001b[39m to `~/Desktop/julia_work/CHEME-5800-Instances/Fall-2025/CHEME-5800-Labs-Fall-2025/labs/week-4/L4b/Project.toml`\n",
      "\u001b[32m\u001b[1m  No Changes\u001b[22m\u001b[39m to `~/Desktop/julia_work/CHEME-5800-Instances/Fall-2025/CHEME-5800-Labs-Fall-2025/labs/week-4/L4b/Manifest.toml`\n",
      "\u001b[32m\u001b[1m    Updating\u001b[22m\u001b[39m registry at `~/.julia/registries/General.toml`\n",
      "\u001b[32m\u001b[1m    Updating\u001b[22m\u001b[39m git-repo `https://github.com/varnerlab/VLDataScienceMachineLearningPackage.jl.git`\n",
      "\u001b[32m\u001b[1m  No Changes\u001b[22m\u001b[39m to `~/Desktop/julia_work/CHEME-5800-Instances/Fall-2025/CHEME-5800-Labs-Fall-2025/labs/week-4/L4b/Project.toml`\n",
      "\u001b[32m\u001b[1m  No Changes\u001b[22m\u001b[39m to `~/Desktop/julia_work/CHEME-5800-Instances/Fall-2025/CHEME-5800-Labs-Fall-2025/labs/week-4/L4b/Manifest.toml`\n",
      "\u001b[36m\u001b[1m        Info\u001b[22m\u001b[39m We haven't cleaned this depot up for a bit, running Pkg.gc()...\n",
      "\u001b[32m\u001b[1m      Active\u001b[22m\u001b[39m manifest files: 22 found\n",
      "\u001b[32m\u001b[1m      Active\u001b[22m\u001b[39m artifact files: 159 found\n",
      "\u001b[32m\u001b[1m      Active\u001b[22m\u001b[39m scratchspaces: 6 found\n",
      "\u001b[32m\u001b[1m     Deleted\u001b[22m\u001b[39m 4 package installations (363.931 MiB)\n",
      "\u001b[32m\u001b[1m     Deleted\u001b[22m\u001b[39m 1 artifact installation (6.837 MiB)\n",
      "\u001b[36m\u001b[1m[ \u001b[22m\u001b[39m\u001b[36m\u001b[1mInfo: \u001b[22m\u001b[39mPrecompiling VLDataScienceMachineLearningPackage [24b76065-2c22-4f73-af85-7cb67476fb03] (cache misses: wrong dep version loaded (18), wrong source (2))\n",
      "\u001b[36m\u001b[1m[ \u001b[22m\u001b[39m\u001b[36m\u001b[1mInfo: \u001b[22m\u001b[39mPrecompiling JLD2 [033835bb-8acc-5ee8-8aae-3f567f8a3819] (cache misses: wrong dep version loaded (10), wrong source (2), incompatible header (2))\n",
      "\u001b[36m\u001b[1m[ \u001b[22m\u001b[39m\u001b[36m\u001b[1mInfo: \u001b[22m\u001b[39mPrecompiling KernelFunctions [ec8451be-7e33-11e9-00cf-bbf324bd1392] (cache misses: wrong dep version loaded (6), incompatible header (2))\n",
      "\u001b[36m\u001b[1m[ \u001b[22m\u001b[39m\u001b[36m\u001b[1mInfo: \u001b[22m\u001b[39mPrecompiling StatsFunsChainRulesCoreExt [d41313fe-2684-5453-9fef-703f5fa397f4] (cache misses: wrong dep version loaded (2), incompatible header (2))\n",
      "\u001b[36m\u001b[1m[ \u001b[22m\u001b[39m\u001b[36m\u001b[1mInfo: \u001b[22m\u001b[39mPrecompiling DistributionsChainRulesCoreExt [6db1f127-056a-568b-bd49-ae61d42389fa] (cache misses: wrong dep version loaded (6), incompatible header (2))\n",
      "\u001b[36m\u001b[1m[ \u001b[22m\u001b[39m\u001b[36m\u001b[1mInfo: \u001b[22m\u001b[39mPrecompiling DistributionsTestExt [ffbe0ea5-a612-5ff7-aaf5-cac02eef3019] (cache misses: wrong dep version loaded (10), incompatible header (2))\n",
      "\u001b[36m\u001b[1m[ \u001b[22m\u001b[39m\u001b[36m\u001b[1mInfo: \u001b[22m\u001b[39mPrecompiling Plots [91a5bcdd-55d7-5caf-9e0b-520d859cae80] (cache misses: wrong dep version loaded (14), incompatible header (2))\n",
      "\u001b[36m\u001b[1m[ \u001b[22m\u001b[39m\u001b[36m\u001b[1mInfo: \u001b[22m\u001b[39mPrecompiling SpecialFunctionsExt [997ecda8-951a-5f50-90ea-61382e97704b] (cache misses: wrong dep version loaded (4), incompatible header (2))\n",
      "\u001b[36m\u001b[1m[ \u001b[22m\u001b[39m\u001b[36m\u001b[1mInfo: \u001b[22m\u001b[39mPrecompiling FileIOExt [f5f51d8f-5827-5d2e-939b-192fcd6ec70c] (cache misses: wrong dep version loaded (14), incompatible header (2))\n",
      "\u001b[36m\u001b[1m[ \u001b[22m\u001b[39m\u001b[36m\u001b[1mInfo: \u001b[22m\u001b[39mPrecompiling IJuliaExt [2f4121a4-3b3a-5ce6-9c5e-1f2673ce168a] (cache misses: wrong dep version loaded (10), incompatible header (2))\n",
      "\u001b[36m\u001b[1m[ \u001b[22m\u001b[39m\u001b[36m\u001b[1mInfo: \u001b[22m\u001b[39mPrecompiling GraphViz [f526b714-d49f-11e8-06ff-31ed36ee7ee0] (cache misses: wrong dep version loaded (6))\n",
      "\u001b[36m\u001b[1m[ \u001b[22m\u001b[39m\u001b[36m\u001b[1mInfo: \u001b[22m\u001b[39mPrecompiling Images [916415d5-f1e6-5110-898d-aaa5f9f070e0] (cache misses: wrong dep version loaded (14))\n",
      "\u001b[36m\u001b[1m[ \u001b[22m\u001b[39m\u001b[36m\u001b[1mInfo: \u001b[22m\u001b[39mPrecompiling SpecialFunctionsExt [499d2952-c3ce-5339-96ee-b197ee6daaa6] (cache misses: wrong dep version loaded (6))\n",
      "\u001b[36m\u001b[1m[ \u001b[22m\u001b[39m\u001b[36m\u001b[1mInfo: \u001b[22m\u001b[39mPrecompiling ImageInTerminal [d8c32880-2388-543b-8c61-d9f865259254] (cache misses: wrong dep version loaded (8))\n",
      "\u001b[36m\u001b[1m[ \u001b[22m\u001b[39m\u001b[36m\u001b[1mInfo: \u001b[22m\u001b[39mPrecompiling ImageInTerminalExt [eee821b6-0d09-53ea-b39d-e0d59053c068] (cache misses: wrong dep version loaded (8))\n"
     ]
    }
   ],
   "source": [
    "include(joinpath(@__DIR__, \"Include-solution.jl\")); # what is this doing?"
   ]
  },
  {
   "cell_type": "markdown",
   "id": "79dfc009",
   "metadata": {},
   "source": [
    "In addition to standard Julia libraries, we'll also use [the `VLDataScienceMachineLearningPackage.jl` package](https://github.com/varnerlab/VLDataScienceMachineLearningPackage.jl). Check out [the documentation](https://varnerlab.github.io/VLDataScienceMachineLearningPackage.jl/dev/) for more information on the functions, types, and data used in this material.\n",
    "\n",
    "___"
   ]
  },
  {
   "cell_type": "markdown",
   "id": "720863c1",
   "metadata": {},
   "source": [
    "<div>\n",
    "    <center>\n",
    "        <img src=\"figs/Fig-Example-Graph.svg\" width=\"480\"/>\n",
    "    </center>\n",
    "</div>"
   ]
  },
  {
   "cell_type": "markdown",
   "id": "60086ab6",
   "metadata": {},
   "source": [
    "## Task 1: Build a graph model instance for an example graph using an edge list\n",
    "In this task, we'll build [a `MySimpleDirectedGraphModel` instance](https://varnerlab.github.io/VLDataScienceMachineLearningPackage.jl/dev/types/#VLDataScienceMachineLearningPackage.MySimpleDirectedGraphModel) from an edge list file stored in the `data` folder.  This edge list encodes the graph shown above.\n",
    "\n",
    "\n",
    "### Aside: Adjacency Matrix versus Edge List\n",
    "A graph $\\mathcal{G}=\\left(\\mathcal{V},\\mathcal{E}\\right)$ can be constructed from an [Adjacency Matrix](https://en.wikipedia.org/wiki/Adjacency_matrix) $\\mathcal{A}$, which is a $|\\mathcal{V}|\\times|\\mathcal{V}|$ matrix. However, this is only suitable for _small graphs_ because $\\mathcal{A}$ has a high memory overhead (if stored as `64-bit` values).\n",
    "\n",
    "For example, consider a graph with $|\\mathcal{V}|$ = 100000 would require `80 GB` of memory to store in the worst case, which is more memory than most common machines."
   ]
  },
  {
   "cell_type": "code",
   "execution_count": 7,
   "id": "c1f03f19",
   "metadata": {},
   "outputs": [
    {
     "data": {
      "text/plain": [
       "80.0"
      ]
     },
     "execution_count": 7,
     "metadata": {},
     "output_type": "execute_result"
    }
   ],
   "source": [
    "𝒱 = 100000;\n",
    "memory_reqd = (𝒱^2)*8*(1/(1e9)) # 8 x bytes (64-bits) for each entry = units GB"
   ]
  },
  {
   "cell_type": "markdown",
   "id": "0ac611d1",
   "metadata": {},
   "source": [
    "Instead, a lower memory representation is an [Edge list representation](https://en.wikipedia.org/wiki/Edge_list). In the [Edge list representation](https://en.wikipedia.org/wiki/Edge_list), only the edge information is stored (typically) in a comma-separated value (CSV) file in which each record holds an edge in the graph:\n",
    "\n",
    "> __Edge list__: Each record in an edge list file will contain at least the source, target, and weight fields (if a weighted graph). There can be variations in the exact format, but this is the general structure. For example, there could be id, source, target, weight. The delimiter is typically a comma, but could also be a tab or space, etc.\n",
    "\n",
    "We've built [the `MyGraphEdgeModels(...)` function](https://varnerlab.github.io/VLDataScienceMachineLearningPackage.jl/dev/data/#VLDataScienceMachineLearningPackage.MyGraphEdgeModels) which takes a file path as an argument, and returns a dictionary of [`MyGraphEdgeModel` instances](https://varnerlab.github.io/VLDataScienceMachineLearningPackage.jl/dev/types/#VLDataScienceMachineLearningPackage.MyGraphEdgeModel) to hold this information. Let's load up an edge list. \n",
    "\n",
    "First, set the path to the edge list file in the `path_to_edge_file::String` variable:"
   ]
  },
  {
   "cell_type": "code",
   "execution_count": 9,
   "id": "0e527298",
   "metadata": {},
   "outputs": [],
   "source": [
    "path_to_edge_file = joinpath(_PATH_TO_DATA, \"SimpleGraph.txt\"); # this will load the graph shown above"
   ]
  },
  {
   "cell_type": "markdown",
   "id": "6ed7c13d",
   "metadata": {},
   "source": [
    "Next, construct our dictionary of `edgemodels,` where the data for the edges (source id, target id, and weight) is stored in [a `MyGraphEdgeModel` instance](https://varnerlab.github.io/VLDataScienceMachineLearningPackage.jl/dev/types/#VLDataScienceMachineLearningPackage.MyGraphEdgeModel).\n",
    "\n",
    "Because each edge file could have a different record structure, let's define a __callback function__ that will be called for each line of the edge file. This function will parse the record in the edge file, and return the source id, target id, and weight as a tuple. Note that the internal data structure uses the `Any` data type for the weight, so this can be a string, float, integer or an object, etc.\n",
    "\n",
    "In this case, we'll keep it simple: we'll just return the weight as a float."
   ]
  },
  {
   "cell_type": "code",
   "execution_count": 11,
   "id": "1476d37e",
   "metadata": {},
   "outputs": [
    {
     "data": {
      "text/plain": [
       "edgerecordparser (generic function with 2 methods)"
      ]
     },
     "execution_count": 11,
     "metadata": {},
     "output_type": "execute_result"
    }
   ],
   "source": [
    "function edgerecordparser(record::String, delim::Char=',')\n",
    "    \n",
    "    fields = split(record, delim) # this assumes a record of the form \"source,target,weight\"\n",
    "    if length(fields) < 3\n",
    "        return nothing\n",
    "    end\n",
    "\n",
    "    source = parse(Int, fields[1]) # source id\n",
    "    target = parse(Int, fields[2]) # target id\n",
    "    weight = parse(Float64, fields[3]) # edge weight\n",
    "    \n",
    "    return (source, target, weight)\n",
    "end"
   ]
  },
  {
   "cell_type": "markdown",
   "id": "930925b4",
   "metadata": {},
   "source": [
    "Now that we have our path to the edge list file, and the callback function `edgerecordparser` defined, we can create our edgemodel dictionary by calling [the  `MyGraphEdgeModels(...)` function](https://varnerlab.github.io/VLDataScienceMachineLearningPackage.jl/dev/data/#VLDataScienceMachineLearningPackage.MyGraphEdgeModels).\n",
    "\n",
    "Let's save our edge models in the `myedgemodels::Dict{Int64, MyGraphEdgeModel}` dictionary. The keys will be the edge ids (which we can assume are unique), and the values will be the corresponding `MyGraphEdgeModel` instances. Here, we've used the line index as the edge id."
   ]
  },
  {
   "cell_type": "code",
   "execution_count": 13,
   "id": "42139ff2",
   "metadata": {},
   "outputs": [
    {
     "data": {
      "text/plain": [
       "Dict{Int64, MyGraphEdgeModel} with 7 entries:\n",
       "  0 => MyGraphEdgeModel(0, 1, 2, 10.0)\n",
       "  4 => MyGraphEdgeModel(4, 3, 5, 6.0)\n",
       "  5 => MyGraphEdgeModel(5, 4, 6, 1.0)\n",
       "  6 => MyGraphEdgeModel(6, 5, 4, 1.0)\n",
       "  2 => MyGraphEdgeModel(2, 2, 3, 2.0)\n",
       "  3 => MyGraphEdgeModel(3, 2, 4, 100.0)\n",
       "  1 => MyGraphEdgeModel(1, 1, 3, 100.0)"
      ]
     },
     "execution_count": 13,
     "metadata": {},
     "output_type": "execute_result"
    }
   ],
   "source": [
    "myedgemodels = MyGraphEdgeModels(path_to_edge_file, edgerecordparser, delim=',', comment='#')"
   ]
  },
  {
   "cell_type": "markdown",
   "id": "0bdb9e4f",
   "metadata": {},
   "source": [
    "How can we tell what are the fields in [the `MyGraphEdgeModel` type](https://varnerlab.github.io/VLDataScienceMachineLearningPackage.jl/dev/types/#VLDataScienceMachineLearningPackage.MyGraphEdgeModel)?"
   ]
  },
  {
   "cell_type": "code",
   "execution_count": 15,
   "id": "30b8e696",
   "metadata": {},
   "outputs": [
    {
     "data": {
      "text/plain": [
       "(:id, :source, :target, :weight)"
      ]
     },
     "execution_count": 15,
     "metadata": {},
     "output_type": "execute_result"
    }
   ],
   "source": [
    "typeof(myedgemodels[1]) |> m-> fieldnames(m)"
   ]
  },
  {
   "cell_type": "markdown",
   "id": "c94bce8d",
   "metadata": {},
   "source": [
    "Finally, we can build a graph instance. Since this is a directed graph, we'll construct [a `MySimpleDirectedGraphModel` instance](https://varnerlab.github.io/VLDataScienceMachineLearningPackage.jl/dev/types/#VLDataScienceMachineLearningPackage.MySimpleDirectedGraphModel) using [a `build(...)` method](https://varnerlab.github.io/VLDataScienceMachineLearningPackage.jl/dev/factory/#VLDataScienceMachineLearningPackage.build). Let's save our graph model in the `directedgraphmodel::MySimpleDirectedGraphModel` variable."
   ]
  },
  {
   "cell_type": "code",
   "execution_count": 17,
   "id": "a09ca5ff",
   "metadata": {},
   "outputs": [
    {
     "data": {
      "text/plain": [
       "MySimpleDirectedGraphModel(Dict{Int64, MyGraphNodeModel}(5 => MyGraphNodeModel(5, nothing), 4 => MyGraphNodeModel(4, nothing), 6 => MyGraphNodeModel(6, nothing), 2 => MyGraphNodeModel(2, nothing), 3 => MyGraphNodeModel(3, nothing), 1 => MyGraphNodeModel(1, nothing)), Dict{Tuple{Int64, Int64}, Number}((2, 4) => 100.0, (1, 2) => 10.0, (1, 3) => 100.0, (4, 6) => 1.0, (3, 5) => 6.0, (5, 4) => 1.0, (2, 3) => 2.0), Dict{Int64, Set{Int64}}(5 => Set([4]), 4 => Set([6]), 6 => Set(), 2 => Set([4, 3]), 3 => Set([5]), 1 => Set([2, 3])), Dict(5 => (3, 5), 4 => (2, 4), 6 => (4, 6), 7 => (5, 4), 2 => (1, 3), 3 => (2, 3), 1 => (1, 2)))"
      ]
     },
     "execution_count": 17,
     "metadata": {},
     "output_type": "execute_result"
    }
   ],
   "source": [
    "directedgraphmodel = build(MySimpleDirectedGraphModel, myedgemodels)"
   ]
  },
  {
   "cell_type": "markdown",
   "id": "2d2bf56d",
   "metadata": {},
   "source": [
    "What fields are in [the `MySimpleDirectedGraphModel` type](https://varnerlab.github.io/VLDataScienceMachineLearningPackage.jl/dev/types/#VLDataScienceMachineLearningPackage.MySimpleDirectedGraphModel)?"
   ]
  },
  {
   "cell_type": "code",
   "execution_count": 19,
   "id": "15222860",
   "metadata": {},
   "outputs": [
    {
     "data": {
      "text/plain": [
       "(:nodes, :edges, :children, :edgesinverse)"
      ]
     },
     "execution_count": 19,
     "metadata": {},
     "output_type": "execute_result"
    }
   ],
   "source": [
    "typeof(directedgraphmodel) |> m-> fieldnames(m)"
   ]
  },
  {
   "cell_type": "code",
   "execution_count": 20,
   "id": "00d8006e",
   "metadata": {},
   "outputs": [
    {
     "data": {
      "text/plain": [
       "Dict{Int64, MyGraphNodeModel} with 6 entries:\n",
       "  5 => MyGraphNodeModel(5, nothing)\n",
       "  4 => MyGraphNodeModel(4, nothing)\n",
       "  6 => MyGraphNodeModel(6, nothing)\n",
       "  2 => MyGraphNodeModel(2, nothing)\n",
       "  3 => MyGraphNodeModel(3, nothing)\n",
       "  1 => MyGraphNodeModel(1, nothing)"
      ]
     },
     "execution_count": 20,
     "metadata": {},
     "output_type": "execute_result"
    }
   ],
   "source": [
    "directedgraphmodel.nodes"
   ]
  },
  {
   "cell_type": "markdown",
   "id": "989155cd",
   "metadata": {},
   "source": [
    "### Check: Is our graph structure correct?\n",
    "We've build a simple test graph, with a known format, so we can do some unit tests to determine if various theoretical and implementation\n",
    "things about the graph, e.g., the connectivity, the number of edges, nodes, etc are correct.\n",
    "\n",
    "Let's use [the `@testset` macro](https://docs.julialang.org/en/v1.6/stdlib/Test/#Test.@testset) to group our various tests together, where each test will use [the `@test` macro](https://docs.julialang.org/en/v1.6/stdlib/Test/#Test.@test) to assert the expected behavior.\n",
    "\n",
    "Our test suite validates several key aspects of the graph construction and mathematical properties. First, we verify that the data structures are correctly instantiated as the expected types and that the graph has the anticipated size matching the visual diagram (6 nodes and 7 edges). We also check that the node identifiers are consecutive integers starting from 1, which is a common convention in graph representations.\n",
    "\n",
    "* __Test Consistency:__ The tests ensure consistency between different internal representations of the same graph data. We verify that the edge information stored in the `directedgraphmodel.edges` dictionary matches exactly with the edge data in our `myedgemodels` collection.\n",
    "* __Structural Integrity:__ We validate that all edge endpoints reference valid nodes that actually exist in the graph. We also test the consistency of the `children` field, which should contain exactly the set of target nodes for each source node based on the directed edges.\n",
    "* __Mathematical Validity:__ We apply basic graph-theoretic bounds to ensure the structure is mathematically valid. For a directed graph with $n$ nodes, we verify that our edge count $m$ satisfies $m \\leq n(n-1)$ and that the graph is non-empty with $m > 0$.\n",
    "\n",
    "Do we pass these tests?"
   ]
  },
  {
   "cell_type": "code",
   "execution_count": 22,
   "id": "d1cba0c4",
   "metadata": {},
   "outputs": [
    {
     "name": "stdout",
     "output_type": "stream",
     "text": [
      "✅ All graph structure validation tests passed!\n",
      "\u001b[0m\u001b[1mTest Summary:              | \u001b[22m\u001b[32m\u001b[1mPass  \u001b[22m\u001b[39m\u001b[36m\u001b[1mTotal  \u001b[22m\u001b[39m\u001b[0m\u001b[1mTime\u001b[22m\n",
      "Graph Structure Validation | \u001b[32m  28  \u001b[39m\u001b[36m   28  \u001b[39m\u001b[0m0.3s\n"
     ]
    }
   ],
   "source": [
    "let\n",
    "   \n",
    "    @testset verbose = true \"Graph Structure Validation\" begin\n",
    "        \n",
    "        # Test 1: Basic types and construction\n",
    "        @test isa(directedgraphmodel, MySimpleDirectedGraphModel)\n",
    "        @test isa(myedgemodels, Dict{Int64, MyGraphEdgeModel})\n",
    "        \n",
    "        # Test 2: Expected graph size (from visual inspection of the figure)\n",
    "        @test length(directedgraphmodel.nodes) == 6\n",
    "        @test length(myedgemodels) == 7\n",
    "        \n",
    "        # Test 3: Node IDs are consecutive integers starting from 1\n",
    "        node_ids = sort(collect(keys(directedgraphmodel.nodes)))\n",
    "        @test node_ids == [1, 2, 3, 4, 5, 6]\n",
    "        \n",
    "        # Test 4: Edge consistency - edges in directedgraphmodel.edges should match myedgemodels\n",
    "        edge_tuples_from_graph = Set(keys(directedgraphmodel.edges))\n",
    "        edge_tuples_from_models = Set((edge.source, edge.target) for edge in values(myedgemodels))\n",
    "        @test edge_tuples_from_graph == edge_tuples_from_models\n",
    "        \n",
    "        # Test 5: All edge endpoints exist as nodes\n",
    "        for edge in values(myedgemodels)\n",
    "            @test edge.source in keys(directedgraphmodel.nodes)\n",
    "            @test edge.target in keys(directedgraphmodel.nodes)\n",
    "        end\n",
    "        \n",
    "        # Test 6: Children field consistency with edges\n",
    "        for (node_id, children_set) in directedgraphmodel.children\n",
    "            # Children of node_id should be all targets where node_id is source\n",
    "            expected_children = Set(edge.target for edge in values(myedgemodels) if edge.source == node_id)\n",
    "            @test children_set == expected_children\n",
    "        end\n",
    "        \n",
    "        # Test 7: Basic graph property bounds\n",
    "        n = length(directedgraphmodel.nodes)\n",
    "        m = length(myedgemodels)\n",
    "        @test m ≤ n * (n - 1)  # Can't have more edges than maximum possible for directed graph\n",
    "        @test m > 0  # Should have at least one edge\n",
    "        \n",
    "        println(\"✅ All graph structure validation tests passed!\")\n",
    "    end;\n",
    "end;"
   ]
  },
  {
   "cell_type": "markdown",
   "id": "e9d12bab-e17b-47d0-83f1-b2db02b27dc9",
   "metadata": {},
   "source": [
    "Fill me about the Handshake lemma ... Describe the code below"
   ]
  },
  {
   "cell_type": "code",
   "execution_count": 64,
   "id": "5c485978-6b9f-4a38-83b7-f482cca5c1bc",
   "metadata": {},
   "outputs": [
    {
     "data": {
      "text/plain": [
       "([2, 3, 3, 3, 2, 1], 7)"
      ]
     },
     "execution_count": 64,
     "metadata": {},
     "output_type": "execute_result"
    }
   ],
   "source": [
    "degree_array, number_of_edges = let\n",
    "\n",
    "    # initialize -\n",
    "    number_of_edges = directedgraphmodel.edges |> length; # how many edges do we have?\n",
    "    number_of_nodes = directedgraphmodel.nodes |> length; # how many nodes do we have?\n",
    "    degree_array = Array{Int64,1}(undef, number_of_nodes); # allocate some space for the degrees\n",
    "\n",
    "    # fill the degree_array with zeros -\n",
    "    fill!(degree_array,0)\n",
    "\n",
    "    # compute the degree -\n",
    "    for i ∈ 1:number_of_nodes\n",
    "        for j ∈ 1:number_of_nodes\n",
    "            test_edge_coordinates = (i,j) # tuple\n",
    "            if (haskey(directedgraphmodel.edges, test_edge_coordinates) == true)\n",
    "                degree_array[i] += 1;\n",
    "                degree_array[j] += 1;\n",
    "            end\n",
    "        end\n",
    "    end\n",
    "\n",
    "    degree_array, number_of_edges;\n",
    "end"
   ]
  },
  {
   "cell_type": "markdown",
   "id": "27c1dc90-d4f3-484a-a7b7-65c0b413efd4",
   "metadata": {},
   "source": [
    "Test the handshake lemma: Describe test, link out the the @assert macro in Julia docs"
   ]
  },
  {
   "cell_type": "code",
   "execution_count": 68,
   "id": "672f79ba-e8f4-4933-bb8d-62363a91c9c9",
   "metadata": {},
   "outputs": [],
   "source": [
    "@assert sum(degree_array) == 2*number_of_edges"
   ]
  },
  {
   "cell_type": "markdown",
   "id": "a1f71cff-9d12-4ee9-a48e-6374c2c3f231",
   "metadata": {},
   "source": [
    "___"
   ]
  },
  {
   "cell_type": "markdown",
   "id": "654d5dc6",
   "metadata": {},
   "source": [
    "## Task 2: Depth First Search (DFS)\n",
    "In this task, you will implement the Depth First Search (DFS) algorithm to explore a graph. DFS is a fundamental recursive algorithm used for traversing or searching tree or graph data structures. The algorithm starts at a selected node and explores as far as possible along each branch before backtracking.\n",
    "\n",
    "We've implemented basic depth-first search traversal logic [in the `walk(...)` function](https://varnerlab.github.io/VLDataScienceMachineLearningPackage.jl/dev/graphs/#VLDataScienceMachineLearningPackage.walk). This function takes a graph (or tree model) and a starting node as input and returns an ordered list of all nodes visited during the traversal. There are two additional (optional) arguments:\n",
    "* __algorithm__: The `algorithm::AbstractGraphTraversalAlgorithm` argument allows you to specify which traversal algorithm to use (e.g., `DepthFirstSearchAlgorithm` or `BreadthFirstSearchAlgorithm`). If not provided, the `BreadthFirstSearchAlgorithm` algorithm will be used by default.\n",
    "* __verbose__: The `verbose::Bool` argument allows you to enable or disable verbose output during the traversal. If set to `true`, the function will print detailed information about the traversal process.\n",
    "\n",
    "Let's do a depth first traversal of the `directedgraphmodel::MySimpleDirectedGraphModel` starting from node `1`. We'll save the traversal order in a variable called `dfs_order::Array{Int64,1}`."
   ]
  },
  {
   "cell_type": "code",
   "execution_count": 24,
   "id": "ce7186c3",
   "metadata": {},
   "outputs": [
    {
     "name": "stdout",
     "output_type": "stream",
     "text": [
      "Visiting node: 1\n",
      "Visiting node: 2\n",
      "Visiting node: 4\n",
      "Visiting node: 6\n",
      "Visiting node: 3\n",
      "Visiting node: 5\n"
     ]
    }
   ],
   "source": [
    "dfs_order = let\n",
    "    \n",
    "    # initialize -\n",
    "    verbose = true; # let's print some output\n",
    "    startnode = directedgraphmodel.nodes[1]; # start at node 1\n",
    "    order = walk(directedgraphmodel, startnode, \n",
    "        algorithm = DepthFirstSearchAlgorithm(), verbose = verbose) # walk from startnode to all other possible nodes\n",
    "\n",
    "    order;\n",
    "end;"
   ]
  },
  {
   "cell_type": "markdown",
   "id": "0e5018fb",
   "metadata": {},
   "source": [
    "### Hmmm. This is a directed graph, can we get to every node?\n",
    "__No!__ In a directed graph, edges have a direction, meaning you can only traverse from one node to another if there is a directed edge pointing to the destination node. This can result in some nodes being unreachable from others, depending on the structure of the graph.\n",
    "\n",
    "Let's show this by selecting a different starting node and observing the traversal order, e.g., `startnode = 3`."
   ]
  },
  {
   "cell_type": "code",
   "execution_count": 26,
   "id": "289e871c",
   "metadata": {},
   "outputs": [
    {
     "name": "stdout",
     "output_type": "stream",
     "text": [
      "Visiting node: 3\n",
      "Visiting node: 5\n",
      "Visiting node: 4\n",
      "Visiting node: 6\n"
     ]
    }
   ],
   "source": [
    "let\n",
    "    \n",
    "    # initialize -\n",
    "    verbose = true; # let's print some output\n",
    "    startnode = directedgraphmodel.nodes[3]; # start at node 3\n",
    "    _ = walk(directedgraphmodel, startnode, \n",
    "        algorithm = DepthFirstSearchAlgorithm(), verbose = verbose) # walk from startnode to all other possible nodes\n",
    "end;"
   ]
  },
  {
   "cell_type": "markdown",
   "id": "bb6c2886",
   "metadata": {},
   "source": [
    "__No!__ When we start at node `3` in our test graph, we can see that the traversal is limited to the nodes that are reachable from `3`. This highlights the nature of directed graphs, where the direction of edges determines the accessibility of nodes.\n",
    "___"
   ]
  },
  {
   "cell_type": "markdown",
   "id": "1efab126",
   "metadata": {},
   "source": [
    "## Task 3: Breadth First Search (BFS)\n",
    "In this task, we'll compute the breadth-first traversal order of the directed graph starting from a specified node. We'll use the `BreadthFirstSearchAlgorithm` to explore the graph level by level.\n",
    "\n",
    "We'll start by selecting a node to begin our search. For this example, let's choose node `1` (the same as our original DFS search). We'll save the traversal order in a variable called `bfs_order::Array{Int64,1}`.\n"
   ]
  },
  {
   "cell_type": "code",
   "execution_count": 29,
   "id": "8669eaa5",
   "metadata": {},
   "outputs": [
    {
     "name": "stdout",
     "output_type": "stream",
     "text": [
      "Visiting node: 1. My Queue: Queue{Int64}(Deque [Int64[]])\n",
      "Visiting node: 2. My Queue: Queue{Int64}(Deque [[3]])\n",
      "Visiting node: 3. My Queue: Queue{Int64}(Deque [[4, 3]])\n",
      "Visiting node: 4. My Queue: Queue{Int64}(Deque [[3, 5]])\n",
      "Visiting node: 5. My Queue: Queue{Int64}(Deque [[6]])\n",
      "Visiting node: 6. My Queue: Queue{Int64}(Deque [Int64[]])\n"
     ]
    }
   ],
   "source": [
    "bfs_order = let\n",
    "    \n",
    "    # initialize -\n",
    "    verbose = true; # let's print some output\n",
    "    startnode = directedgraphmodel.nodes[1]; # start at node 1\n",
    "    order = walk(directedgraphmodel, startnode, \n",
    "        algorithm = BreadthFirstSearchAlgorithm(), verbose = verbose) # walk from startnode to all other nodes\n",
    "\n",
    "    order;\n",
    "end;"
   ]
  },
  {
   "cell_type": "markdown",
   "id": "c6f38be9",
   "metadata": {},
   "source": [
    "Interesting! The order is different than the DFS traversal order. This is expected, as BFS explores all neighbors at the present depth prior to moving on to nodes at the next depth level, while DFS explores as far as possible along each branch before backtracking.\n",
    "\n",
    "Ok, great! Can we get to every node in the graph using BFS?"
   ]
  },
  {
   "cell_type": "code",
   "execution_count": 31,
   "id": "aaeac093",
   "metadata": {},
   "outputs": [
    {
     "name": "stdout",
     "output_type": "stream",
     "text": [
      "Visiting node: 3\n",
      "Visiting node: 5\n",
      "Visiting node: 4\n",
      "Visiting node: 6\n"
     ]
    }
   ],
   "source": [
    "let\n",
    "    \n",
    "    # initialize -\n",
    "    verbose = true; # let's print some output\n",
    "    startnode = directedgraphmodel.nodes[3]; # start at node 3\n",
    "    _ = walk(directedgraphmodel, startnode, \n",
    "        algorithm = DepthFirstSearchAlgorithm(), verbose = verbose) # walk from startnode to all other possible nodes\n",
    "end;"
   ]
  },
  {
   "cell_type": "markdown",
   "id": "f738ba74",
   "metadata": {},
   "source": [
    "## Summary\n",
    "In this notebook, we explored the concepts of Breadth-First Search (BFS) and Depth-First Search (DFS) algorithms on a directed graph. We implemented both algorithms to traverse the graph and compared their behavior and output.\n",
    "\n",
    "`Unhide` the code block below to see how make a table that summarizes the paths taken by both algorithms.\n",
    "> __Summary:__ For a general graph, the paths taken by depth-first and breadth-first traversal will __not__ be equal. However, given the same starting node and graph structure, the two algorithms may produce the same path in certain cases, particularly in simple or linear graphs. Thus, both approaches will also always visit the same set of reachable nodes, ensuring that all reachable nodes are explored, albeit it may be in a different order.\n",
    "\n",
    "__So why do we care about the differences between DFS and BFS?__ These traversal algorithms are foundational in the sense that we build things from them. They have different use cases and performance characteristics. DFS is often more memory-efficient, while BFS is better suited for finding the shortest path in unweighted graphs, as it explores all neighbors at the present depth prior to moving on to nodes at the next depth level.\n",
    "\n",
    "__DFS versus BFS__? Choose DFS for deep structure exploration (cycle detection, topological sorting) or when memory is limited in tree-like graphs, as it uses $O(h)$ space versus BFS's $O(b)$ space where $h$ is depth and $b$ is maximum nodes per level. Choose BFS when you need shortest paths in unweighted graphs or when targets are likely close to the starting node."
   ]
  },
  {
   "cell_type": "code",
   "execution_count": 33,
   "id": "357d03c5",
   "metadata": {},
   "outputs": [
    {
     "name": "stdout",
     "output_type": "stream",
     "text": [
      "======== =================== =================== ========\n",
      " \u001b[1m  path \u001b[0m \u001b[1m           dfspath \u001b[0m \u001b[1m           bfspath \u001b[0m \u001b[1m equal \u001b[0m\n",
      " \u001b[90m Int64 \u001b[0m \u001b[90m            String \u001b[0m \u001b[90m            String \u001b[0m \u001b[90m  Bool \u001b[0m\n",
      "======== =================== =================== ========\n",
      "      1   node 1 ->  node 2   node 1 ->  node 2    true\n",
      "      2   node 2 ->  node 4   node 2 ->  node 3   false\n",
      "      3   node 4 ->  node 6   node 3 ->  node 4   false\n",
      "      4   node 6 ->  node 3   node 4 ->  node 5   false\n",
      "      5   node 3 ->  node 5   node 5 ->  node 6   false\n",
      "======== =================== =================== ========\n"
     ]
    }
   ],
   "source": [
    "let\n",
    "\n",
    "    # initialize -\n",
    "    df = DataFrame();\n",
    "    number_of_nodes = length(directedgraphmodel.nodes);\n",
    "\n",
    "    for i ∈ 2:number_of_nodes\n",
    "        \n",
    "        # dfs -\n",
    "        s = dfs_order[i-1];\n",
    "        t = dfs_order[i];\n",
    "        dfs_path = \"node $(s) ->  node $(t)\"\n",
    "        \n",
    "        # bfs -\n",
    "        s = bfs_order[i-1];\n",
    "        t = bfs_order[i];\n",
    "        bfs_path = \"node $(s) ->  node $(t)\"\n",
    "\n",
    "        row_data = (\n",
    "            path = i - 1,\n",
    "            dfspath = dfs_path,\n",
    "            bfspath = bfs_path,\n",
    "            equal = (dfs_path == bfs_path) ? true : false\n",
    "        );\n",
    "        \n",
    "        push!(df, row_data);\n",
    "    end\n",
    "\n",
    "    # make a table -\n",
    "    pretty_table(df, backend = :text, \n",
    "        table_format = TextTableFormat(borders = text_table_borders__simple))\n",
    "\n",
    "end"
   ]
  }
 ],
 "metadata": {
  "kernelspec": {
   "display_name": "Julia 1.11.6",
   "language": "julia",
   "name": "julia-1.11"
  },
  "language_info": {
   "file_extension": ".jl",
   "mimetype": "application/julia",
   "name": "julia",
   "version": "1.11.6"
  }
 },
 "nbformat": 4,
 "nbformat_minor": 5
}
