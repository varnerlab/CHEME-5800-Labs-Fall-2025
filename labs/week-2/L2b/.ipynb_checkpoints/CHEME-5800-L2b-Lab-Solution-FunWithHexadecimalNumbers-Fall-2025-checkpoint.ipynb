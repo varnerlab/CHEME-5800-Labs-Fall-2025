{
 "cells": [
  {
   "cell_type": "markdown",
   "id": "fa33aeba-6532-4d1a-98b7-e35fb576dc62",
   "metadata": {},
   "source": [
    "# L2b: Fun With Base 16 Numbers\n",
    "As scientists and engineers, we often encounter situations where the most critical numbering systems for data science and machine learning applications are not floating-point numbers, but rather base-$b$ integers. This might seem surprising, but it's true!\n",
    "\n",
    "Base-$b$ integers are used in many often overlooked but critical applications. In this lab, we'll explore one such application: the mathematical encoding of text.\n",
    "* __Backstory__: Computers don't see text the way humans do—as collections of strings, emojis, and punctuation. Instead, computers process text as sequences of binary bits. Each character in text must be mapped to a unique integer (a sequence of binary bits). Since it's difficult for humans to work with long binary sequences, we express these integers using positional notation in various bases, making text just another type of numerical sequence.\n",
    "* __Why base $b$?__ Aren't base-10 numbers sufficient? While base-10 works, Unicode code points can be up to 4 bytes (32 bits) long. Working with 32-digit binary numbers is cumbersome, so we use other bases like hexadecimal (base 16) to create more compact, human-readable representations that can still be efficiently decoded back into the original characters.\n",
    "\n",
    "Let's start at the beginning.\n",
    "* Traditionally, characters were represented using [the ASCII system](https://en.wikipedia.org/wiki/ASCII). [Standard (7-bit) ASCII](https://www.ascii-code.com/ASCII) uses 7 bits of storage and defines 128 character codes numbered 0 through 127 (each character is mapped to a number ranging from 0 to 127). [Extended (8-bit) ASCII variants](https://www.ascii-code.com) use 8 bits and define 256 values numbered 0 to 255. But is 255 characters enough?\n",
    "* No! Modern encodings, such as [Unicode encodings like UTF-8 or UTF-16](https://en.wikipedia.org/wiki/Unicode), represent a much wider range of characters and symbols.\n",
    "\n",
    "In this lab, we'll explore the numerical basis of text, starting with the [7-bit ASCII system](https://en.wikipedia.org/wiki/ASCII) and progressing to [Unicode encodings like UTF-8 or UTF-16](https://en.wikipedia.org/wiki/Unicode). \n",
    "\n",
    "___"
   ]
  },
  {
   "cell_type": "markdown",
   "id": "f062005e-1489-48e9-b6f2-bac22f3e2a68",
   "metadata": {},
   "source": [
    "## Setup, Data, and Prerequisites\n",
    "We set up the computational environment by including the `Include.jl` file and loading any needed resources.\n",
    "\n",
    "> __Include__: The [include command](https://docs.julialang.org/en/v1/base/base/#include) evaluates the contents of the input source file, `Include.jl`, in the notebook's global scope. The `Include.jl` file sets paths, loads required external packages, etc. For additional information on functions and types used in this material, see the [Julia programming language documentation](https://docs.julialang.org/en/v1/)\n",
    "\n",
    "Let's setup the computational environment."
   ]
  },
  {
   "cell_type": "code",
   "execution_count": 1,
   "id": "7a7f1c1f-2350-4cd8-85e4-44662a0497c2",
   "metadata": {},
   "outputs": [],
   "source": [
    "include(joinpath(@__DIR__, \"Include.jl\")); # what is this doing?"
   ]
  },
  {
   "cell_type": "markdown",
   "id": "ba04a170",
   "metadata": {},
   "source": [
    "In addition to standard Julia libraries, we'll also use [the `VLDataScienceMachineLearningPackage.jl` package](https://github.com/varnerlab/VLDataScienceMachineLearningPackage.jl), check out [the documentation](https://varnerlab.github.io/VLDataScienceMachineLearningPackage.jl/dev/) for more information on the functions, types and data used in this material. \n",
    "\n",
    "___"
   ]
  },
  {
   "cell_type": "markdown",
   "id": "f4624e7a-442c-48d7-8d10-88d17d153d45",
   "metadata": {},
   "source": [
    "##  Task 1: Explore the ASCII Character Set\n",
    "Let's start by considering the representation of the characters in the 7-bit ASCII character system. \n",
    "\n",
    "> __Fun fact__: While 7-bit ASCII has been replaced a long time ago, it still lives on in the modern [Unicode system](https://en.wikipedia.org/wiki/Unicode). The original ASCII characters are encoded as the first 128 characters (`0`$\\rightarrow$`127`) in [the Unicode system](https://en.wikipedia.org/wiki/Unicode).\n",
    "\n",
    "Let's start by building the `ascii_char_dictionary::Dict{Int64, Char}` dictionary, which is a mapping between the ASCII character index (an integer) and the character value, which [is type `c::Char` in Julia](https://docs.julialang.org/en/v1/base/strings/#Core.Char).\n",
    "\n",
    "> __Caution:__ This logic involves some advanced tools and techniques we have yet to discuss. You can skip the implementation details for now; we'll come back to them later. However, there is one interesting method, namely [the `convert(...)` method](https://docs.julialang.org/en/v1/base/base/#Base.convert). This is a direct way to convert between the characters that you and I see and the integers that the computer understands.\n",
    "\n",
    "What do we see?"
   ]
  },
  {
   "cell_type": "code",
   "execution_count": 2,
   "id": "87dc114b-c11b-4eed-997b-3c2b39b14c3a",
   "metadata": {},
   "outputs": [
    {
     "data": {
      "text/plain": [
       "Dict{Int64, Char} with 128 entries:\n",
       "  5   => '\\x05'\n",
       "  56  => '8'\n",
       "  35  => '#'\n",
       "  55  => '7'\n",
       "  110 => 'n'\n",
       "  114 => 'r'\n",
       "  123 => '{'\n",
       "  60  => '<'\n",
       "  30  => '\\x1e'\n",
       "  32  => ' '\n",
       "  6   => '\\x06'\n",
       "  67  => 'C'\n",
       "  45  => '-'\n",
       "  117 => 'u'\n",
       "  73  => 'I'\n",
       "  115 => 's'\n",
       "  112 => 'p'\n",
       "  64  => '@'\n",
       "  90  => 'Z'\n",
       "  ⋮   => ⋮"
      ]
     },
     "metadata": {},
     "output_type": "display_data"
    }
   ],
   "source": [
    "ascii_char_dictionary = let\n",
    "\n",
    "    # initialize -\n",
    "    ascii_char_dictionary = Dict{Int64, Char}(); # storage for index - character map\n",
    "    ASCII_character_range = range(0,stop=127,step=1) |> collect; # 7-bit ASCII indexes\n",
    "\n",
    "    # main loop -\n",
    "    for i ∈ eachindex(ASCII_character_range)\n",
    "        my_ascii_char_index = ASCII_character_range[i];\n",
    "        c = convert(Char, my_ascii_char_index) # hmmm. This is an interesting function.\n",
    "        ascii_char_dictionary[my_ascii_char_index] = c;\n",
    "    end\n",
    "    ascii_char_dictionary;\n",
    "end"
   ]
  },
  {
   "cell_type": "markdown",
   "id": "9fe3a5a1-ad4d-4bb5-bf23-fbd02a5fdf1d",
   "metadata": {},
   "source": [
    "`Unhide` the code block to see how we build a table of the ASCII characters using [the `pretty_table(...)` function exported by the PrettyTables.jl package](https://github.com/ronisbr/PrettyTables.jl). Let's look at what the `ASCII` characters are. \n",
    "> __Caution:__ This logic involves some advanced tools and techniques we have yet to discuss. You can skip the implementation details for now; we'll come back to them later. TLDR: We build the rows in the table using a [`for-loop`](https://docs.julialang.org/en/v1/base/base/#for) and [the `convert(...)` function](https://docs.julialang.org/en/v1/base/base/#Base.convert), where we push the data for a row into a [DataFrame](https://dataframes.juliadata.org/stable/), and then display the data by [calling the `pretty_table(...)` method](https://github.com/ronisbr/PrettyTables.jl).\n",
    "\n",
    "So what do we see?"
   ]
  },
  {
   "cell_type": "code",
   "execution_count": 3,
   "id": "ebc6b560-ac36-4d9b-803f-05f0f9be3e0b",
   "metadata": {},
   "outputs": [
    {
     "name": "stdout",
     "output_type": "stream",
     "text": [
      "======== ============\n",
      " \u001b[1m     i \u001b[0m \u001b[1m character \u001b[0m\n",
      " \u001b[90m Int64 \u001b[0m \u001b[90m      Char \u001b[0m\n",
      "======== ============\n",
      "      0          \\0\n",
      "      1        \\x01\n",
      "      2        \\x02\n",
      "      3        \\x03\n",
      "      4        \\x04\n",
      "      5        \\x05\n",
      "      6        \\x06\n",
      "      7          \\a\n",
      "      8          \\b\n",
      "      9          \\t\n",
      "     10          \\n\n",
      "     11          \\v\n",
      "     12          \\f\n",
      "     13          \\r\n",
      "     14        \\x0e\n",
      "     15        \\x0f\n",
      "     16        \\x10\n",
      "     17        \\x11\n",
      "     18        \\x12\n",
      "     19        \\x13\n",
      "     20        \\x14\n",
      "     21        \\x15\n",
      "     22        \\x16\n",
      "     23        \\x17\n",
      "     24        \\x18\n",
      "     25        \\x19\n",
      "     26        \\x1a\n",
      "     27          \\e\n",
      "     28        \\x1c\n",
      "     29        \\x1d\n",
      "     30        \\x1e\n",
      "     31        \\x1f\n",
      "     32\n",
      "     33           !\n",
      "     34           \"\n",
      "     35           #\n",
      "     36           $\n",
      "     37           %\n",
      "     38           &\n",
      "     39           '\n",
      "     40           (\n",
      "     41           )\n",
      "     42           *\n",
      "     43           +\n",
      "     44           ,\n",
      "     45           -\n",
      "     46           .\n",
      "     47           /\n",
      "     48           0\n",
      "     49           1\n",
      "     50           2\n",
      "     51           3\n",
      "     52           4\n",
      "     53           5\n",
      "     54           6\n",
      "     55           7\n",
      "     56           8\n",
      "     57           9\n",
      "     58           :\n",
      "     59           ;\n",
      "     60           <\n",
      "     61           =\n",
      "     62           >\n",
      "     63           ?\n",
      "     64           @\n",
      "     65           A\n",
      "     66           B\n",
      "     67           C\n",
      "     68           D\n",
      "     69           E\n",
      "     70           F\n",
      "     71           G\n",
      "     72           H\n",
      "     73           I\n",
      "     74           J\n",
      "     75           K\n",
      "     76           L\n",
      "     77           M\n",
      "     78           N\n",
      "     79           O\n",
      "     80           P\n",
      "     81           Q\n",
      "     82           R\n",
      "     83           S\n",
      "     84           T\n",
      "     85           U\n",
      "     86           V\n",
      "     87           W\n",
      "     88           X\n",
      "     89           Y\n",
      "     90           Z\n",
      "     91           [\n",
      "     92          \\\\\n",
      "     93           ]\n",
      "     94           ^\n",
      "     95           _\n",
      "     96           `\n",
      "     97           a\n",
      "     98           b\n",
      "     99           c\n",
      "    100           d\n",
      "    101           e\n",
      "    102           f\n",
      "    103           g\n",
      "    104           h\n",
      "    105           i\n",
      "    106           j\n",
      "    107           k\n",
      "    108           l\n",
      "    109           m\n",
      "    110           n\n",
      "    111           o\n",
      "    112           p\n",
      "    113           q\n",
      "    114           r\n",
      "    115           s\n",
      "    116           t\n",
      "    117           u\n",
      "    118           v\n",
      "    119           w\n",
      "    120           x\n",
      "    121           y\n",
      "    122           z\n",
      "    123           {\n",
      "    124           |\n",
      "    125           }\n",
      "    126           ~\n",
      "    127        \\x7f\n",
      "======== ============\n"
     ]
    }
   ],
   "source": [
    "let\n",
    "    ASCII_index_array = keys(ascii_char_dictionary) |> collect |> sort;\n",
    "    character_table_df = DataFrame();\n",
    "    for i ∈ eachindex(ASCII_index_array)\n",
    "        my_ascii_char_index = ASCII_index_array[i];\n",
    "        c = ascii_char_dictionary[my_ascii_char_index];\n",
    "\n",
    "        row = (\n",
    "            i = my_ascii_char_index,\n",
    "            character = c\n",
    "        ); # -> what is going on here? This is a cool type called a NamedTuple ...\n",
    "        push!(character_table_df,row); # push! -> what is going on here?\n",
    "    end\n",
    "    pretty_table(character_table_df, tf=tf_simple)\n",
    "end"
   ]
  },
  {
   "cell_type": "markdown",
   "id": "e42738ab-4a53-4532-ba4a-2c34570f54be",
   "metadata": {},
   "source": [
    "In the code block above, we explicitly called [the `convert(...)` method](https://docs.julialang.org/en/v1/manual/conversion-and-promotion/) to convert an [`Int`](https://docs.julialang.org/en/v1/manual/integers-and-floating-point-numbers/#Integers) to a [`Char` type](https://docs.julialang.org/en/v1/base/strings/#Core.Char). However, this was unnecessary, as Julia (and most modern languages) will automatically try to understand what you type (and do conversions for you if it can). For example:"
   ]
  },
  {
   "cell_type": "code",
   "execution_count": 4,
   "id": "547b246c-cea1-4702-9af6-eddd7abb50c4",
   "metadata": {},
   "outputs": [
    {
     "data": {
      "text/plain": [
       "99"
      ]
     },
     "metadata": {},
     "output_type": "display_data"
    }
   ],
   "source": [
    "'c' |> Int # wow. This seems a little magical. What is going on here?? (notice the single quotes), pick a different char?"
   ]
  },
  {
   "cell_type": "code",
   "execution_count": 5,
   "id": "23242f6c-a78f-491d-84b0-c813720b1240",
   "metadata": {},
   "outputs": [
    {
     "data": {
      "text/plain": [
       "99"
      ]
     },
     "metadata": {},
     "output_type": "display_data"
    }
   ],
   "source": [
    "Int('c') # Unpack the |> We can convert between ASCII characters and Int! "
   ]
  },
  {
   "cell_type": "code",
   "execution_count": 6,
   "id": "7181554a-bac0-47da-8d59-c34904a09912",
   "metadata": {},
   "outputs": [
    {
     "data": {
      "text/plain": [
       "'c': ASCII/Unicode U+0063 (category Ll: Letter, lowercase)"
      ]
     },
     "metadata": {},
     "output_type": "display_data"
    }
   ],
   "source": [
    "Char(99)"
   ]
  },
  {
   "cell_type": "markdown",
   "id": "5b8b967d-03a2-4a21-ade6-6e9211c63b89",
   "metadata": {},
   "source": [
    "### Limitations of ASCII\n",
    "Wow! ASCII seems pretty cool. It only uses 7 bits (which is super simple) to encode 128 characters (numbers, small and capital letters, some math symbols, etc). Why would we ever need anything beyond these 127 characters? As it turns out, there are many reasons. \n",
    "\n",
    "Let's look at three:\n",
    "* The original 7-bit ASCII was limited to 128 characters (0–127), so it couldn’t represent characters beyond basic English letters, digits, punctuation, and control codes.\n",
    "* The original 7-bit ASCII character set offered no native support for accented or non-Latin characters (e.g., Cyrillic, Greek, and Arabic), hindering internationalization. It only represented English.\n",
    "* The original 7-bit ASCII character set omitted modern typographic symbols, mathematical glyphs, and emojis, making it inadequate for rich text or graphical communication. For example, it can't be used to represent rich mathematical text. Bummer!\n",
    "\n",
    "These limitations, and others, led to the development of [the Unicode system](https://en.wikipedia.org/wiki/Unicode)."
   ]
  },
  {
   "cell_type": "markdown",
   "id": "1c025386-0c1d-4976-99f0-948611d62bba",
   "metadata": {},
   "source": [
    "## Task 2: Explore the Unicode Character Set\n",
    "Unlike the original 7-bit ASCII character set, which has only 128 characters, the modern [Unicode system](https://en.wikipedia.org/wiki/Unicode) _can encode_ 1,114,112 possible characters (code points). However, as of [Unicode Standard version 16.0 (released September 10, 2024)](https://www.unicode.org/versions/Unicode16.0.0/), only 154,998 of those possible code points are assigned to unique characters; various characters in many languages, a much larger family of mathematical symbols, and [emoji](https://en.wikipedia.org/wiki/Emoji) of all sorts are currently assigned. There is plenty of room to grow!\n",
    "\n",
    "Technical:\n",
    "* The [Unicode system](https://en.wikipedia.org/wiki/Unicode) uses up to 4 bytes (32 bits) of storage per character, and indexes characters using a base $b =16$ (hexadecimal) numbering system. Hexadecimal numbers are used as a convenience; they are much shorter than their binary equivalents and, thus, are easier for us to read and write than long sequences of 0s and 1s. While Unicode code points are ultimately stored as binary values, hexadecimal provides a direct and convenient way for us (humans) to represent these values.\n",
    "* Julia has [built-in Unicode support in the standard library](https://docs.julialang.org/en/v1/stdlib/Unicode/#Unicode); thus, we can work with these characters in our programs. For more information on the specific Unicode primitives supported by Julia, check out the [Julia documentation](https://docs.julialang.org/en/v1/manual/unicode-input/).\n",
    "\n",
    "Let's do some math with emojis (for fun):"
   ]
  },
  {
   "cell_type": "code",
   "execution_count": 7,
   "id": "a03a02b2-663a-41be-ac6b-56eaf71c997a",
   "metadata": {},
   "outputs": [],
   "source": [
    "🌽 = 16; # corn = 16 \\:corn: then tab\n",
    "🍣 = 4; # sushi = 4 \\:sushi: then tab"
   ]
  },
  {
   "cell_type": "markdown",
   "id": "510d8ca5-f66f-40b2-ac77-e53d0206de52",
   "metadata": {},
   "source": [
    "We can perform operations with these emoji variables:"
   ]
  },
  {
   "cell_type": "code",
   "execution_count": 8,
   "id": "5cb91536-6e55-423d-90e3-1998fb0be905",
   "metadata": {},
   "outputs": [
    {
     "data": {
      "text/plain": [
       "20"
      ]
     },
     "metadata": {},
     "output_type": "display_data"
    }
   ],
   "source": [
    "🌽 + 🍣  # addition?"
   ]
  },
  {
   "cell_type": "code",
   "execution_count": 9,
   "id": "683c684e-e209-4b4a-b080-d26db63807bf",
   "metadata": {},
   "outputs": [
    {
     "data": {
      "text/plain": [
       "64"
      ]
     },
     "metadata": {},
     "output_type": "display_data"
    }
   ],
   "source": [
    "(🌽 * 🍣) # multiplication?"
   ]
  },
  {
   "cell_type": "markdown",
   "id": "35fd7735-0678-4e21-a2b0-2af9d289f5b2",
   "metadata": {},
   "source": [
    "We can also perform logical comparisons. Because Julia has built-in Unicode support, we can use Unicode mathematical symbols to write functional code that resembles standard mathematical notation.\n",
    "* For example, consider `🌽 = 16` and `🍣 = 4`. We know that $🌽\\geq{🍣}$ should return `true.` Let's write the `greater than or equal to` check using Unicode characters:"
   ]
  },
  {
   "cell_type": "code",
   "execution_count": 10,
   "id": "ff324478-6932-4254-9499-cdd82d700a79",
   "metadata": {},
   "outputs": [
    {
     "data": {
      "text/plain": [
       "true"
      ]
     },
     "metadata": {},
     "output_type": "display_data"
    }
   ],
   "source": [
    "🌽 ≥ 🍣 # logical comparison? (\\geq then tab)"
   ]
  },
  {
   "cell_type": "markdown",
   "id": "b7951951-d663-467a-88d0-fc5ee0726ee3",
   "metadata": {},
   "source": [
    "We can also determine whether an item is in the given collection. For example, assume we have the character set $\\mathbb{C} \\equiv \\left\\{A,B,Q,R,S\\right\\}$. Let's write an expression to check if $c\\in\\mathbb{C}$, where $\\in$ denotes the `element of` operation, and `c` is some (test) character. \n",
    "\n",
    "> Use the [Set data structure](https://docs.julialang.org/en/v1/base/collections/#Base.Set) to do this example. [`Set` is a collection type](https://docs.julialang.org/en/v1/base/collections/#Base.Set) (included in most modern languages) that holds items; sets are `unique` but do not maintain order.\n",
    "\n",
    "Specify the set $\\mathbb{C}$:"
   ]
  },
  {
   "cell_type": "code",
   "execution_count": 11,
   "id": "2c89cf43-4513-4865-a647-d5bb3b59f1a3",
   "metadata": {},
   "outputs": [
    {
     "data": {
      "text/plain": [
       "Set{Char} with 5 elements:\n",
       "  'A'\n",
       "  'R'\n",
       "  'S'\n",
       "  'Q'\n",
       "  'B'"
      ]
     },
     "metadata": {},
     "output_type": "display_data"
    }
   ],
   "source": [
    "C = let\n",
    "    C = Set{Char}(); # empty set with Char types\n",
    "    push!(C,'A'); # add a `A` to set C \n",
    "    push!(C,'B'); # ... `B` ...\n",
    "    push!(C,'Q'); # ... `Q` ...\n",
    "    push!(C,'R'); # ... `R` ...\n",
    "    push!(C,'S'); # ... `S` ...\n",
    "\n",
    "    C # return\n",
    "end"
   ]
  },
  {
   "cell_type": "markdown",
   "id": "ddd1baf3-a4a9-4adf-a1be-4e76a268e588",
   "metadata": {},
   "source": [
    "Specify the test character `c`:"
   ]
  },
  {
   "cell_type": "code",
   "execution_count": 12,
   "id": "9408408d-f749-4892-8b4e-2cf738b0fe7c",
   "metadata": {},
   "outputs": [],
   "source": [
    "c = 🌽; # Do we have corn in the set ℂ?"
   ]
  },
  {
   "cell_type": "markdown",
   "id": "8774e5e1-31b1-4ea1-a9a6-17c67eda5d7a",
   "metadata": {},
   "source": [
    "Check if $c\\in\\mathbb{C}$:"
   ]
  },
  {
   "cell_type": "code",
   "execution_count": 13,
   "id": "df3d0ea3-cd31-4a67-9fef-eb7d7feedca1",
   "metadata": {},
   "outputs": [
    {
     "data": {
      "text/plain": [
       "false"
      ]
     },
     "metadata": {},
     "output_type": "display_data"
    }
   ],
   "source": [
    "c ∈ C # ∈ => \\in then tab"
   ]
  },
  {
   "cell_type": "markdown",
   "id": "9ab8cd61-c9ec-4895-8618-beeda7759514",
   "metadata": {},
   "source": [
    "The Unicode character set is extensive and powerful, and Julia's support for Unicode is quite advanced. But how are these characters related to base-16 numbers? Let's explore this connection next."
   ]
  },
  {
   "cell_type": "markdown",
   "id": "f7dee738-488f-4e84-b8f1-095904b6918f",
   "metadata": {},
   "source": [
    "## Task 3: A deeper dive into Unicode Strings and Codepoints\n",
    "The built-in [Julia `String` type](https://docs.julialang.org/en/v1/base/strings/) is similar (in some ways) to the traditional text model in languages like [C](https://en.wikipedia.org/wiki/C_(programming_language)), namely, the [`String` type](https://docs.julialang.org/en/v1/base/strings/) is an ordered collection (array) of `Char` types. However, the models for the characters are more complicated.\n",
    "\n",
    "Let's play around with a `test_string_ascii::String`:"
   ]
  },
  {
   "cell_type": "code",
   "execution_count": 14,
   "id": "d53ca76b-3ad0-4a44-8864-251a2f768bf5",
   "metadata": {},
   "outputs": [],
   "source": [
    "test_string_ascii = \"Test String in Julia (notice the double quotes). Python uses both single and double quotes for Strings. 😒\";"
   ]
  },
  {
   "cell_type": "markdown",
   "id": "937b7784-afcf-43b5-8eec-0d10a7b13dd6",
   "metadata": {},
   "source": [
    "We convert `test_string_ascii::String` to an `Array{Char,1}` collection using [the `collect(...)` method](https://docs.julialang.org/en/v1/base/collections/#Base.collect-Tuple%7BAny%7D). Each character has a `U+xxxx` type code associated with it. That is a base 16 Unicode code point!\n",
    "> __What?!?__ In a `U+xxxx` unicode code point, `U+` is followed by a four- or six-digit hexadecimal number `xx..x` uniquely identifying a character in the Unicode standard. However, (really) the `U+xxxx` points are just integers! Thus, we should be able to interconvert between the `U+xxxx` and integer representations.\n",
    "\n",
    "Let's check that out!"
   ]
  },
  {
   "cell_type": "code",
   "execution_count": 15,
   "id": "ebb383e8-a75d-4570-ae18-6f5f69d7d931",
   "metadata": {},
   "outputs": [
    {
     "data": {
      "text/plain": [
       "105-element Vector{Char}:\n",
       " 'T': ASCII/Unicode U+0054 (category Lu: Letter, uppercase)\n",
       " 'e': ASCII/Unicode U+0065 (category Ll: Letter, lowercase)\n",
       " 's': ASCII/Unicode U+0073 (category Ll: Letter, lowercase)\n",
       " 't': ASCII/Unicode U+0074 (category Ll: Letter, lowercase)\n",
       " ' ': ASCII/Unicode U+0020 (category Zs: Separator, space)\n",
       " 'S': ASCII/Unicode U+0053 (category Lu: Letter, uppercase)\n",
       " 't': ASCII/Unicode U+0074 (category Ll: Letter, lowercase)\n",
       " 'r': ASCII/Unicode U+0072 (category Ll: Letter, lowercase)\n",
       " 'i': ASCII/Unicode U+0069 (category Ll: Letter, lowercase)\n",
       " 'n': ASCII/Unicode U+006E (category Ll: Letter, lowercase)\n",
       " ⋮\n",
       " 't': ASCII/Unicode U+0074 (category Ll: Letter, lowercase)\n",
       " 'r': ASCII/Unicode U+0072 (category Ll: Letter, lowercase)\n",
       " 'i': ASCII/Unicode U+0069 (category Ll: Letter, lowercase)\n",
       " 'n': ASCII/Unicode U+006E (category Ll: Letter, lowercase)\n",
       " 'g': ASCII/Unicode U+0067 (category Ll: Letter, lowercase)\n",
       " 's': ASCII/Unicode U+0073 (category Ll: Letter, lowercase)\n",
       " '.': ASCII/Unicode U+002E (category Po: Punctuation, other)\n",
       " ' ': ASCII/Unicode U+0020 (category Zs: Separator, space)\n",
       " '😒': Unicode U+1F612 (category So: Symbol, other)"
      ]
     },
     "metadata": {},
     "output_type": "display_data"
    }
   ],
   "source": [
    "character_array_test_string_ascii = test_string_ascii |> collect"
   ]
  },
  {
   "cell_type": "markdown",
   "id": "0ff720d9-2808-495e-8ab2-394b90586837",
   "metadata": {},
   "source": [
    "### How do we calculate a codepoint?\n",
    "First, let's try to compute a codepoint (index) for an example Unicode character. Consider `🍣`, which equals `U+1F363`. Let's store a test character in the `test_unicode_char::Char` variable:"
   ]
  },
  {
   "cell_type": "code",
   "execution_count": 16,
   "id": "2c66de3e-fade-4669-bda0-4abbc832ce50",
   "metadata": {},
   "outputs": [
    {
     "data": {
      "text/plain": [
       "'🍣': Unicode U+1F363 (category So: Symbol, other)"
      ]
     },
     "metadata": {},
     "output_type": "display_data"
    }
   ],
   "source": [
    "test_unicode_char = '🍣' # want to select another Unicode character?"
   ]
  },
  {
   "cell_type": "markdown",
   "id": "1cb5e957-554d-4369-94f5-7abf99ca0b21",
   "metadata": {},
   "source": [
    "We can compute the `base 10` index for a Unicode character by calling [the `Unicode.julia_chartransform(...)` method](https://docs.julialang.org/en/v1/stdlib/Unicode/#Unicode.julia_chartransform) and then converting that value to an `Int.` What is the base 10 value for the `test_unicode_char::Char`?"
   ]
  },
  {
   "cell_type": "code",
   "execution_count": 17,
   "id": "fb0d6a24-f603-4476-896c-224f55ee44a2",
   "metadata": {},
   "outputs": [
    {
     "data": {
      "text/plain": [
       "127843"
      ]
     },
     "metadata": {},
     "output_type": "display_data"
    }
   ],
   "source": [
    "test_char_index = Unicode.julia_chartransform(test_unicode_char) |> Int"
   ]
  },
  {
   "cell_type": "markdown",
   "id": "cb3a6981-c508-4792-a125-60e0dd490228",
   "metadata": {},
   "source": [
    "Couldn't we also just do this:"
   ]
  },
  {
   "cell_type": "code",
   "execution_count": 18,
   "id": "9512b22d-b6ac-4608-821f-88bc8af9df43",
   "metadata": {},
   "outputs": [
    {
     "data": {
      "text/plain": [
       "127843"
      ]
     },
     "metadata": {},
     "output_type": "display_data"
    }
   ],
   "source": [
    "test_unicode_char |> Int # oh yeah!"
   ]
  },
  {
   "cell_type": "markdown",
   "id": "aa22c49a-69e4-45b4-9341-17103d20948b",
   "metadata": {},
   "source": [
    "So we can get the base 10 representation of the Unicode character. Now let's go from base 10 to the `U+xxxx` representation. Convert the base 10 value to a base 16 (hexadecimal) number and then convert that to the [Unicode index](https://en.wikipedia.org/wiki/Unicode) format. \n",
    "> __Hexadecimal digits__: Hexadecimal numbers use decimal digits $(0,1,\\dots,9)$ and six extra symbols; the letters `A`, `B`, `C`, `D`, `E`, and `F`, where hexadecimal `A` = decimal 10, through hexadecimal `F` = decimal 15.\n",
    "\n",
    "Let's start by building the `hexadecimal_digits_dictionary::Dict{Int64, Char}` dictionary which maps the index of a digit to the digit, e.g., `13 => D`."
   ]
  },
  {
   "cell_type": "code",
   "execution_count": 19,
   "id": "e33fd60b-6cbf-4bfe-8add-e042c87ca334",
   "metadata": {},
   "outputs": [
    {
     "data": {
      "text/plain": [
       "Dict{Int64, Char} with 16 entries:\n",
       "  5  => '5'\n",
       "  12 => 'C'\n",
       "  8  => '8'\n",
       "  1  => '1'\n",
       "  0  => '0'\n",
       "  6  => '6'\n",
       "  11 => 'B'\n",
       "  9  => '9'\n",
       "  14 => 'E'\n",
       "  3  => '3'\n",
       "  7  => '7'\n",
       "  4  => '4'\n",
       "  13 => 'D'\n",
       "  15 => 'F'\n",
       "  2  => '2'\n",
       "  10 => 'A'"
      ]
     },
     "metadata": {},
     "output_type": "display_data"
    }
   ],
   "source": [
    "hexadecimal_digits_dictionary = let\n",
    "\n",
    "    # initialize 0\n",
    "    hexadecimal_digits_dictionary = Dict{Int,Char}()\n",
    "    base = 16; # what base are using?\n",
    "\n",
    "    # loop: process each digit 0 -> 15\n",
    "    for i ∈ 0:(base - 1)\n",
    "        hexadecimal_digits_dictionary[i] = '0' + i |> Char # hmmm! This is whacky; why does this work?\n",
    "        if (i > 9)\n",
    "            hexadecimal_digits_dictionary[i] = 'A' + (i - 10) |> Char \n",
    "        end\n",
    "    end\n",
    "    hexadecimal_digits_dictionary # return\n",
    "end"
   ]
  },
  {
   "cell_type": "markdown",
   "id": "48c20090-9b54-4506-8704-6f49c23a0b39",
   "metadata": {},
   "source": [
    "#### Algorithm\n",
    "Next, let's specify and implement our first algorithm to convert a base 10 number into a Unicode character code. [Unicode](https://en.wikipedia.org/wiki/Unicode) left-pads the hexadecimal character value with zeros until a 5-digit code is generated, and then `U+` is appended to the five-digit code.\n",
    "\n",
    "__Initialize__: Specify a non-negative integer $x\\in\\mathbb{Z}_{\\geq{0}}$ value, and provide the `hexadecimal_digits_dictionary::Dict{Int64, Char}`. Set $i = 0$. Set $q = \\infty$.\n",
    "\n",
    "While $q$ not equal to `0` __do__:\n",
    "1.  Divide $x$ by `16` and store the quotient in $q$ and the remainder $R\\gets{r_{i}}$ in remainder array $R$.\n",
    "2.  Divide the quotient $q$ by `16` and write down the new quotient $q^{\\prime}$. Store the new remainder $R\\gets {r_{i}}$ in the remainder array $R$. Set $q\\gets{q}^{\\prime}$ and update the counter $i\\gets {i+1}$.\n",
    "3.  Repeat step 2 until $q = 0$.\n",
    "\n",
    "For each element of the remainder array $R$, look up the equivalent hexadecimal digit from the `hexadecimal_digits_dictionary`. Save the hexadecimal digits in the digits array $D$. Starting with the last value of $D$ and moving to the first, write each of the hexadecimal values. Left-pad with `0` characters until the length is `5`.\n",
    "\n",
    "We've implemented this algorithm below, does it work (do we get back the proper `U+xx..x` code?)"
   ]
  },
  {
   "cell_type": "code",
   "execution_count": 20,
   "id": "bd01ec9c-6c56-47a5-9e38-83f3df047732",
   "metadata": {},
   "outputs": [
    {
     "data": {
      "text/plain": [
       "\"U+1F363\""
      ]
     },
     "metadata": {},
     "output_type": "display_data"
    }
   ],
   "source": [
    "my_code_point = let\n",
    "\n",
    "    q = test_char_index; \n",
    "    remainder_array = Array{Int64,1}();\n",
    "    while (q != 0)\n",
    "        r = rem(q,16)\n",
    "        q = div(q,16)\n",
    "        push!(remainder_array,r)\n",
    "    end\n",
    "\n",
    "    my_code_point = \"\";\n",
    "    for i ∈ reverse(remainder_array)\n",
    "        tmp = hexadecimal_digits_dictionary[i];\n",
    "        my_code_point *= tmp |> Char;\n",
    "    end\n",
    "\n",
    "    # left pad with zeros to get a 4-digit code\n",
    "    my_code_point = lpad(my_code_point, 5, '0') |> x-> \"U+\"*x\n",
    "end"
   ]
  },
  {
   "cell_type": "markdown",
   "id": "d1e4f51e",
   "metadata": {},
   "source": [
    "## Tests\n",
    "In the code block below, we check some values in your notebook and give you feedback on which items are correct or different. `Unhide` the code block below (if you are curious) about how we implemented the tests and what we are testing."
   ]
  },
  {
   "cell_type": "code",
   "execution_count": 21,
   "id": "cbfd16aa",
   "metadata": {},
   "outputs": [
    {
     "name": "stdout",
     "output_type": "stream",
     "text": [
      "\u001b[0m\u001b[1mTest Summary:                          | \u001b[22m\u001b[32m\u001b[1mPass  \u001b[22m\u001b[39m\u001b[36m\u001b[1mTotal  \u001b[22m\u001b[39m\u001b[0m\u001b[1mTime\u001b[22m\n",
      "CHEME 4/5800 L2b Test Suite            | \u001b[32m  29  \u001b[39m\u001b[36m   29  \u001b[39m\u001b[0m0.3s\n",
      "  ASCII Character Dictionary           | \u001b[32m   5  \u001b[39m\u001b[36m    5  \u001b[39m\u001b[0m0.2s\n",
      "  Character to Integer Conversion      | \u001b[32m   4  \u001b[39m\u001b[36m    4  \u001b[39m\u001b[0m0.0s\n",
      "  Hexadecimal Digits Dictionary        | \u001b[32m   5  \u001b[39m\u001b[36m    5  \u001b[39m\u001b[0m0.0s\n",
      "  Unicode Code Point Conversion        | \u001b[32m   2  \u001b[39m\u001b[36m    2  \u001b[39m\u001b[0m0.0s\n",
      "  Character Set Operations             | \u001b[32m   5  \u001b[39m\u001b[36m    5  \u001b[39m\u001b[0m0.0s\n",
      "  Emoji Variable Operations            | \u001b[32m   4  \u001b[39m\u001b[36m    4  \u001b[39m\u001b[0m0.0s\n",
      "  String to Character Array Conversion | \u001b[32m   4  \u001b[39m\u001b[36m    4  \u001b[39m\u001b[0m0.0s\n"
     ]
    }
   ],
   "source": [
    "@testset verbose = true \"CHEME 4/5800 L2b Test Suite\" begin\n",
    "\n",
    "    @testset \"ASCII Character Dictionary\" begin\n",
    "        # Test that ASCII dictionary is created correctly\n",
    "        ascii_dict = let\n",
    "            ascii_dict = Dict{Int64, Char}()\n",
    "            ASCII_character_range = range(0,stop=127,step=1) |> collect\n",
    "            for i ∈ eachindex(ASCII_character_range)\n",
    "                my_ascii_char_index = ASCII_character_range[i]\n",
    "                c = convert(Char, my_ascii_char_index)\n",
    "                ascii_dict[my_ascii_char_index] = c\n",
    "            end\n",
    "            ascii_dict\n",
    "        end\n",
    "        \n",
    "        @test length(ascii_dict) == 128\n",
    "        @test ascii_dict[65] == 'A'\n",
    "        @test ascii_dict[97] == 'a'\n",
    "        @test ascii_dict[48] == '0'\n",
    "        @test haskey(ascii_dict, 127)\n",
    "    end\n",
    "\n",
    "    @testset \"Character to Integer Conversion\" begin\n",
    "        @test Int('A') == 65\n",
    "        @test Int('a') == 97\n",
    "        @test Int('0') == 48\n",
    "        @test Int('🍣') == 127843  # Sushi emoji code point\n",
    "    end\n",
    "\n",
    "    @testset \"Hexadecimal Digits Dictionary\" begin\n",
    "        hex_dict = let\n",
    "            hex_dict = Dict{Int,Char}()\n",
    "            base = 16\n",
    "            for i ∈ 0:(base - 1)\n",
    "                hex_dict[i] = '0' + i |> Char\n",
    "                if (i > 9)\n",
    "                    hex_dict[i] = 'A' + (i - 10) |> Char \n",
    "                end\n",
    "            end\n",
    "            hex_dict\n",
    "        end\n",
    "        \n",
    "        @test length(hex_dict) == 16\n",
    "        @test hex_dict[0] == '0'\n",
    "        @test hex_dict[9] == '9'\n",
    "        @test hex_dict[10] == 'A'\n",
    "        @test hex_dict[15] == 'F'\n",
    "    end\n",
    "\n",
    "    @testset \"Unicode Code Point Conversion\" begin\n",
    "        # Test the algorithm for converting base 10 to hexadecimal Unicode code point\n",
    "        test_char = '🍣'\n",
    "        test_char_index = Int(test_char)\n",
    "        \n",
    "        # Expected code point for sushi emoji\n",
    "        @test test_char_index == 127843\n",
    "        \n",
    "        # Test the conversion algorithm\n",
    "        hex_dict = let\n",
    "            hex_dict = Dict{Int,Char}()\n",
    "            base = 16\n",
    "            for i ∈ 0:(base - 1)\n",
    "                hex_dict[i] = '0' + i |> Char\n",
    "                if (i > 9)\n",
    "                    hex_dict[i] = 'A' + (i - 10) |> Char \n",
    "                end\n",
    "            end\n",
    "            hex_dict\n",
    "        end\n",
    "        \n",
    "        my_code_point = let\n",
    "            q = test_char_index\n",
    "            remainder_array = Array{Int64,1}()\n",
    "            while (q != 0)\n",
    "                r = rem(q,16)\n",
    "                q = div(q,16)\n",
    "                push!(remainder_array,r)\n",
    "            end\n",
    "\n",
    "            my_code_point = \"\"\n",
    "            for i ∈ reverse(remainder_array)\n",
    "                tmp = hex_dict[i]\n",
    "                my_code_point *= tmp |> Char\n",
    "            end\n",
    "\n",
    "            my_code_point = lpad(my_code_point, 5, '0') |> x-> \"U+\"*x\n",
    "        end\n",
    "        \n",
    "        @test my_code_point == \"U+1F363\"\n",
    "    end\n",
    "\n",
    "    @testset \"Character Set Operations\" begin\n",
    "        C = let\n",
    "            C = Set{Char}()\n",
    "            push!(C,'A')\n",
    "            push!(C,'B') \n",
    "            push!(C,'Q')\n",
    "            push!(C,'R')\n",
    "            push!(C,'S')\n",
    "            C\n",
    "        end\n",
    "        \n",
    "        @test length(C) == 5\n",
    "        @test 'A' ∈ C\n",
    "        @test 'B' ∈ C\n",
    "        @test 'Q' ∈ C\n",
    "        @test 'Z' ∉ C  # Z should not be in the set\n",
    "    end\n",
    "\n",
    "    @testset \"Emoji Variable Operations\" begin\n",
    "        🌽 = 16\n",
    "        🍣 = 4\n",
    "        \n",
    "        @test 🌽 + 🍣 == 20\n",
    "        @test 🌽 * 🍣 == 64\n",
    "        @test 🌽 ≥ 🍣\n",
    "        @test 🍣 < 🌽\n",
    "    end\n",
    "\n",
    "    @testset \"String to Character Array Conversion\" begin\n",
    "        test_string = \"Hello\"\n",
    "        char_array = test_string |> collect\n",
    "        \n",
    "        @test length(char_array) == 5\n",
    "        @test char_array[1] == 'H'\n",
    "        @test char_array[5] == 'o'\n",
    "        @test typeof(char_array) == Array{Char,1}\n",
    "    end\n",
    "end;"
   ]
  }
 ],
 "metadata": {
  "kernelspec": {
   "display_name": "Julia 1.11.6",
   "language": "julia",
   "name": "julia-1.11"
  },
  "language_info": {
   "file_extension": ".jl",
   "mimetype": "application/julia",
   "name": "julia",
   "version": "1.11.6"
  }
 },
 "nbformat": 4,
 "nbformat_minor": 5
}
