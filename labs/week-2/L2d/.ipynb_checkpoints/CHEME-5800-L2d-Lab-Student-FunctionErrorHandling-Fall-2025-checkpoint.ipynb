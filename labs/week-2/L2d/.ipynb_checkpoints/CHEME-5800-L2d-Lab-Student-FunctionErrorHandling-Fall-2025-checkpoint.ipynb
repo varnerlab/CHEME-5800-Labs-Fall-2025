{
 "cells": [
  {
   "cell_type": "markdown",
   "id": "ef850906-39b7-4c0e-b1b9-5bb627e3baf6",
   "metadata": {},
   "source": [
    "# L2d: Debug our Fibonacci Calculation\n",
    "In this lab, we'll continue the development of our Fibonacci sequence calculations. Previously, we constructed an empty `MyFibonacciSequenceModel` struct instance, by calling the default `MyFibonacciSequenceModel()` constructor method. \n",
    "\n",
    "> __Issue:__ In the lecture implementation, [the mutable `MyFibonacciSequenceModel` struct](src/Types.jl) instances were not properly initialized with the required fields. If a user was unaware of the implementation details, they could try to use this problem object and encounter errors.\n",
    "\n",
    "In this lab, we'll analyze and improve [a `build(...)` method](src/Factory.jl) which is responsible for properly constructing [`MyFibonacciSequenceModel` instances](src/Types.jl), where our build process should be robust to invalid inputs and ensure that the model is correctly initialized. We'll then pass this problem object to [the `fibonacci!(...)` method](src/Compute.jl) to see what happens.\n",
    "\n",
    "However, before we get going, break up into groups, and take __10 minutes__ to review the lab and its associated Julia files. \n",
    "___"
   ]
  },
  {
   "cell_type": "markdown",
   "id": "1207484a",
   "metadata": {},
   "source": [
    "## Setup, Data, and Prerequisites\n",
    "We set up the computational environment by including the `Include.jl` file and loading any needed resources.\n",
    "\n",
    "> __Include__: The [include command](https://docs.julialang.org/en/v1/base/base/#include) evaluates the contents of the input source file, `Include.jl`, in the notebook's global scope. The `Include.jl` file sets paths, loads required external packages, etc. \n",
    "\n",
    "Let's set up the computational environment."
   ]
  },
  {
   "cell_type": "code",
   "execution_count": 3,
   "id": "5c2f4bb0",
   "metadata": {},
   "outputs": [],
   "source": [
    "include(joinpath(@__DIR__, \"Include-student.jl\")); # what is this doing?"
   ]
  },
  {
   "cell_type": "markdown",
   "id": "da4260c0",
   "metadata": {},
   "source": [
    "For additional information on Julia functions and types used in this material, see the [Julia programming language documentation](https://docs.julialang.org/en/v1/). In addition, we'll also use [the `VLDataScienceMachineLearningPackage.jl` package](https://github.com/varnerlab/VLDataScienceMachineLearningPackage.jl). Check out [the documentation](https://varnerlab.github.io/VLDataScienceMachineLearningPackage.jl/dev/) for more information on its functions, types, and data. \n",
    "___"
   ]
  },
  {
   "cell_type": "markdown",
   "id": "fc23da0f",
   "metadata": {},
   "source": [
    "## Task 1: Create a build method for MyFibonacciSequenceModel\n",
    "In this task, we'll work with [a `build(...)` method](src/Factory.jl) in the [Factory.jl file](src/Factory.jl) that constructs a `MyFibonacciSequenceModel` instance with a specified size and default values for the other fields.\n",
    "\n",
    "This method will ensure that the model is properly initialized __before__ being passed [to the `fibonacci!(...)` method](src/Compute.jl).\n",
    "\n",
    "__Requirements__:\n",
    "* __Arguments__: The [`build(...)`](src/Factory.jl) method will take the type of thing we want to build, i.e., [`MyFibonacciSequenceModel`](src/Types.jl), the sequence size `n::Int` and the default value `defaultvalue::Int` parameters. These data will be passed into the build method as a `data::NamedTuple` instance, see [the documentation on NamedTuples here](https://docs.julialang.org/en/v1/base/base/#Core.NamedTuple). The `build(...)` method returns a properly constructed `MyFibonacciSequenceModel` instance.\n",
    "* __Error conditions__: If the required fields are missing or invalid, the method should return an error message and a `Nothing` value for the model being constructed.\n",
    "\n",
    "Break up into groups, and take __5 minutes__ to analyze [the `build(...)` method](src/Factory.jl).\n",
    "___"
   ]
  },
  {
   "cell_type": "markdown",
   "id": "954cf7a8",
   "metadata": {},
   "source": [
    "## Task 2: Let's test our build method\n",
    "In this task, we will test [the `build(...)` method](src/Factory.jl) to ensure it correctly constructs a `MyFibonacciSequenceModel` instance with the specified size and default values.\n",
    "\n",
    "> __Test cases.__ We'll consider several different test cases, where different values of `n` and `defaultvalue` are used to create the model instance. Sometimes these values will be valid, and sometimes they will not. However, [our `build(...)` method](src/Factory.jl) should handle these cases gracefully, returning a valid model instance or throwing an appropriate error.\n",
    "\n",
    "### Happy Path\n",
    "Let's start with the first case, the so called _happy path_, where we provide valid `n::Int64` and `defaultvalue::Int64` arguments to [the `build(...)` method](src/Factory.jl). This should return a properly constructed `MyFibonacciSequenceModel` instance:"
   ]
  },
  {
   "cell_type": "code",
   "execution_count": 7,
   "id": "494dbad5",
   "metadata": {},
   "outputs": [],
   "source": [
    "my_sequence_model = build(MyFibonacciSequenceModel, (n=10, defaultvalue=-1)); # build a new model"
   ]
  },
  {
   "cell_type": "code",
   "execution_count": 8,
   "id": "dbbb88e6-27de-4a39-95d6-378259b794aa",
   "metadata": {},
   "outputs": [
    {
     "data": {
      "text/plain": [
       "MyFibonacciSequenceModel(10, Dict(0 => 0, 4 => 0, 5 => 0, 6 => 0, 2 => 0, 7 => 0, 9 => 0, 8 => 0, 3 => 0, 1 => 0…))"
      ]
     },
     "execution_count": 8,
     "metadata": {},
     "output_type": "execute_result"
    }
   ],
   "source": [
    "my_sequence_model"
   ]
  },
  {
   "cell_type": "markdown",
   "id": "6163c07e",
   "metadata": {},
   "source": [
    "This seems to have run! But let's do a few checks to make sure we are doing what we think we are doing. \n",
    "\n",
    "* _Is the `my_sequence_model` instance the correct type?_ Let's check this using [the `isa(...)` method](https://docs.julialang.org/en/v1/base/base/#Core.isa) in combination with [the `@assert` macro](https://docs.julialang.org/en/v1/base/base/#Base.@assert) to ensure that the `my_sequence_model` instance is of type [`MyFibonacciSequenceModel`](src/Types.jl).\n",
    "* _Is the sequence dictionary initialized correctly?_ The `sequence::Dict{Int64,Int64}` dictionary should have a length equal to `n`, and all elements should be equal to the `defaultvalue`. We can use the [length(...) method](https://docs.julialang.org/en/v1/base/collections/#Base.length) to check the length of the `sequence` field, and [the all(...) method](https://docs.julialang.org/en/v1/base/collections/#Base.all-Tuple%7BAny%7D) to check that all elements are equal to the `defaultvalue`.\n",
    "\n",
    "If any of these checks fail, [an `AssertionError`](https://docs.julialang.org/en/v1/base/base/#Core.AssertionError) is thrown with a descriptive message."
   ]
  },
  {
   "cell_type": "code",
   "execution_count": 10,
   "id": "a81e8aa7",
   "metadata": {},
   "outputs": [],
   "source": [
    "let\n",
    "\n",
    "    # Check 1: Check the model type -\n",
    "    @assert my_sequence_model isa MyFibonacciSequenceModel \"Error: The model is not of type MyFibonacciSequenceModel\";\n",
    "\n",
    "    # Check 2: Check the sequence length and default values -\n",
    "    @assert length(my_sequence_model.sequence) == 10 \"Error: The sequence length is not equal to 10\";\n",
    "    @assert all(k -> my_sequence_model.sequence[k] == 0, keys(my_sequence_model.sequence)) \"Error: Not all sequence values are equal to 0\";\n",
    "end"
   ]
  },
  {
   "cell_type": "markdown",
   "id": "9aaa136f",
   "metadata": {},
   "source": [
    "### Error Handling\n",
    "If all our checks pass, then we know that when provided with the correct parameters, the model is built correctly. However, sometimes users make mistakes, they can't read our mind (or we did a bad job of documenting the code). So, let's also test some error cases where users enter invalid parameters.\n",
    "\n",
    "> __Current condition:__ Right now (with all the debugging checks disabled), [the `build(...)` method](src/Factory.jl) will blow up if we did not provide a valid `n::Int64` or `defaultvalue::Int64` parameter. \n",
    "\n",
    "What happens if we do not provide a `defaultvalue` parameter in `data::NamedTuple`?"
   ]
  },
  {
   "cell_type": "code",
   "execution_count": 12,
   "id": "1b068ee3",
   "metadata": {},
   "outputs": [
    {
     "name": "stderr",
     "output_type": "stream",
     "text": [
      "\u001b[91m\u001b[1m┌ \u001b[22m\u001b[39m\u001b[91m\u001b[1mError: \u001b[22m\u001b[39mOoops! Missing required field: defaultvalue. Cannot build the model, returning nothing.\n",
      "\u001b[91m\u001b[1m└ \u001b[22m\u001b[39m\u001b[90m@ Main ~/Desktop/julia_work/CHEME-5800-Fall-2025/CHEME-5800-Labs-Fall-2025/labs/week-2/L2d/src/Factory.jl:22\u001b[39m\n"
     ]
    }
   ],
   "source": [
    "my_sequence_model = build(MyFibonacciSequenceModel, (n=10,)); # build a new model"
   ]
  },
  {
   "cell_type": "code",
   "execution_count": 13,
   "id": "ece30936-1846-4140-95d5-45a01949828f",
   "metadata": {},
   "outputs": [],
   "source": [
    "my_sequence_model"
   ]
  },
  {
   "cell_type": "markdown",
   "id": "54805f7e",
   "metadata": {},
   "source": [
    "Without the `defaultvalue` parameter, the `build(...)` method will throw the error: __type NamedTuple has no field defaultvalue__ Let's handle this gracefully by ensuring that all parameters are provided. \n",
    "\n",
    "> `Uncomment` the first error handling block in the `build(...)` method, restart the Julia Kernel, and run all cells. The error checking logic checks that the required fields are provided in the `data::NamedTuple` instance. If a field is missing, an `ArgumentError` with a descriptive message is thrown.\n",
    "\n",
    "Rerun the [updated `build(...)` method](src/Factory.jl) with a `data::NamedTuple` instance that does not contain the `defaultvalue::Int64` field.  What happens now?"
   ]
  },
  {
   "cell_type": "code",
   "execution_count": 15,
   "id": "78be81c4",
   "metadata": {},
   "outputs": [
    {
     "name": "stderr",
     "output_type": "stream",
     "text": [
      "\u001b[91m\u001b[1m┌ \u001b[22m\u001b[39m\u001b[91m\u001b[1mError: \u001b[22m\u001b[39mOoops! Missing required field: defaultvalue. Cannot build the model, returning nothing.\n",
      "\u001b[91m\u001b[1m└ \u001b[22m\u001b[39m\u001b[90m@ Main ~/Desktop/julia_work/CHEME-5800-Fall-2025/CHEME-5800-Labs-Fall-2025/labs/week-2/L2d/src/Factory.jl:22\u001b[39m\n"
     ]
    }
   ],
   "source": [
    "my_sequence_model = build(MyFibonacciSequenceModel, (n=10,)); # build a new model"
   ]
  },
  {
   "cell_type": "markdown",
   "id": "5b497b79",
   "metadata": {},
   "source": [
    "Confirm that the model is not built, and the `my_sequence_model` instance is [`nothing`](https://docs.julialang.org/en/v1/base/constants/#Core.nothing) as expected. We can use the [`isnothing(...)`](https://docs.julialang.org/en/v1/base/base/#Base.isnothing) method in combination with [the `@assert` macro](https://docs.julialang.org/en/v1/base/base/#Base.@assert) to check if `my_sequence_model` is `nothing`."
   ]
  },
  {
   "cell_type": "code",
   "execution_count": 17,
   "id": "d3ebba76",
   "metadata": {},
   "outputs": [],
   "source": [
    "@assert isnothing(my_sequence_model) == true \"Error: The model should be nothing, but it contains data\";"
   ]
  },
  {
   "cell_type": "markdown",
   "id": "a32e1fd0",
   "metadata": {},
   "source": [
    "Next, let's check what happens if we provide an invalid `n` parameter. For example, if we provide a negative value for `n`, the `build(...)` method should throw an `ArgumentError` with a descriptive message. \n",
    "\n",
    "> __Current:__ Without the next block of error checking logic, [the `build(...)` method](src/Factory.jl) returns an empty `MyFibonacciSequenceModel` instance when passed bad values for the `n` parameter (or the `defaultvalue` parameter), which is not what we want (this is a strange state for the model to be in).\n",
    "\n",
    "> `Uncomment` the second and third error handling blocks in [the `build(...)` method](src/Factory.jl), restart the Julia Kernel and run all cells. \n",
    "\n",
    "> __What should happen?__ The error checking logic checks that the `n::Int64` parameter is a positive integer, and that the `defaultvalue::Int64` parameter is an integer. If either of these conditions is not met, a `warning` message is shown.\n",
    "\n",
    "So what do we see?"
   ]
  },
  {
   "cell_type": "code",
   "execution_count": 19,
   "id": "e717954d",
   "metadata": {},
   "outputs": [
    {
     "name": "stderr",
     "output_type": "stream",
     "text": [
      "\u001b[33m\u001b[1m┌ \u001b[22m\u001b[39m\u001b[33m\u001b[1mWarning: \u001b[22m\u001b[39mOoops! Invalid value for n: -10. Using default value: 10.\n",
      "\u001b[33m\u001b[1m└ \u001b[22m\u001b[39m\u001b[90m@ Main ~/Desktop/julia_work/CHEME-5800-Fall-2025/CHEME-5800-Labs-Fall-2025/labs/week-2/L2d/src/Factory.jl:38\u001b[39m\n"
     ]
    }
   ],
   "source": [
    "my_sequence_model = build(MyFibonacciSequenceModel, (n=-10, defaultvalue = -1)); # build a new model"
   ]
  },
  {
   "cell_type": "markdown",
   "id": "e03068ba",
   "metadata": {},
   "source": [
    "While this works a little better, we still have a problem. \n",
    "\n",
    "> __Problem:__ The [`build(...)` method](src/Factory.jl) returns an empty [`MyFibonacciSequenceModel` instance](src/Types.jl) when passed bad values for the `n::Int64` parameter, a default value for `n` is set on the model, but the `sequence::Dict{Int64,Int64}` dictionary is empty, which is not what we want (this is a strange state for the model to be in).\n",
    "\n",
    "What is stored in the `sequence::Dict{Int64,Int64}` dictionary?"
   ]
  },
  {
   "cell_type": "code",
   "execution_count": 21,
   "id": "2c781984",
   "metadata": {},
   "outputs": [
    {
     "data": {
      "text/plain": [
       "Dict{Int64, Int64} with 10 entries:\n",
       "  0 => -1\n",
       "  4 => -1\n",
       "  5 => -1\n",
       "  6 => -1\n",
       "  2 => -1\n",
       "  7 => -1\n",
       "  9 => -1\n",
       "  8 => -1\n",
       "  3 => -1\n",
       "  1 => -1"
      ]
     },
     "execution_count": 21,
     "metadata": {},
     "output_type": "execute_result"
    }
   ],
   "source": [
    "my_sequence_model.sequence"
   ]
  },
  {
   "cell_type": "markdown",
   "id": "bb2fcdbb",
   "metadata": {},
   "source": [
    "`Uncomment` the last error handling block in [the `build(...)` method](src/Factory.jl), restart the Julia Kernel and run all cells. The final error checking block fills the empty `sequence::Dict{Int64,Int64}` dictionary with the `defaultvalue::Int64` for all keys from `0` to `n-1`. "
   ]
  },
  {
   "cell_type": "code",
   "execution_count": 23,
   "id": "41e23c24",
   "metadata": {},
   "outputs": [
    {
     "name": "stderr",
     "output_type": "stream",
     "text": [
      "\u001b[33m\u001b[1m┌ \u001b[22m\u001b[39m\u001b[33m\u001b[1mWarning: \u001b[22m\u001b[39mOoops! Invalid value for n: -10. Using default value: 10.\n",
      "\u001b[33m\u001b[1m└ \u001b[22m\u001b[39m\u001b[90m@ Main ~/Desktop/julia_work/CHEME-5800-Fall-2025/CHEME-5800-Labs-Fall-2025/labs/week-2/L2d/src/Factory.jl:38\u001b[39m\n"
     ]
    }
   ],
   "source": [
    "my_sequence_model = build(MyFibonacciSequenceModel, (n=-10, defaultvalue = -1)); # build a new model"
   ]
  },
  {
   "cell_type": "markdown",
   "id": "f2be425c",
   "metadata": {},
   "source": [
    "We received a `warning` message, but a warning is not an error, so the `my_sequence_model` instance is still created, and we can use it to compute the Fibonacci numbers! Let's check the instance that gets returned [by the `build(...)` method](src/Factory.jl).\n",
    "> __Expectation__: We expect the `my_sequence_model` instance to not be `nothing`, the model will be [type `MyFibonacciSequenceModel`](src/Types.jl), and the `sequence::Dict{Int64,Int64}` dictionary should be populated with the default value for all keys from `0` to `n-1`.\n",
    "\n",
    "Let's check these four conditions using [the `@assert` macro](https://docs.julialang.org/en/v1/base/base/#Base.@assert):"
   ]
  },
  {
   "cell_type": "code",
   "execution_count": 25,
   "id": "6606e3d2",
   "metadata": {},
   "outputs": [],
   "source": [
    "let\n",
    "\n",
    "    # initialize -\n",
    "    correct_sequence_length = 10; # this is the default value for n\n",
    "    correct_default_value = -1; # this is the default value for the defaultvalue parameter\n",
    "\n",
    "    # Check 1: Check the model type -\n",
    "    @assert isnothing(my_sequence_model) == false \"Error: The model is nothing, it should be a MyFibonacciSequenceModel\";\n",
    "    @assert my_sequence_model isa MyFibonacciSequenceModel \"Error: The model is not of type MyFibonacciSequenceModel\";\n",
    "\n",
    "    # Check 2: Check the sequence length and default values -\n",
    "    @assert length(my_sequence_model.sequence) == correct_sequence_length \"Error: The sequence length is not equal to 10\";\n",
    "    @assert all(k -> my_sequence_model.sequence[k] == correct_default_value, keys(my_sequence_model.sequence)) \"Error: Not all sequence values are equal to -1\";\n",
    "end"
   ]
  },
  {
   "cell_type": "markdown",
   "id": "3da4039d",
   "metadata": {},
   "source": [
    "### Compute the sequence\n",
    "If all of our error handling is in place, we should be able to compute the Fibonacci sequence without any issues. Let's test this by calling [the `fibonacci!(...)` method](src/Compute.jl) on our `my_sequence_model::MyFibonacciSequenceModel` instance.\n",
    "\n",
    "You can play around with different values for `n` and `defaultvalue` to see how the model behaves."
   ]
  },
  {
   "cell_type": "code",
   "execution_count": 27,
   "id": "64063391",
   "metadata": {},
   "outputs": [
    {
     "name": "stdout",
     "output_type": "stream",
     "text": [
      "my_test_sequence_model = MyFibonacciSequenceModel(10, Dict(0 => 0, 4 => 0, 5 => 0, 6 => 0, 2 => 0, 7 => 0, 9 => 0, 8 => 0, 3 => 0, 1 => 0))\n"
     ]
    },
    {
     "name": "stderr",
     "output_type": "stream",
     "text": [
      "\u001b[36m\u001b[1m[ \u001b[22m\u001b[39m\u001b[36m\u001b[1mInfo: \u001b[22m\u001b[39mDebug message: We are using the for loop iteration model\n"
     ]
    },
    {
     "data": {
      "text/plain": [
       "(Dict(5 => 5, 8 => 21, 1 => 1, 0 => 0, 6 => 8, 9 => 34, 3 => 2, 7 => 13, 4 => 3, 2 => 1…), MyFibonacciSequenceModel(10, Dict(5 => 5, 8 => 21, 1 => 1, 0 => 0, 6 => 8, 9 => 34, 3 => 2, 7 => 13, 4 => 3, 2 => 1…)))"
      ]
     },
     "execution_count": 27,
     "metadata": {},
     "output_type": "execute_result"
    }
   ],
   "source": [
    "result, my_test_sequence_model = let\n",
    "\n",
    "    # initialize -\n",
    "    my_test_sequence_model = build(MyFibonacciSequenceModel, (\n",
    "        n = 10, # length of the sequence\n",
    "        defaultvalue = 0 # default value for the sequence elements\n",
    "    )); # build a new model\n",
    "\n",
    "    @show my_test_sequence_model\n",
    "\n",
    "    result = fibonacci!(my_test_sequence_model, \n",
    "        iterationmodel = MyForLoopIterationModel()); # compute the Fibonacci sequence\n",
    "\n",
    "    # return -\n",
    "    result, my_test_sequence_model\n",
    "end"
   ]
  },
  {
   "cell_type": "markdown",
   "id": "625121e5",
   "metadata": {},
   "source": [
    "## Summary\n",
    "\n",
    "__Congratulations!__ You have successfully completed the error handling and debugging lab. In this activity, you learned several important concepts:\n",
    "\n",
    "### Key Learning Outcomes:\n",
    "1. **Robust Factory Methods**: How to implement factory methods with comprehensive error checking that validate input parameters before object construction\n",
    "2. **Error vs. Warning Handling**: The difference between throwing errors (which stop execution) and issuing warnings (which allow execution to continue with default values)\n",
    "3. **Assertion Testing**: How to use the `@assert` macro to validate object state and ensure your code behaves as expected\n",
    "4. **Graceful Error Recovery**: Best practices for handling invalid inputs by returning meaningful error messages and `nothing` values rather than allowing the program to crash\n",
    "5. **Progressive Error Handling**: How to implement layered error checking that catches different types of problems at different stages\n",
    "\n",
    "### Best Practices Demonstrated:\n",
    "- Always validate input parameters in factory/constructor methods\n",
    "- Use descriptive error messages that help users understand what went wrong\n",
    "- Test both \"happy path\" scenarios and error conditions\n",
    "- Use assertions to validate that objects are in expected states\n",
    "- Design error handling that provides useful feedback rather than cryptic failures\n",
    "\n",
    "These skills will be essential as you develop more complex Julia applications where robust error handling can make the difference between a program that crashes unexpectedly and one that provides helpful feedback to users when things go wrong.\n",
    "___"
   ]
  }
 ],
 "metadata": {
  "kernelspec": {
   "display_name": "Julia 1.11.6",
   "language": "julia",
   "name": "julia-1.11"
  },
  "language_info": {
   "file_extension": ".jl",
   "mimetype": "application/julia",
   "name": "julia",
   "version": "1.11.6"
  }
 },
 "nbformat": 4,
 "nbformat_minor": 5
}
